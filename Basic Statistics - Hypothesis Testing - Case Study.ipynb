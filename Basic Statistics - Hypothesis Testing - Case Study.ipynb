{
 "cells": [
  {
   "cell_type": "markdown",
   "id": "43707670",
   "metadata": {},
   "source": [
    "# Basic Statistics Case Study"
   ]
  },
  {
   "cell_type": "code",
   "execution_count": 395,
   "id": "b385d4cb",
   "metadata": {},
   "outputs": [],
   "source": [
    "# Import the necessary libraries (pandas, numpy)\n",
    "\n",
    "import numpy as np\n",
    "import pandas as pd\n",
    "import matplotlib.pyplot as plt\n",
    "import datetime as dt\n",
    "import seaborn as sns\n",
    "\n",
    "# set the graphs to show in the jupyter notebook\n",
    "%matplotlib inline\n",
    "\n",
    "# set seaborn graphs to a better style\n",
    "sns.set(style= 'ticks')\n",
    "\n",
    "# for hypothesis testing\n",
    "import scipy.stats as stats\n",
    "\n",
    "# to remove warnings\n",
    "import warnings\n",
    "warnings.filterwarnings('ignore')"
   ]
  },
  {
   "cell_type": "markdown",
   "id": "7e4b343d",
   "metadata": {},
   "source": [
    "## BUSINESS PROBLEM-1"
   ]
  },
  {
   "cell_type": "code",
   "execution_count": 396,
   "id": "d8c71798",
   "metadata": {},
   "outputs": [],
   "source": [
    "# Reading the files\n",
    "\n",
    "Loan_data = pd.read_csv(r'C:\\Users\\91896\\OneDrive\\Desktop\\AnalytixLabs\\PYTHON ASSIGNMENT AND CASE STUDIES\\PYTHON CASE STUDIES\\Basic Statistics - Hypothesis Testing\\4. Basic Statistics - Hypothesis Testing\\LoansData.csv')"
   ]
  },
  {
   "cell_type": "code",
   "execution_count": 397,
   "id": "289dc231",
   "metadata": {},
   "outputs": [
    {
     "data": {
      "text/html": [
       "<div>\n",
       "<style scoped>\n",
       "    .dataframe tbody tr th:only-of-type {\n",
       "        vertical-align: middle;\n",
       "    }\n",
       "\n",
       "    .dataframe tbody tr th {\n",
       "        vertical-align: top;\n",
       "    }\n",
       "\n",
       "    .dataframe thead th {\n",
       "        text-align: right;\n",
       "    }\n",
       "</style>\n",
       "<table border=\"1\" class=\"dataframe\">\n",
       "  <thead>\n",
       "    <tr style=\"text-align: right;\">\n",
       "      <th></th>\n",
       "      <th>Amount.Requested</th>\n",
       "      <th>Amount.Funded.By.Investors</th>\n",
       "      <th>Interest.Rate</th>\n",
       "      <th>Loan.Length</th>\n",
       "      <th>Loan.Purpose</th>\n",
       "      <th>Debt.To.Income.Ratio</th>\n",
       "      <th>State</th>\n",
       "      <th>Home.Ownership</th>\n",
       "      <th>Monthly.Income</th>\n",
       "      <th>FICO.Range</th>\n",
       "      <th>Open.CREDIT.Lines</th>\n",
       "      <th>Revolving.CREDIT.Balance</th>\n",
       "      <th>Inquiries.in.the.Last.6.Months</th>\n",
       "      <th>Employment.Length</th>\n",
       "    </tr>\n",
       "  </thead>\n",
       "  <tbody>\n",
       "    <tr>\n",
       "      <th>0</th>\n",
       "      <td>20000.0</td>\n",
       "      <td>20000.00</td>\n",
       "      <td>8.90%</td>\n",
       "      <td>36 months</td>\n",
       "      <td>debt_consolidation</td>\n",
       "      <td>14.90%</td>\n",
       "      <td>SC</td>\n",
       "      <td>MORTGAGE</td>\n",
       "      <td>6541.67</td>\n",
       "      <td>735-739</td>\n",
       "      <td>14.0</td>\n",
       "      <td>14272.0</td>\n",
       "      <td>2.0</td>\n",
       "      <td>&lt; 1 year</td>\n",
       "    </tr>\n",
       "    <tr>\n",
       "      <th>1</th>\n",
       "      <td>19200.0</td>\n",
       "      <td>19200.00</td>\n",
       "      <td>12.12%</td>\n",
       "      <td>36 months</td>\n",
       "      <td>debt_consolidation</td>\n",
       "      <td>28.36%</td>\n",
       "      <td>TX</td>\n",
       "      <td>MORTGAGE</td>\n",
       "      <td>4583.33</td>\n",
       "      <td>715-719</td>\n",
       "      <td>12.0</td>\n",
       "      <td>11140.0</td>\n",
       "      <td>1.0</td>\n",
       "      <td>2 years</td>\n",
       "    </tr>\n",
       "    <tr>\n",
       "      <th>2</th>\n",
       "      <td>35000.0</td>\n",
       "      <td>35000.00</td>\n",
       "      <td>21.98%</td>\n",
       "      <td>60 months</td>\n",
       "      <td>debt_consolidation</td>\n",
       "      <td>23.81%</td>\n",
       "      <td>CA</td>\n",
       "      <td>MORTGAGE</td>\n",
       "      <td>11500.00</td>\n",
       "      <td>690-694</td>\n",
       "      <td>14.0</td>\n",
       "      <td>21977.0</td>\n",
       "      <td>1.0</td>\n",
       "      <td>2 years</td>\n",
       "    </tr>\n",
       "    <tr>\n",
       "      <th>3</th>\n",
       "      <td>10000.0</td>\n",
       "      <td>9975.00</td>\n",
       "      <td>9.99%</td>\n",
       "      <td>36 months</td>\n",
       "      <td>debt_consolidation</td>\n",
       "      <td>14.30%</td>\n",
       "      <td>KS</td>\n",
       "      <td>MORTGAGE</td>\n",
       "      <td>3833.33</td>\n",
       "      <td>695-699</td>\n",
       "      <td>10.0</td>\n",
       "      <td>9346.0</td>\n",
       "      <td>0.0</td>\n",
       "      <td>5 years</td>\n",
       "    </tr>\n",
       "    <tr>\n",
       "      <th>4</th>\n",
       "      <td>12000.0</td>\n",
       "      <td>12000.00</td>\n",
       "      <td>11.71%</td>\n",
       "      <td>36 months</td>\n",
       "      <td>credit_card</td>\n",
       "      <td>18.78%</td>\n",
       "      <td>NJ</td>\n",
       "      <td>RENT</td>\n",
       "      <td>3195.00</td>\n",
       "      <td>695-699</td>\n",
       "      <td>11.0</td>\n",
       "      <td>14469.0</td>\n",
       "      <td>0.0</td>\n",
       "      <td>9 years</td>\n",
       "    </tr>\n",
       "    <tr>\n",
       "      <th>...</th>\n",
       "      <td>...</td>\n",
       "      <td>...</td>\n",
       "      <td>...</td>\n",
       "      <td>...</td>\n",
       "      <td>...</td>\n",
       "      <td>...</td>\n",
       "      <td>...</td>\n",
       "      <td>...</td>\n",
       "      <td>...</td>\n",
       "      <td>...</td>\n",
       "      <td>...</td>\n",
       "      <td>...</td>\n",
       "      <td>...</td>\n",
       "      <td>...</td>\n",
       "    </tr>\n",
       "    <tr>\n",
       "      <th>2495</th>\n",
       "      <td>30000.0</td>\n",
       "      <td>29950.00</td>\n",
       "      <td>16.77%</td>\n",
       "      <td>60 months</td>\n",
       "      <td>debt_consolidation</td>\n",
       "      <td>19.23%</td>\n",
       "      <td>NY</td>\n",
       "      <td>MORTGAGE</td>\n",
       "      <td>9250.00</td>\n",
       "      <td>705-709</td>\n",
       "      <td>15.0</td>\n",
       "      <td>45880.0</td>\n",
       "      <td>1.0</td>\n",
       "      <td>8 years</td>\n",
       "    </tr>\n",
       "    <tr>\n",
       "      <th>2496</th>\n",
       "      <td>16000.0</td>\n",
       "      <td>16000.00</td>\n",
       "      <td>14.09%</td>\n",
       "      <td>60 months</td>\n",
       "      <td>home_improvement</td>\n",
       "      <td>21.54%</td>\n",
       "      <td>MD</td>\n",
       "      <td>OWN</td>\n",
       "      <td>8903.25</td>\n",
       "      <td>740-744</td>\n",
       "      <td>18.0</td>\n",
       "      <td>18898.0</td>\n",
       "      <td>1.0</td>\n",
       "      <td>10+ years</td>\n",
       "    </tr>\n",
       "    <tr>\n",
       "      <th>2497</th>\n",
       "      <td>10000.0</td>\n",
       "      <td>10000.00</td>\n",
       "      <td>13.99%</td>\n",
       "      <td>36 months</td>\n",
       "      <td>debt_consolidation</td>\n",
       "      <td>4.89%</td>\n",
       "      <td>PA</td>\n",
       "      <td>MORTGAGE</td>\n",
       "      <td>2166.67</td>\n",
       "      <td>680-684</td>\n",
       "      <td>4.0</td>\n",
       "      <td>4544.0</td>\n",
       "      <td>0.0</td>\n",
       "      <td>10+ years</td>\n",
       "    </tr>\n",
       "    <tr>\n",
       "      <th>2498</th>\n",
       "      <td>6000.0</td>\n",
       "      <td>6000.00</td>\n",
       "      <td>12.42%</td>\n",
       "      <td>36 months</td>\n",
       "      <td>major_purchase</td>\n",
       "      <td>16.66%</td>\n",
       "      <td>NJ</td>\n",
       "      <td>RENT</td>\n",
       "      <td>3500.00</td>\n",
       "      <td>675-679</td>\n",
       "      <td>8.0</td>\n",
       "      <td>7753.0</td>\n",
       "      <td>0.0</td>\n",
       "      <td>5 years</td>\n",
       "    </tr>\n",
       "    <tr>\n",
       "      <th>2499</th>\n",
       "      <td>9000.0</td>\n",
       "      <td>5242.75</td>\n",
       "      <td>13.79%</td>\n",
       "      <td>36 months</td>\n",
       "      <td>debt_consolidation</td>\n",
       "      <td>6.76%</td>\n",
       "      <td>NY</td>\n",
       "      <td>RENT</td>\n",
       "      <td>3875.00</td>\n",
       "      <td>670-674</td>\n",
       "      <td>7.0</td>\n",
       "      <td>7589.0</td>\n",
       "      <td>0.0</td>\n",
       "      <td>10+ years</td>\n",
       "    </tr>\n",
       "  </tbody>\n",
       "</table>\n",
       "<p>2500 rows × 14 columns</p>\n",
       "</div>"
      ],
      "text/plain": [
       "      Amount.Requested  Amount.Funded.By.Investors Interest.Rate Loan.Length  \\\n",
       "0              20000.0                    20000.00         8.90%   36 months   \n",
       "1              19200.0                    19200.00        12.12%   36 months   \n",
       "2              35000.0                    35000.00        21.98%   60 months   \n",
       "3              10000.0                     9975.00         9.99%   36 months   \n",
       "4              12000.0                    12000.00        11.71%   36 months   \n",
       "...                ...                         ...           ...         ...   \n",
       "2495           30000.0                    29950.00        16.77%   60 months   \n",
       "2496           16000.0                    16000.00        14.09%   60 months   \n",
       "2497           10000.0                    10000.00        13.99%   36 months   \n",
       "2498            6000.0                     6000.00        12.42%   36 months   \n",
       "2499            9000.0                     5242.75        13.79%   36 months   \n",
       "\n",
       "            Loan.Purpose Debt.To.Income.Ratio State Home.Ownership  \\\n",
       "0     debt_consolidation               14.90%    SC       MORTGAGE   \n",
       "1     debt_consolidation               28.36%    TX       MORTGAGE   \n",
       "2     debt_consolidation               23.81%    CA       MORTGAGE   \n",
       "3     debt_consolidation               14.30%    KS       MORTGAGE   \n",
       "4            credit_card               18.78%    NJ           RENT   \n",
       "...                  ...                  ...   ...            ...   \n",
       "2495  debt_consolidation               19.23%    NY       MORTGAGE   \n",
       "2496    home_improvement               21.54%    MD            OWN   \n",
       "2497  debt_consolidation                4.89%    PA       MORTGAGE   \n",
       "2498      major_purchase               16.66%    NJ           RENT   \n",
       "2499  debt_consolidation                6.76%    NY           RENT   \n",
       "\n",
       "      Monthly.Income FICO.Range  Open.CREDIT.Lines  Revolving.CREDIT.Balance  \\\n",
       "0            6541.67    735-739               14.0                   14272.0   \n",
       "1            4583.33    715-719               12.0                   11140.0   \n",
       "2           11500.00    690-694               14.0                   21977.0   \n",
       "3            3833.33    695-699               10.0                    9346.0   \n",
       "4            3195.00    695-699               11.0                   14469.0   \n",
       "...              ...        ...                ...                       ...   \n",
       "2495         9250.00    705-709               15.0                   45880.0   \n",
       "2496         8903.25    740-744               18.0                   18898.0   \n",
       "2497         2166.67    680-684                4.0                    4544.0   \n",
       "2498         3500.00    675-679                8.0                    7753.0   \n",
       "2499         3875.00    670-674                7.0                    7589.0   \n",
       "\n",
       "      Inquiries.in.the.Last.6.Months Employment.Length  \n",
       "0                                2.0          < 1 year  \n",
       "1                                1.0           2 years  \n",
       "2                                1.0           2 years  \n",
       "3                                0.0           5 years  \n",
       "4                                0.0           9 years  \n",
       "...                              ...               ...  \n",
       "2495                             1.0           8 years  \n",
       "2496                             1.0         10+ years  \n",
       "2497                             0.0         10+ years  \n",
       "2498                             0.0           5 years  \n",
       "2499                             0.0         10+ years  \n",
       "\n",
       "[2500 rows x 14 columns]"
      ]
     },
     "execution_count": 397,
     "metadata": {},
     "output_type": "execute_result"
    }
   ],
   "source": [
    "Loan_data\n"
   ]
  },
  {
   "cell_type": "code",
   "execution_count": 398,
   "id": "8597857b",
   "metadata": {},
   "outputs": [
    {
     "data": {
      "text/plain": [
       "(2500, 14)"
      ]
     },
     "execution_count": 398,
     "metadata": {},
     "output_type": "execute_result"
    }
   ],
   "source": [
    "# checking shape of df\n",
    "Loan_data.shape"
   ]
  },
  {
   "cell_type": "code",
   "execution_count": 399,
   "id": "b1b79717",
   "metadata": {},
   "outputs": [
    {
     "name": "stdout",
     "output_type": "stream",
     "text": [
      "<class 'pandas.core.frame.DataFrame'>\n",
      "RangeIndex: 2500 entries, 0 to 2499\n",
      "Data columns (total 14 columns):\n",
      " #   Column                          Non-Null Count  Dtype  \n",
      "---  ------                          --------------  -----  \n",
      " 0   Amount.Requested                2499 non-null   float64\n",
      " 1   Amount.Funded.By.Investors      2499 non-null   float64\n",
      " 2   Interest.Rate                   2498 non-null   object \n",
      " 3   Loan.Length                     2500 non-null   object \n",
      " 4   Loan.Purpose                    2500 non-null   object \n",
      " 5   Debt.To.Income.Ratio            2499 non-null   object \n",
      " 6   State                           2500 non-null   object \n",
      " 7   Home.Ownership                  2499 non-null   object \n",
      " 8   Monthly.Income                  2499 non-null   float64\n",
      " 9   FICO.Range                      2498 non-null   object \n",
      " 10  Open.CREDIT.Lines               2497 non-null   float64\n",
      " 11  Revolving.CREDIT.Balance        2497 non-null   float64\n",
      " 12  Inquiries.in.the.Last.6.Months  2497 non-null   float64\n",
      " 13  Employment.Length               2423 non-null   object \n",
      "dtypes: float64(6), object(8)\n",
      "memory usage: 273.6+ KB\n"
     ]
    }
   ],
   "source": [
    "# checking datatypes\n",
    "Loan_data.info()"
   ]
  },
  {
   "cell_type": "code",
   "execution_count": 400,
   "id": "10b41304",
   "metadata": {},
   "outputs": [
    {
     "data": {
      "text/plain": [
       "Amount.Requested                   1\n",
       "Amount.Funded.By.Investors         1\n",
       "Interest.Rate                      2\n",
       "Loan.Length                        0\n",
       "Loan.Purpose                       0\n",
       "Debt.To.Income.Ratio               1\n",
       "State                              0\n",
       "Home.Ownership                     1\n",
       "Monthly.Income                     1\n",
       "FICO.Range                         2\n",
       "Open.CREDIT.Lines                  3\n",
       "Revolving.CREDIT.Balance           3\n",
       "Inquiries.in.the.Last.6.Months     3\n",
       "Employment.Length                 77\n",
       "dtype: int64"
      ]
     },
     "execution_count": 400,
     "metadata": {},
     "output_type": "execute_result"
    }
   ],
   "source": [
    "# checking for null values\n",
    "Loan_data.isna().sum()"
   ]
  },
  {
   "cell_type": "code",
   "execution_count": 401,
   "id": "5e5ccc52",
   "metadata": {},
   "outputs": [
    {
     "data": {
      "text/plain": [
       "0"
      ]
     },
     "execution_count": 401,
     "metadata": {},
     "output_type": "execute_result"
    }
   ],
   "source": [
    "# checking for duplicate values in the df\n",
    "Loan_data.duplicated().sum()"
   ]
  },
  {
   "cell_type": "markdown",
   "id": "92770453",
   "metadata": {},
   "source": [
    "### Data Preparation"
   ]
  },
  {
   "cell_type": "code",
   "execution_count": 402,
   "id": "2588306a",
   "metadata": {},
   "outputs": [],
   "source": [
    "# Renaming column names\n",
    "Loan_data.columns = Loan_data.columns.str.replace('.','_')"
   ]
  },
  {
   "cell_type": "code",
   "execution_count": 403,
   "id": "abaf342c",
   "metadata": {},
   "outputs": [
    {
     "data": {
      "text/html": [
       "<div>\n",
       "<style scoped>\n",
       "    .dataframe tbody tr th:only-of-type {\n",
       "        vertical-align: middle;\n",
       "    }\n",
       "\n",
       "    .dataframe tbody tr th {\n",
       "        vertical-align: top;\n",
       "    }\n",
       "\n",
       "    .dataframe thead th {\n",
       "        text-align: right;\n",
       "    }\n",
       "</style>\n",
       "<table border=\"1\" class=\"dataframe\">\n",
       "  <thead>\n",
       "    <tr style=\"text-align: right;\">\n",
       "      <th></th>\n",
       "      <th>Amount_Requested</th>\n",
       "      <th>Amount_Funded_By_Investors</th>\n",
       "      <th>Interest_Rate</th>\n",
       "      <th>Loan_Length</th>\n",
       "      <th>Loan_Purpose</th>\n",
       "      <th>Debt_To_Income_Ratio</th>\n",
       "      <th>State</th>\n",
       "      <th>Home_Ownership</th>\n",
       "      <th>Monthly_Income</th>\n",
       "      <th>FICO_Range</th>\n",
       "      <th>Open_CREDIT_Lines</th>\n",
       "      <th>Revolving_CREDIT_Balance</th>\n",
       "      <th>Inquiries_in_the_Last_6_Months</th>\n",
       "      <th>Employment_Length</th>\n",
       "    </tr>\n",
       "  </thead>\n",
       "  <tbody>\n",
       "    <tr>\n",
       "      <th>0</th>\n",
       "      <td>20000.0</td>\n",
       "      <td>20000.0</td>\n",
       "      <td>8.90%</td>\n",
       "      <td>36 months</td>\n",
       "      <td>debt_consolidation</td>\n",
       "      <td>14.90%</td>\n",
       "      <td>SC</td>\n",
       "      <td>MORTGAGE</td>\n",
       "      <td>6541.67</td>\n",
       "      <td>735-739</td>\n",
       "      <td>14.0</td>\n",
       "      <td>14272.0</td>\n",
       "      <td>2.0</td>\n",
       "      <td>&lt; 1 year</td>\n",
       "    </tr>\n",
       "    <tr>\n",
       "      <th>1</th>\n",
       "      <td>19200.0</td>\n",
       "      <td>19200.0</td>\n",
       "      <td>12.12%</td>\n",
       "      <td>36 months</td>\n",
       "      <td>debt_consolidation</td>\n",
       "      <td>28.36%</td>\n",
       "      <td>TX</td>\n",
       "      <td>MORTGAGE</td>\n",
       "      <td>4583.33</td>\n",
       "      <td>715-719</td>\n",
       "      <td>12.0</td>\n",
       "      <td>11140.0</td>\n",
       "      <td>1.0</td>\n",
       "      <td>2 years</td>\n",
       "    </tr>\n",
       "    <tr>\n",
       "      <th>2</th>\n",
       "      <td>35000.0</td>\n",
       "      <td>35000.0</td>\n",
       "      <td>21.98%</td>\n",
       "      <td>60 months</td>\n",
       "      <td>debt_consolidation</td>\n",
       "      <td>23.81%</td>\n",
       "      <td>CA</td>\n",
       "      <td>MORTGAGE</td>\n",
       "      <td>11500.00</td>\n",
       "      <td>690-694</td>\n",
       "      <td>14.0</td>\n",
       "      <td>21977.0</td>\n",
       "      <td>1.0</td>\n",
       "      <td>2 years</td>\n",
       "    </tr>\n",
       "  </tbody>\n",
       "</table>\n",
       "</div>"
      ],
      "text/plain": [
       "   Amount_Requested  Amount_Funded_By_Investors Interest_Rate Loan_Length  \\\n",
       "0           20000.0                     20000.0         8.90%   36 months   \n",
       "1           19200.0                     19200.0        12.12%   36 months   \n",
       "2           35000.0                     35000.0        21.98%   60 months   \n",
       "\n",
       "         Loan_Purpose Debt_To_Income_Ratio State Home_Ownership  \\\n",
       "0  debt_consolidation               14.90%    SC       MORTGAGE   \n",
       "1  debt_consolidation               28.36%    TX       MORTGAGE   \n",
       "2  debt_consolidation               23.81%    CA       MORTGAGE   \n",
       "\n",
       "   Monthly_Income FICO_Range  Open_CREDIT_Lines  Revolving_CREDIT_Balance  \\\n",
       "0         6541.67    735-739               14.0                   14272.0   \n",
       "1         4583.33    715-719               12.0                   11140.0   \n",
       "2        11500.00    690-694               14.0                   21977.0   \n",
       "\n",
       "   Inquiries_in_the_Last_6_Months Employment_Length  \n",
       "0                             2.0          < 1 year  \n",
       "1                             1.0           2 years  \n",
       "2                             1.0           2 years  "
      ]
     },
     "execution_count": 403,
     "metadata": {},
     "output_type": "execute_result"
    }
   ],
   "source": [
    "Loan_data.head(3)"
   ]
  },
  {
   "cell_type": "code",
   "execution_count": 404,
   "id": "dede1398",
   "metadata": {},
   "outputs": [],
   "source": [
    "# replacing the % sign and changing datatype of below column\n",
    "Loan_data['Interest_Rate'] =Loan_data.Interest_Rate.str.replace('%','').apply(pd.to_numeric)"
   ]
  },
  {
   "cell_type": "code",
   "execution_count": 405,
   "id": "5ede32e5",
   "metadata": {},
   "outputs": [],
   "source": [
    "# replacing the % sign and changing datatype of below column\n",
    "Loan_data['Debt_To_Income_Ratio'] =Loan_data.Debt_To_Income_Ratio.str.replace('%','').apply(pd.to_numeric)"
   ]
  },
  {
   "cell_type": "code",
   "execution_count": 406,
   "id": "37ae7d9a",
   "metadata": {},
   "outputs": [
    {
     "name": "stdout",
     "output_type": "stream",
     "text": [
      "<class 'pandas.core.frame.DataFrame'>\n",
      "RangeIndex: 2500 entries, 0 to 2499\n",
      "Data columns (total 14 columns):\n",
      " #   Column                          Non-Null Count  Dtype  \n",
      "---  ------                          --------------  -----  \n",
      " 0   Amount_Requested                2499 non-null   float64\n",
      " 1   Amount_Funded_By_Investors      2499 non-null   float64\n",
      " 2   Interest_Rate                   2498 non-null   float64\n",
      " 3   Loan_Length                     2500 non-null   object \n",
      " 4   Loan_Purpose                    2500 non-null   object \n",
      " 5   Debt_To_Income_Ratio            2499 non-null   float64\n",
      " 6   State                           2500 non-null   object \n",
      " 7   Home_Ownership                  2499 non-null   object \n",
      " 8   Monthly_Income                  2499 non-null   float64\n",
      " 9   FICO_Range                      2498 non-null   object \n",
      " 10  Open_CREDIT_Lines               2497 non-null   float64\n",
      " 11  Revolving_CREDIT_Balance        2497 non-null   float64\n",
      " 12  Inquiries_in_the_Last_6_Months  2497 non-null   float64\n",
      " 13  Employment_Length               2423 non-null   object \n",
      "dtypes: float64(8), object(6)\n",
      "memory usage: 273.6+ KB\n"
     ]
    }
   ],
   "source": [
    "Loan_data.info()"
   ]
  },
  {
   "cell_type": "code",
   "execution_count": 407,
   "id": "aada703f",
   "metadata": {},
   "outputs": [],
   "source": [
    "# we will fill the null values in the above df for hypothesis testing\n",
    "\n",
    "Loan_data['Amount_Requested'].fillna(round(Loan_data['Amount_Requested'].mean(),1), inplace=True)\n",
    "Loan_data['Amount_Funded_By_Investors'].fillna(round(Loan_data['Amount_Funded_By_Investors'].mean(),2), inplace=True)\n",
    "Loan_data['Interest_Rate'].fillna(round(Loan_data['Interest_Rate'].mean(),2), inplace=True)\n",
    "Loan_data['FICO_Range'].fillna('670-674', inplace=True)\n",
    "Loan_data['Home_Ownership'].fillna('MORTGAGE', inplace=True)"
   ]
  },
  {
   "cell_type": "code",
   "execution_count": 408,
   "id": "ee368672",
   "metadata": {},
   "outputs": [],
   "source": [
    "# dropping the column employment length because of no use and leaving all other columns as it is because of no use in further analysis\n",
    "\n",
    "Loan_data.drop(columns='Employment_Length', inplace=True)"
   ]
  },
  {
   "cell_type": "code",
   "execution_count": 409,
   "id": "34f562e1",
   "metadata": {},
   "outputs": [
    {
     "data": {
      "text/html": [
       "<div>\n",
       "<style scoped>\n",
       "    .dataframe tbody tr th:only-of-type {\n",
       "        vertical-align: middle;\n",
       "    }\n",
       "\n",
       "    .dataframe tbody tr th {\n",
       "        vertical-align: top;\n",
       "    }\n",
       "\n",
       "    .dataframe thead th {\n",
       "        text-align: right;\n",
       "    }\n",
       "</style>\n",
       "<table border=\"1\" class=\"dataframe\">\n",
       "  <thead>\n",
       "    <tr style=\"text-align: right;\">\n",
       "      <th></th>\n",
       "      <th>Amount_Requested</th>\n",
       "      <th>Amount_Funded_By_Investors</th>\n",
       "      <th>Interest_Rate</th>\n",
       "      <th>Loan_Length</th>\n",
       "      <th>Loan_Purpose</th>\n",
       "      <th>Debt_To_Income_Ratio</th>\n",
       "      <th>State</th>\n",
       "      <th>Home_Ownership</th>\n",
       "      <th>Monthly_Income</th>\n",
       "      <th>FICO_Range</th>\n",
       "      <th>Open_CREDIT_Lines</th>\n",
       "      <th>Revolving_CREDIT_Balance</th>\n",
       "      <th>Inquiries_in_the_Last_6_Months</th>\n",
       "    </tr>\n",
       "  </thead>\n",
       "  <tbody>\n",
       "    <tr>\n",
       "      <th>0</th>\n",
       "      <td>20000.0</td>\n",
       "      <td>20000.0</td>\n",
       "      <td>8.90</td>\n",
       "      <td>36 months</td>\n",
       "      <td>debt_consolidation</td>\n",
       "      <td>14.90</td>\n",
       "      <td>SC</td>\n",
       "      <td>MORTGAGE</td>\n",
       "      <td>6541.67</td>\n",
       "      <td>735-739</td>\n",
       "      <td>14.0</td>\n",
       "      <td>14272.0</td>\n",
       "      <td>2.0</td>\n",
       "    </tr>\n",
       "    <tr>\n",
       "      <th>1</th>\n",
       "      <td>19200.0</td>\n",
       "      <td>19200.0</td>\n",
       "      <td>12.12</td>\n",
       "      <td>36 months</td>\n",
       "      <td>debt_consolidation</td>\n",
       "      <td>28.36</td>\n",
       "      <td>TX</td>\n",
       "      <td>MORTGAGE</td>\n",
       "      <td>4583.33</td>\n",
       "      <td>715-719</td>\n",
       "      <td>12.0</td>\n",
       "      <td>11140.0</td>\n",
       "      <td>1.0</td>\n",
       "    </tr>\n",
       "    <tr>\n",
       "      <th>2</th>\n",
       "      <td>35000.0</td>\n",
       "      <td>35000.0</td>\n",
       "      <td>21.98</td>\n",
       "      <td>60 months</td>\n",
       "      <td>debt_consolidation</td>\n",
       "      <td>23.81</td>\n",
       "      <td>CA</td>\n",
       "      <td>MORTGAGE</td>\n",
       "      <td>11500.00</td>\n",
       "      <td>690-694</td>\n",
       "      <td>14.0</td>\n",
       "      <td>21977.0</td>\n",
       "      <td>1.0</td>\n",
       "    </tr>\n",
       "    <tr>\n",
       "      <th>3</th>\n",
       "      <td>10000.0</td>\n",
       "      <td>9975.0</td>\n",
       "      <td>9.99</td>\n",
       "      <td>36 months</td>\n",
       "      <td>debt_consolidation</td>\n",
       "      <td>14.30</td>\n",
       "      <td>KS</td>\n",
       "      <td>MORTGAGE</td>\n",
       "      <td>3833.33</td>\n",
       "      <td>695-699</td>\n",
       "      <td>10.0</td>\n",
       "      <td>9346.0</td>\n",
       "      <td>0.0</td>\n",
       "    </tr>\n",
       "    <tr>\n",
       "      <th>4</th>\n",
       "      <td>12000.0</td>\n",
       "      <td>12000.0</td>\n",
       "      <td>11.71</td>\n",
       "      <td>36 months</td>\n",
       "      <td>credit_card</td>\n",
       "      <td>18.78</td>\n",
       "      <td>NJ</td>\n",
       "      <td>RENT</td>\n",
       "      <td>3195.00</td>\n",
       "      <td>695-699</td>\n",
       "      <td>11.0</td>\n",
       "      <td>14469.0</td>\n",
       "      <td>0.0</td>\n",
       "    </tr>\n",
       "  </tbody>\n",
       "</table>\n",
       "</div>"
      ],
      "text/plain": [
       "   Amount_Requested  Amount_Funded_By_Investors  Interest_Rate Loan_Length  \\\n",
       "0           20000.0                     20000.0           8.90   36 months   \n",
       "1           19200.0                     19200.0          12.12   36 months   \n",
       "2           35000.0                     35000.0          21.98   60 months   \n",
       "3           10000.0                      9975.0           9.99   36 months   \n",
       "4           12000.0                     12000.0          11.71   36 months   \n",
       "\n",
       "         Loan_Purpose  Debt_To_Income_Ratio State Home_Ownership  \\\n",
       "0  debt_consolidation                 14.90    SC       MORTGAGE   \n",
       "1  debt_consolidation                 28.36    TX       MORTGAGE   \n",
       "2  debt_consolidation                 23.81    CA       MORTGAGE   \n",
       "3  debt_consolidation                 14.30    KS       MORTGAGE   \n",
       "4         credit_card                 18.78    NJ           RENT   \n",
       "\n",
       "   Monthly_Income FICO_Range  Open_CREDIT_Lines  Revolving_CREDIT_Balance  \\\n",
       "0         6541.67    735-739               14.0                   14272.0   \n",
       "1         4583.33    715-719               12.0                   11140.0   \n",
       "2        11500.00    690-694               14.0                   21977.0   \n",
       "3         3833.33    695-699               10.0                    9346.0   \n",
       "4         3195.00    695-699               11.0                   14469.0   \n",
       "\n",
       "   Inquiries_in_the_Last_6_Months  \n",
       "0                             2.0  \n",
       "1                             1.0  \n",
       "2                             1.0  \n",
       "3                             0.0  \n",
       "4                             0.0  "
      ]
     },
     "execution_count": 409,
     "metadata": {},
     "output_type": "execute_result"
    }
   ],
   "source": [
    "Loan_data.head()"
   ]
  },
  {
   "cell_type": "markdown",
   "id": "39645dd2",
   "metadata": {},
   "source": [
    "### Using lending club loans data, the team would like to test below hypothesis on how different factors effecing each other (Hint: You may leverage hypothesis testing using statistical tests)\n",
    "### a. Interest rate is varied for different loan amounts (Less interest charged for high loan amounts)\n"
   ]
  },
  {
   "cell_type": "code",
   "execution_count": 410,
   "id": "3bf4e73a",
   "metadata": {},
   "outputs": [],
   "source": [
    "# Define the hypothesis\n",
    "\n",
    "# Null Hypothesis (H0): Interest rate does not vary for different loan amounts (Less interest is not charged for high loan amounts)\n",
    "\n",
    "# Alternate Hypothesis (Ha): Interest rate is varied for different loan amounts (Less interest charged for high loan amounts)\n",
    "\n",
    "# CI(Confidence Interval): 95%\n",
    "\n",
    "# Significance of value (p-value) - (1-CI) - 5% (0.05)"
   ]
  },
  {
   "cell_type": "code",
   "execution_count": 411,
   "id": "eafb5d5d",
   "metadata": {},
   "outputs": [
    {
     "data": {
      "text/plain": [
       "Index(['Amount_Requested', 'Amount_Funded_By_Investors', 'Interest_Rate',\n",
       "       'Loan_Length', 'Loan_Purpose', 'Debt_To_Income_Ratio', 'State',\n",
       "       'Home_Ownership', 'Monthly_Income', 'FICO_Range', 'Open_CREDIT_Lines',\n",
       "       'Revolving_CREDIT_Balance', 'Inquiries_in_the_Last_6_Months'],\n",
       "      dtype='object')"
      ]
     },
     "execution_count": 411,
     "metadata": {},
     "output_type": "execute_result"
    }
   ],
   "source": [
    "Loan_data.columns"
   ]
  },
  {
   "cell_type": "code",
   "execution_count": 412,
   "id": "18e8abed",
   "metadata": {},
   "outputs": [
    {
     "data": {
      "text/html": [
       "<div>\n",
       "<style scoped>\n",
       "    .dataframe tbody tr th:only-of-type {\n",
       "        vertical-align: middle;\n",
       "    }\n",
       "\n",
       "    .dataframe tbody tr th {\n",
       "        vertical-align: top;\n",
       "    }\n",
       "\n",
       "    .dataframe thead th {\n",
       "        text-align: right;\n",
       "    }\n",
       "</style>\n",
       "<table border=\"1\" class=\"dataframe\">\n",
       "  <thead>\n",
       "    <tr style=\"text-align: right;\">\n",
       "      <th></th>\n",
       "      <th>Amount_Funded_By_Investors</th>\n",
       "      <th>Interest_Rate</th>\n",
       "    </tr>\n",
       "  </thead>\n",
       "  <tbody>\n",
       "    <tr>\n",
       "      <th>Amount_Funded_By_Investors</th>\n",
       "      <td>1.000000</td>\n",
       "      <td>0.337427</td>\n",
       "    </tr>\n",
       "    <tr>\n",
       "      <th>Interest_Rate</th>\n",
       "      <td>0.337427</td>\n",
       "      <td>1.000000</td>\n",
       "    </tr>\n",
       "  </tbody>\n",
       "</table>\n",
       "</div>"
      ],
      "text/plain": [
       "                            Amount_Funded_By_Investors  Interest_Rate\n",
       "Amount_Funded_By_Investors                    1.000000       0.337427\n",
       "Interest_Rate                                 0.337427       1.000000"
      ]
     },
     "execution_count": 412,
     "metadata": {},
     "output_type": "execute_result"
    }
   ],
   "source": [
    "# Here we have 2 numerical variable, so to find the relationship b/w them we will use Correlation\n",
    "\n",
    "Loan_data[['Amount_Funded_By_Investors','Interest_Rate']].corr()"
   ]
  },
  {
   "cell_type": "markdown",
   "id": "729c985f",
   "metadata": {},
   "source": [
    "*From above we can see that, there is positive correlation b/w both the columns, so we can say that the interest rate varies for different loan amounts. means with the increase in fund amount, interest rates also increases.* "
   ]
  },
  {
   "cell_type": "code",
   "execution_count": 413,
   "id": "3f8742ec",
   "metadata": {},
   "outputs": [
    {
     "data": {
      "text/plain": [
       "PearsonRResult(statistic=0.33742694544954227, pvalue=1.276067529181041e-67)"
      ]
     },
     "execution_count": 413,
     "metadata": {},
     "output_type": "execute_result"
    }
   ],
   "source": [
    "# Now we will perform pearson correlation test.\n",
    "\n",
    "stats.pearsonr(Loan_data['Interest_Rate'],Loan_data['Amount_Funded_By_Investors'])"
   ]
  },
  {
   "cell_type": "markdown",
   "id": "b375a8ef",
   "metadata": {},
   "source": [
    "### Business Conclusion:\n",
    "\n",
    "*defined p-value= 0.05*\n",
    "\n",
    "*Revised p-value is very very small*\n",
    "\n",
    "*revised p-value= 1.276067529181041e-67 equivalent to 0.00000000000000000000000000000000000000000000000000000000000000000012761*\n",
    "\n",
    "*Since the revised p-value < defined p-value , So probability of H0 becoming True decreases.\n",
    "And hence we fail to reject alternate hypothesis(Ha)*\n",
    "\n",
    "*Therefore, we can claim that interest rate is varied for different loan amounts i.e(Less interest charged for high loan amounts).*\n"
   ]
  },
  {
   "cell_type": "markdown",
   "id": "3bab0ee7",
   "metadata": {},
   "source": [
    "### b. Loan length is directly effecting intrest rate."
   ]
  },
  {
   "cell_type": "code",
   "execution_count": 414,
   "id": "1d35cd08",
   "metadata": {},
   "outputs": [
    {
     "data": {
      "text/html": [
       "<div>\n",
       "<style scoped>\n",
       "    .dataframe tbody tr th:only-of-type {\n",
       "        vertical-align: middle;\n",
       "    }\n",
       "\n",
       "    .dataframe tbody tr th {\n",
       "        vertical-align: top;\n",
       "    }\n",
       "\n",
       "    .dataframe thead th {\n",
       "        text-align: right;\n",
       "    }\n",
       "</style>\n",
       "<table border=\"1\" class=\"dataframe\">\n",
       "  <thead>\n",
       "    <tr style=\"text-align: right;\">\n",
       "      <th></th>\n",
       "      <th>Amount_Requested</th>\n",
       "      <th>Amount_Funded_By_Investors</th>\n",
       "      <th>Interest_Rate</th>\n",
       "      <th>Loan_Length</th>\n",
       "      <th>Loan_Purpose</th>\n",
       "      <th>Debt_To_Income_Ratio</th>\n",
       "      <th>State</th>\n",
       "      <th>Home_Ownership</th>\n",
       "      <th>Monthly_Income</th>\n",
       "      <th>FICO_Range</th>\n",
       "      <th>Open_CREDIT_Lines</th>\n",
       "      <th>Revolving_CREDIT_Balance</th>\n",
       "      <th>Inquiries_in_the_Last_6_Months</th>\n",
       "    </tr>\n",
       "  </thead>\n",
       "  <tbody>\n",
       "    <tr>\n",
       "      <th>0</th>\n",
       "      <td>20000.0</td>\n",
       "      <td>20000.0</td>\n",
       "      <td>8.90</td>\n",
       "      <td>36 months</td>\n",
       "      <td>debt_consolidation</td>\n",
       "      <td>14.90</td>\n",
       "      <td>SC</td>\n",
       "      <td>MORTGAGE</td>\n",
       "      <td>6541.67</td>\n",
       "      <td>735-739</td>\n",
       "      <td>14.0</td>\n",
       "      <td>14272.0</td>\n",
       "      <td>2.0</td>\n",
       "    </tr>\n",
       "    <tr>\n",
       "      <th>1</th>\n",
       "      <td>19200.0</td>\n",
       "      <td>19200.0</td>\n",
       "      <td>12.12</td>\n",
       "      <td>36 months</td>\n",
       "      <td>debt_consolidation</td>\n",
       "      <td>28.36</td>\n",
       "      <td>TX</td>\n",
       "      <td>MORTGAGE</td>\n",
       "      <td>4583.33</td>\n",
       "      <td>715-719</td>\n",
       "      <td>12.0</td>\n",
       "      <td>11140.0</td>\n",
       "      <td>1.0</td>\n",
       "    </tr>\n",
       "    <tr>\n",
       "      <th>2</th>\n",
       "      <td>35000.0</td>\n",
       "      <td>35000.0</td>\n",
       "      <td>21.98</td>\n",
       "      <td>60 months</td>\n",
       "      <td>debt_consolidation</td>\n",
       "      <td>23.81</td>\n",
       "      <td>CA</td>\n",
       "      <td>MORTGAGE</td>\n",
       "      <td>11500.00</td>\n",
       "      <td>690-694</td>\n",
       "      <td>14.0</td>\n",
       "      <td>21977.0</td>\n",
       "      <td>1.0</td>\n",
       "    </tr>\n",
       "  </tbody>\n",
       "</table>\n",
       "</div>"
      ],
      "text/plain": [
       "   Amount_Requested  Amount_Funded_By_Investors  Interest_Rate Loan_Length  \\\n",
       "0           20000.0                     20000.0           8.90   36 months   \n",
       "1           19200.0                     19200.0          12.12   36 months   \n",
       "2           35000.0                     35000.0          21.98   60 months   \n",
       "\n",
       "         Loan_Purpose  Debt_To_Income_Ratio State Home_Ownership  \\\n",
       "0  debt_consolidation                 14.90    SC       MORTGAGE   \n",
       "1  debt_consolidation                 28.36    TX       MORTGAGE   \n",
       "2  debt_consolidation                 23.81    CA       MORTGAGE   \n",
       "\n",
       "   Monthly_Income FICO_Range  Open_CREDIT_Lines  Revolving_CREDIT_Balance  \\\n",
       "0         6541.67    735-739               14.0                   14272.0   \n",
       "1         4583.33    715-719               12.0                   11140.0   \n",
       "2        11500.00    690-694               14.0                   21977.0   \n",
       "\n",
       "   Inquiries_in_the_Last_6_Months  \n",
       "0                             2.0  \n",
       "1                             1.0  \n",
       "2                             1.0  "
      ]
     },
     "execution_count": 414,
     "metadata": {},
     "output_type": "execute_result"
    }
   ],
   "source": [
    "Loan_data.head(3)"
   ]
  },
  {
   "cell_type": "code",
   "execution_count": 415,
   "id": "c5eb1e6a",
   "metadata": {},
   "outputs": [],
   "source": [
    "# Define the hypothesis\n",
    "\n",
    "# Null Hypothesis (H0): Loan length is not effecting the interest rate\n",
    "\n",
    "# Alternate Hypothesis (Ha): Loan length is directly effecting the interest rate.\n",
    "\n",
    "# CI(Confidence Interval): 95%\n",
    "\n",
    "# Significance of value (p-value)- 5% (0.05)"
   ]
  },
  {
   "cell_type": "code",
   "execution_count": 416,
   "id": "b965581b",
   "metadata": {},
   "outputs": [
    {
     "data": {
      "text/plain": [
       "36 months    1952\n",
       "60 months     548\n",
       "Name: Loan_Length, dtype: int64"
      ]
     },
     "execution_count": 416,
     "metadata": {},
     "output_type": "execute_result"
    }
   ],
   "source": [
    "# Here we have to compare means of two independent samples  i.e - 36 months and 50 months\n",
    "Loan_data.Loan_Length.value_counts()"
   ]
  },
  {
   "cell_type": "code",
   "execution_count": 417,
   "id": "3e1e15c3",
   "metadata": {},
   "outputs": [
    {
     "data": {
      "text/plain": [
       "0        8.90\n",
       "1       12.12\n",
       "3        9.99\n",
       "4       11.71\n",
       "5       15.31\n",
       "        ...  \n",
       "2492    10.08\n",
       "2494    14.65\n",
       "2497    13.99\n",
       "2498    12.42\n",
       "2499    13.79\n",
       "Name: Interest_Rate, Length: 1952, dtype: float64"
      ]
     },
     "execution_count": 417,
     "metadata": {},
     "output_type": "execute_result"
    }
   ],
   "source": [
    "# 36 month interest rate\n",
    "\n",
    "loan_36month = Loan_data.loc[Loan_data['Loan_Length']=='36 months','Interest_Rate']\n",
    "loan_36month"
   ]
  },
  {
   "cell_type": "code",
   "execution_count": 418,
   "id": "1c185ff9",
   "metadata": {},
   "outputs": [
    {
     "data": {
      "text/plain": [
       "2       21.98\n",
       "7       17.14\n",
       "12      21.67\n",
       "15      15.65\n",
       "17      10.37\n",
       "        ...  \n",
       "2472    22.45\n",
       "2479    15.80\n",
       "2493    23.28\n",
       "2495    16.77\n",
       "2496    14.09\n",
       "Name: Interest_Rate, Length: 548, dtype: float64"
      ]
     },
     "execution_count": 418,
     "metadata": {},
     "output_type": "execute_result"
    }
   ],
   "source": [
    "# 60 month interest rate\n",
    "loan_60month = Loan_data.loc[Loan_data['Loan_Length']=='60 months','Interest_Rate']\n",
    "loan_60month"
   ]
  },
  {
   "cell_type": "code",
   "execution_count": 419,
   "id": "3931d6ed",
   "metadata": {},
   "outputs": [
    {
     "name": "stdout",
     "output_type": "stream",
     "text": [
      "The average interest rate for 36 month loan_length is  12.127146516393443\n",
      "The average interest rate for 60 month loan_length is  16.407463503649634\n"
     ]
    }
   ],
   "source": [
    "# display the average Interest rate by both samples\n",
    "\n",
    "print(\"The average interest rate for 36 month loan_length is \",loan_36month.mean())\n",
    "print(\"The average interest rate for 60 month loan_length is \",loan_60month.mean())"
   ]
  },
  {
   "cell_type": "code",
   "execution_count": 420,
   "id": "a6147e35",
   "metadata": {},
   "outputs": [
    {
     "data": {
      "text/plain": [
       "Ttest_indResult(statistic=-23.410458709272653, pvalue=9.555388366810047e-110)"
      ]
     },
     "execution_count": 420,
     "metadata": {},
     "output_type": "execute_result"
    }
   ],
   "source": [
    "# Perform the T-test independent\n",
    "\n",
    "stats.ttest_ind(loan_36month,loan_60month)\n"
   ]
  },
  {
   "cell_type": "markdown",
   "id": "df6972a6",
   "metadata": {},
   "source": [
    "### Business Conclusion:\n",
    "\n",
    "*defined p-value= 0.05*\n",
    "\n",
    "*Revised p-value is very very small*\n",
    "\n",
    "*revised p-value= 9.555388366810047e-110* \n",
    "\n",
    "*Since the revised p-value < defined p-value , so probability of H0 becoming True decreases.\n",
    "Hence we fail to reject alternate hypothesis(Ha)*\n",
    "\n",
    "*Therefore, we can claim that loan length is directly effecting the intrest rate.*\n"
   ]
  },
  {
   "cell_type": "markdown",
   "id": "37b1d0fd",
   "metadata": {},
   "source": [
    "\n",
    "### c. Intrest rate varies for different purpose of loans"
   ]
  },
  {
   "cell_type": "code",
   "execution_count": 421,
   "id": "1a708e37",
   "metadata": {},
   "outputs": [],
   "source": [
    "# Define the hypothesis\n",
    "\n",
    "# Null Hypothesis (H0): Interest rate does not vary for different purpose of loans (u1=u2=u3=...=un)\n",
    "\n",
    "# Alternate Hypothesis (Ha): Interest rate varies for different purpose of loans (atleast one of the mean is different from the other means)\n",
    "\n",
    "# CI(Confidence Interval): 95%\n",
    "\n",
    "# Significance of value (p-value)- 5% (0.05)"
   ]
  },
  {
   "cell_type": "code",
   "execution_count": 422,
   "id": "649df84b",
   "metadata": {},
   "outputs": [
    {
     "data": {
      "text/plain": [
       "Index(['Amount_Requested', 'Amount_Funded_By_Investors', 'Interest_Rate',\n",
       "       'Loan_Length', 'Loan_Purpose', 'Debt_To_Income_Ratio', 'State',\n",
       "       'Home_Ownership', 'Monthly_Income', 'FICO_Range', 'Open_CREDIT_Lines',\n",
       "       'Revolving_CREDIT_Balance', 'Inquiries_in_the_Last_6_Months'],\n",
       "      dtype='object')"
      ]
     },
     "execution_count": 422,
     "metadata": {},
     "output_type": "execute_result"
    }
   ],
   "source": [
    "Loan_data.columns"
   ]
  },
  {
   "cell_type": "code",
   "execution_count": 423,
   "id": "01a29cd2",
   "metadata": {},
   "outputs": [
    {
     "data": {
      "text/plain": [
       "debt_consolidation    1307\n",
       "credit_card            444\n",
       "other                  201\n",
       "home_improvement       152\n",
       "major_purchase         101\n",
       "small_business          87\n",
       "car                     50\n",
       "wedding                 39\n",
       "medical                 30\n",
       "moving                  29\n",
       "vacation                21\n",
       "house                   20\n",
       "educational             15\n",
       "renewable_energy         4\n",
       "Name: Loan_Purpose, dtype: int64"
      ]
     },
     "execution_count": 423,
     "metadata": {},
     "output_type": "execute_result"
    }
   ],
   "source": [
    "# following are different purposes of loans, and there are almost 14 reasons for which people are getting loans\n",
    "Loan_data.Loan_Purpose.value_counts()"
   ]
  },
  {
   "cell_type": "code",
   "execution_count": 426,
   "id": "a1678bfb",
   "metadata": {},
   "outputs": [],
   "source": [
    "debt_consolidation = Loan_data.loc[Loan_data['Loan_Purpose']=='debt_consolidation','Interest_Rate']\n",
    "credit_card = Loan_data.loc[Loan_data['Loan_Purpose']=='credit_card','Interest_Rate']\n",
    "other = Loan_data.loc[Loan_data['Loan_Purpose']=='other','Interest_Rate']\n",
    "home_improvement = Loan_data.loc[Loan_data['Loan_Purpose']=='home_improvement','Interest_Rate']\n",
    "major_purchase = Loan_data.loc[Loan_data['Loan_Purpose']=='major_purchase','Interest_Rate']\n",
    "small_business = Loan_data.loc[Loan_data['Loan_Purpose']=='small_business','Interest_Rate']\n",
    "car = Loan_data.loc[Loan_data['Loan_Purpose']=='car','Interest_Rate']\n",
    "wedding = Loan_data.loc[Loan_data['Loan_Purpose']=='wedding','Interest_Rate']\n",
    "medical = Loan_data.loc[Loan_data['Loan_Purpose']=='medical','Interest_Rate']\n",
    "moving = Loan_data.loc[Loan_data['Loan_Purpose']=='moving','Interest_Rate']\n",
    "vacation = Loan_data.loc[Loan_data['Loan_Purpose']=='vacation','Interest_Rate']\n",
    "house = Loan_data.loc[Loan_data['Loan_Purpose']=='house','Interest_Rate']\n",
    "educational = Loan_data.loc[Loan_data['Loan_Purpose']=='educational','Interest_Rate']\n",
    "renewable_energy = Loan_data.loc[Loan_data['Loan_Purpose']=='renewable_energy','Interest_Rate']"
   ]
  },
  {
   "cell_type": "code",
   "execution_count": 427,
   "id": "a38dacca",
   "metadata": {},
   "outputs": [
    {
     "data": {
      "text/plain": [
       "0     8.90\n",
       "1    12.12\n",
       "2    21.98\n",
       "3     9.99\n",
       "6     7.90\n",
       "Name: Interest_Rate, dtype: float64"
      ]
     },
     "execution_count": 427,
     "metadata": {},
     "output_type": "execute_result"
    }
   ],
   "source": [
    "debt_consolidation.head()"
   ]
  },
  {
   "cell_type": "code",
   "execution_count": 428,
   "id": "8a4f4aed",
   "metadata": {},
   "outputs": [
    {
     "data": {
      "text/plain": [
       "4     11.71\n",
       "7     17.14\n",
       "8     14.33\n",
       "9      6.91\n",
       "18     9.76\n",
       "Name: Interest_Rate, dtype: float64"
      ]
     },
     "execution_count": 428,
     "metadata": {},
     "output_type": "execute_result"
    }
   ],
   "source": [
    "credit_card.head()"
   ]
  },
  {
   "cell_type": "code",
   "execution_count": 429,
   "id": "8172e7b7",
   "metadata": {},
   "outputs": [
    {
     "data": {
      "text/plain": [
       "5     15.31\n",
       "28     8.59\n",
       "48     7.49\n",
       "51    17.44\n",
       "57     9.99\n",
       "Name: Interest_Rate, dtype: float64"
      ]
     },
     "execution_count": 429,
     "metadata": {},
     "output_type": "execute_result"
    }
   ],
   "source": [
    "other.head()"
   ]
  },
  {
   "cell_type": "code",
   "execution_count": 430,
   "id": "b1597036",
   "metadata": {},
   "outputs": [
    {
     "data": {
      "text/plain": [
       "43     21.74\n",
       "339    22.47\n",
       "369    13.11\n",
       "536    15.21\n",
       "806     9.63\n",
       "Name: Interest_Rate, dtype: float64"
      ]
     },
     "execution_count": 430,
     "metadata": {},
     "output_type": "execute_result"
    }
   ],
   "source": [
    "house.head()"
   ]
  },
  {
   "cell_type": "code",
   "execution_count": 431,
   "id": "3ac108ed",
   "metadata": {},
   "outputs": [
    {
     "data": {
      "text/plain": [
       "59      8.59\n",
       "300    18.67\n",
       "401    12.29\n",
       "940    12.61\n",
       "974    13.48\n",
       "Name: Interest_Rate, dtype: float64"
      ]
     },
     "execution_count": 431,
     "metadata": {},
     "output_type": "execute_result"
    }
   ],
   "source": [
    "educational.head()"
   ]
  },
  {
   "cell_type": "code",
   "execution_count": 432,
   "id": "1c9e5d43",
   "metadata": {},
   "outputs": [
    {
     "name": "stdout",
     "output_type": "stream",
     "text": [
      "The average interest rate for debt_consolidation loan : 13.58691660290742\n",
      "The average interest rate for credit_card loan : 13.050698198198198\n",
      "The average interest rate for other loan : 13.15955223880597\n",
      "The average interest rate for home_improvement loan : 11.594276315789473\n",
      "The average interest rate for major_purchase loan : 10.797821782178216\n",
      "The average interest rate for small_business loan : 12.83919540229885\n",
      "The average interest rate for car loan : 11.113000000000001\n",
      "The average interest rate for wedding loan : 12.073333333333334\n",
      "The average interest rate for medical loan : 11.649666666666667\n",
      "The average interest rate for moving loan : 13.621034482758622\n",
      "The average interest rate for vacation loan : 11.966190476190476\n",
      "The average interest rate for house loan : 13.447999999999999\n",
      "The average interest rate for educational loan : 11.007333333333332\n",
      "The average interest rate for renewable_energy loan : 9.8775\n"
     ]
    }
   ],
   "source": [
    "# display the average Interest rate by different purposes of loans\n",
    "\n",
    "print(\"The average interest rate for debt_consolidation loan :\",debt_consolidation.mean())\n",
    "print(\"The average interest rate for credit_card loan :\",credit_card.mean())\n",
    "print(\"The average interest rate for other loan :\",other.mean())\n",
    "print(\"The average interest rate for home_improvement loan :\",home_improvement.mean())\n",
    "print(\"The average interest rate for major_purchase loan :\",major_purchase.mean())\n",
    "print(\"The average interest rate for small_business loan :\",small_business.mean())\n",
    "print(\"The average interest rate for car loan :\",car.mean())\n",
    "print(\"The average interest rate for wedding loan :\",wedding.mean())\n",
    "print(\"The average interest rate for medical loan :\",medical.mean())\n",
    "print(\"The average interest rate for moving loan :\",moving.mean())\n",
    "print(\"The average interest rate for vacation loan :\",vacation.mean())\n",
    "print(\"The average interest rate for house loan :\",house.mean())\n",
    "print(\"The average interest rate for educational loan :\",educational.mean())\n",
    "print(\"The average interest rate for renewable_energy loan :\",renewable_energy.mean())"
   ]
  },
  {
   "cell_type": "code",
   "execution_count": 433,
   "id": "890829bb",
   "metadata": {},
   "outputs": [
    {
     "data": {
      "text/plain": [
       "F_onewayResult(statistic=7.48259476705446, pvalue=1.1602506809075995e-14)"
      ]
     },
     "execution_count": 433,
     "metadata": {},
     "output_type": "execute_result"
    }
   ],
   "source": [
    "# We have to compare means of more than 2 groups, so we will use Anova test or F-test oneway\n",
    "\n",
    "stats.f_oneway(debt_consolidation,credit_card,other,home_improvement,major_purchase,small_business,car,wedding,medical,moving,\n",
    "              vacation,house,educational,renewable_energy)"
   ]
  },
  {
   "cell_type": "markdown",
   "id": "0e2fa5bc",
   "metadata": {},
   "source": [
    "### Business Conclusion:\n",
    "\n",
    "*defined p-value= 0.05*\n",
    "\n",
    "*Revised p-value is very very small*\n",
    "\n",
    "*revised p-value= 1.1602506809075995e-14 equivalent to 0.00000000000001160251*\n",
    "\n",
    "*Since the revised p-value < defined p-value , so probability of H0 becoming True decreases.\n",
    "Hence we fail to reject alternate hypothesis(Ha)*\n",
    "\n",
    "*Therefore, we can claim that interest rate varies for different purpose of loans.*\n"
   ]
  },
  {
   "cell_type": "markdown",
   "id": "b8c4cd63",
   "metadata": {},
   "source": [
    "### d. There is relationship between FICO scores and Home Ownership. It means that, People with owning home will have high FICO scores."
   ]
  },
  {
   "cell_type": "code",
   "execution_count": 434,
   "id": "4d450913",
   "metadata": {},
   "outputs": [
    {
     "data": {
      "text/html": [
       "<div>\n",
       "<style scoped>\n",
       "    .dataframe tbody tr th:only-of-type {\n",
       "        vertical-align: middle;\n",
       "    }\n",
       "\n",
       "    .dataframe tbody tr th {\n",
       "        vertical-align: top;\n",
       "    }\n",
       "\n",
       "    .dataframe thead th {\n",
       "        text-align: right;\n",
       "    }\n",
       "</style>\n",
       "<table border=\"1\" class=\"dataframe\">\n",
       "  <thead>\n",
       "    <tr style=\"text-align: right;\">\n",
       "      <th></th>\n",
       "      <th>Amount_Requested</th>\n",
       "      <th>Amount_Funded_By_Investors</th>\n",
       "      <th>Interest_Rate</th>\n",
       "      <th>Loan_Length</th>\n",
       "      <th>Loan_Purpose</th>\n",
       "      <th>Debt_To_Income_Ratio</th>\n",
       "      <th>State</th>\n",
       "      <th>Home_Ownership</th>\n",
       "      <th>Monthly_Income</th>\n",
       "      <th>FICO_Range</th>\n",
       "      <th>Open_CREDIT_Lines</th>\n",
       "      <th>Revolving_CREDIT_Balance</th>\n",
       "      <th>Inquiries_in_the_Last_6_Months</th>\n",
       "    </tr>\n",
       "  </thead>\n",
       "  <tbody>\n",
       "    <tr>\n",
       "      <th>0</th>\n",
       "      <td>20000.0</td>\n",
       "      <td>20000.0</td>\n",
       "      <td>8.90</td>\n",
       "      <td>36 months</td>\n",
       "      <td>debt_consolidation</td>\n",
       "      <td>14.90</td>\n",
       "      <td>SC</td>\n",
       "      <td>MORTGAGE</td>\n",
       "      <td>6541.67</td>\n",
       "      <td>735-739</td>\n",
       "      <td>14.0</td>\n",
       "      <td>14272.0</td>\n",
       "      <td>2.0</td>\n",
       "    </tr>\n",
       "    <tr>\n",
       "      <th>1</th>\n",
       "      <td>19200.0</td>\n",
       "      <td>19200.0</td>\n",
       "      <td>12.12</td>\n",
       "      <td>36 months</td>\n",
       "      <td>debt_consolidation</td>\n",
       "      <td>28.36</td>\n",
       "      <td>TX</td>\n",
       "      <td>MORTGAGE</td>\n",
       "      <td>4583.33</td>\n",
       "      <td>715-719</td>\n",
       "      <td>12.0</td>\n",
       "      <td>11140.0</td>\n",
       "      <td>1.0</td>\n",
       "    </tr>\n",
       "    <tr>\n",
       "      <th>2</th>\n",
       "      <td>35000.0</td>\n",
       "      <td>35000.0</td>\n",
       "      <td>21.98</td>\n",
       "      <td>60 months</td>\n",
       "      <td>debt_consolidation</td>\n",
       "      <td>23.81</td>\n",
       "      <td>CA</td>\n",
       "      <td>MORTGAGE</td>\n",
       "      <td>11500.00</td>\n",
       "      <td>690-694</td>\n",
       "      <td>14.0</td>\n",
       "      <td>21977.0</td>\n",
       "      <td>1.0</td>\n",
       "    </tr>\n",
       "  </tbody>\n",
       "</table>\n",
       "</div>"
      ],
      "text/plain": [
       "   Amount_Requested  Amount_Funded_By_Investors  Interest_Rate Loan_Length  \\\n",
       "0           20000.0                     20000.0           8.90   36 months   \n",
       "1           19200.0                     19200.0          12.12   36 months   \n",
       "2           35000.0                     35000.0          21.98   60 months   \n",
       "\n",
       "         Loan_Purpose  Debt_To_Income_Ratio State Home_Ownership  \\\n",
       "0  debt_consolidation                 14.90    SC       MORTGAGE   \n",
       "1  debt_consolidation                 28.36    TX       MORTGAGE   \n",
       "2  debt_consolidation                 23.81    CA       MORTGAGE   \n",
       "\n",
       "   Monthly_Income FICO_Range  Open_CREDIT_Lines  Revolving_CREDIT_Balance  \\\n",
       "0         6541.67    735-739               14.0                   14272.0   \n",
       "1         4583.33    715-719               12.0                   11140.0   \n",
       "2        11500.00    690-694               14.0                   21977.0   \n",
       "\n",
       "   Inquiries_in_the_Last_6_Months  \n",
       "0                             2.0  \n",
       "1                             1.0  \n",
       "2                             1.0  "
      ]
     },
     "execution_count": 434,
     "metadata": {},
     "output_type": "execute_result"
    }
   ],
   "source": [
    "Loan_data.head(3)"
   ]
  },
  {
   "cell_type": "code",
   "execution_count": 435,
   "id": "ee2d88eb",
   "metadata": {},
   "outputs": [],
   "source": [
    "# Taking mean of Fico_Range column and converting it to numerical variable\n",
    "\n",
    "Loan_data['FICO_Score'] = ((Loan_data.FICO_Range.str[0:3].astype(int))+(Loan_data.FICO_Range.str[4:].astype(int)))/2"
   ]
  },
  {
   "cell_type": "code",
   "execution_count": 436,
   "id": "07f778e6",
   "metadata": {},
   "outputs": [
    {
     "data": {
      "text/html": [
       "<div>\n",
       "<style scoped>\n",
       "    .dataframe tbody tr th:only-of-type {\n",
       "        vertical-align: middle;\n",
       "    }\n",
       "\n",
       "    .dataframe tbody tr th {\n",
       "        vertical-align: top;\n",
       "    }\n",
       "\n",
       "    .dataframe thead th {\n",
       "        text-align: right;\n",
       "    }\n",
       "</style>\n",
       "<table border=\"1\" class=\"dataframe\">\n",
       "  <thead>\n",
       "    <tr style=\"text-align: right;\">\n",
       "      <th></th>\n",
       "      <th>Amount_Requested</th>\n",
       "      <th>Amount_Funded_By_Investors</th>\n",
       "      <th>Interest_Rate</th>\n",
       "      <th>Loan_Length</th>\n",
       "      <th>Loan_Purpose</th>\n",
       "      <th>Debt_To_Income_Ratio</th>\n",
       "      <th>State</th>\n",
       "      <th>Home_Ownership</th>\n",
       "      <th>Monthly_Income</th>\n",
       "      <th>FICO_Range</th>\n",
       "      <th>Open_CREDIT_Lines</th>\n",
       "      <th>Revolving_CREDIT_Balance</th>\n",
       "      <th>Inquiries_in_the_Last_6_Months</th>\n",
       "      <th>FICO_Score</th>\n",
       "    </tr>\n",
       "  </thead>\n",
       "  <tbody>\n",
       "    <tr>\n",
       "      <th>0</th>\n",
       "      <td>20000.0</td>\n",
       "      <td>20000.0</td>\n",
       "      <td>8.90</td>\n",
       "      <td>36 months</td>\n",
       "      <td>debt_consolidation</td>\n",
       "      <td>14.90</td>\n",
       "      <td>SC</td>\n",
       "      <td>MORTGAGE</td>\n",
       "      <td>6541.67</td>\n",
       "      <td>735-739</td>\n",
       "      <td>14.0</td>\n",
       "      <td>14272.0</td>\n",
       "      <td>2.0</td>\n",
       "      <td>737.0</td>\n",
       "    </tr>\n",
       "    <tr>\n",
       "      <th>1</th>\n",
       "      <td>19200.0</td>\n",
       "      <td>19200.0</td>\n",
       "      <td>12.12</td>\n",
       "      <td>36 months</td>\n",
       "      <td>debt_consolidation</td>\n",
       "      <td>28.36</td>\n",
       "      <td>TX</td>\n",
       "      <td>MORTGAGE</td>\n",
       "      <td>4583.33</td>\n",
       "      <td>715-719</td>\n",
       "      <td>12.0</td>\n",
       "      <td>11140.0</td>\n",
       "      <td>1.0</td>\n",
       "      <td>717.0</td>\n",
       "    </tr>\n",
       "    <tr>\n",
       "      <th>2</th>\n",
       "      <td>35000.0</td>\n",
       "      <td>35000.0</td>\n",
       "      <td>21.98</td>\n",
       "      <td>60 months</td>\n",
       "      <td>debt_consolidation</td>\n",
       "      <td>23.81</td>\n",
       "      <td>CA</td>\n",
       "      <td>MORTGAGE</td>\n",
       "      <td>11500.00</td>\n",
       "      <td>690-694</td>\n",
       "      <td>14.0</td>\n",
       "      <td>21977.0</td>\n",
       "      <td>1.0</td>\n",
       "      <td>692.0</td>\n",
       "    </tr>\n",
       "  </tbody>\n",
       "</table>\n",
       "</div>"
      ],
      "text/plain": [
       "   Amount_Requested  Amount_Funded_By_Investors  Interest_Rate Loan_Length  \\\n",
       "0           20000.0                     20000.0           8.90   36 months   \n",
       "1           19200.0                     19200.0          12.12   36 months   \n",
       "2           35000.0                     35000.0          21.98   60 months   \n",
       "\n",
       "         Loan_Purpose  Debt_To_Income_Ratio State Home_Ownership  \\\n",
       "0  debt_consolidation                 14.90    SC       MORTGAGE   \n",
       "1  debt_consolidation                 28.36    TX       MORTGAGE   \n",
       "2  debt_consolidation                 23.81    CA       MORTGAGE   \n",
       "\n",
       "   Monthly_Income FICO_Range  Open_CREDIT_Lines  Revolving_CREDIT_Balance  \\\n",
       "0         6541.67    735-739               14.0                   14272.0   \n",
       "1         4583.33    715-719               12.0                   11140.0   \n",
       "2        11500.00    690-694               14.0                   21977.0   \n",
       "\n",
       "   Inquiries_in_the_Last_6_Months  FICO_Score  \n",
       "0                             2.0       737.0  \n",
       "1                             1.0       717.0  \n",
       "2                             1.0       692.0  "
      ]
     },
     "execution_count": 436,
     "metadata": {},
     "output_type": "execute_result"
    }
   ],
   "source": [
    "Loan_data.head(3)"
   ]
  },
  {
   "cell_type": "code",
   "execution_count": 437,
   "id": "125a65c7",
   "metadata": {},
   "outputs": [
    {
     "data": {
      "text/plain": [
       "MORTGAGE    1148\n",
       "RENT        1146\n",
       "OWN          200\n",
       "OTHER          5\n",
       "NONE           1\n",
       "Name: Home_Ownership, dtype: int64"
      ]
     },
     "execution_count": 437,
     "metadata": {},
     "output_type": "execute_result"
    }
   ],
   "source": [
    "# there are 5 types of Home_Ownership\n",
    "Loan_data.Home_Ownership.value_counts()"
   ]
  },
  {
   "cell_type": "code",
   "execution_count": 438,
   "id": "7ff39ff9",
   "metadata": {},
   "outputs": [],
   "source": [
    "# Define the hypothesis\n",
    "\n",
    "# Null Hypothesis (H0): There is no relationship between FICO scores and Home Ownership\n",
    "\n",
    "# Alternate Hypothesis (Ha): There is relationship between FICO scores and Home Ownership.\n",
    "\n",
    "# CI(Confidence Interval): 95%\n",
    "\n",
    "# Significance of value (p-value)- 5% (0.05)"
   ]
  },
  {
   "cell_type": "code",
   "execution_count": 439,
   "id": "62723ab5",
   "metadata": {},
   "outputs": [],
   "source": [
    "# Now we have numerical and categorical variable having more than two groups/categories\n",
    "# So we will perform ANOVA test/F-test one way"
   ]
  },
  {
   "cell_type": "code",
   "execution_count": 440,
   "id": "3b2cf0bb",
   "metadata": {},
   "outputs": [],
   "source": [
    "MORTGAGE = Loan_data.loc[Loan_data['Home_Ownership']=='MORTGAGE','FICO_Score']\n",
    "RENT = Loan_data.loc[Loan_data['Home_Ownership']=='RENT','FICO_Score']\n",
    "OWN = Loan_data.loc[Loan_data['Home_Ownership']=='OWN','FICO_Score']\n",
    "OTHER = Loan_data.loc[Loan_data['Home_Ownership']=='OTHER','FICO_Score']\n",
    "NONE = Loan_data.loc[Loan_data['Home_Ownership']=='NONE','FICO_Score']"
   ]
  },
  {
   "cell_type": "code",
   "execution_count": 441,
   "id": "50debd49",
   "metadata": {},
   "outputs": [
    {
     "data": {
      "text/plain": [
       "0    737.0\n",
       "1    717.0\n",
       "2    692.0\n",
       "3    697.0\n",
       "7    707.0\n",
       "Name: FICO_Score, dtype: float64"
      ]
     },
     "execution_count": 441,
     "metadata": {},
     "output_type": "execute_result"
    }
   ],
   "source": [
    "MORTGAGE.head()"
   ]
  },
  {
   "cell_type": "code",
   "execution_count": 442,
   "id": "6a52af1f",
   "metadata": {},
   "outputs": [
    {
     "data": {
      "text/plain": [
       "4     697.0\n",
       "6     722.0\n",
       "8     687.0\n",
       "9     717.0\n",
       "10    672.0\n",
       "Name: FICO_Score, dtype: float64"
      ]
     },
     "execution_count": 442,
     "metadata": {},
     "output_type": "execute_result"
    }
   ],
   "source": [
    "RENT.head()"
   ]
  },
  {
   "cell_type": "code",
   "execution_count": 443,
   "id": "b7d5ebd4",
   "metadata": {},
   "outputs": [
    {
     "data": {
      "text/plain": [
       "294     657.0\n",
       "978     677.0\n",
       "1484    682.0\n",
       "2102    672.0\n",
       "2418    682.0\n",
       "Name: FICO_Score, dtype: float64"
      ]
     },
     "execution_count": 443,
     "metadata": {},
     "output_type": "execute_result"
    }
   ],
   "source": [
    "OTHER"
   ]
  },
  {
   "cell_type": "code",
   "execution_count": 444,
   "id": "a1009274",
   "metadata": {},
   "outputs": [
    {
     "data": {
      "text/plain": [
       "F_onewayResult(statistic=19.330308155159962, pvalue=1.1227031714003807e-15)"
      ]
     },
     "execution_count": 444,
     "metadata": {},
     "output_type": "execute_result"
    }
   ],
   "source": [
    "# Perform the F-Test-Oneway\n",
    "\n",
    "stats.f_oneway(MORTGAGE,RENT,OWN,OTHER,NONE)"
   ]
  },
  {
   "cell_type": "markdown",
   "id": "363ba131",
   "metadata": {},
   "source": [
    "### Business Conclusion:\n",
    "\n",
    "*defined p-value= 0.05*\n",
    "\n",
    "*Revised p-value is very very small*\n",
    "\n",
    "*revised p-value= 1.1227031714003807e-15 equivalent to 0.0000000000000011227*\n",
    "\n",
    "*Since the revised p-value < defined p-value , so probability of H0 becoming True decreases.\n",
    "Hence we fail to reject alternate hypothesis(Ha)*\n",
    "\n",
    "*Therefore we can claim that there is relationship between FICO scores and Home Ownership means people owning home will have high FICO scores.*"
   ]
  },
  {
   "cell_type": "markdown",
   "id": "4e909bc0",
   "metadata": {},
   "source": [
    "## BUSINESS PROBLEM - 2"
   ]
  },
  {
   "cell_type": "code",
   "execution_count": 445,
   "id": "80e64ec1",
   "metadata": {},
   "outputs": [],
   "source": [
    "# Reading the files\n",
    "\n",
    "Price_quotes = pd.read_csv(r'C:\\Users\\91896\\OneDrive\\Desktop\\AnalytixLabs\\PYTHON ASSIGNMENT AND CASE STUDIES\\PYTHON CASE STUDIES\\Basic Statistics - Hypothesis Testing\\4. Basic Statistics - Hypothesis Testing\\Price_Quotes.csv')"
   ]
  },
  {
   "cell_type": "code",
   "execution_count": 446,
   "id": "091f5774",
   "metadata": {},
   "outputs": [
    {
     "data": {
      "text/html": [
       "<div>\n",
       "<style scoped>\n",
       "    .dataframe tbody tr th:only-of-type {\n",
       "        vertical-align: middle;\n",
       "    }\n",
       "\n",
       "    .dataframe tbody tr th {\n",
       "        vertical-align: top;\n",
       "    }\n",
       "\n",
       "    .dataframe thead th {\n",
       "        text-align: right;\n",
       "    }\n",
       "</style>\n",
       "<table border=\"1\" class=\"dataframe\">\n",
       "  <thead>\n",
       "    <tr style=\"text-align: right;\">\n",
       "      <th></th>\n",
       "      <th>Order_Number</th>\n",
       "      <th>Barry_Price</th>\n",
       "      <th>Mary_Price</th>\n",
       "    </tr>\n",
       "  </thead>\n",
       "  <tbody>\n",
       "    <tr>\n",
       "      <th>0</th>\n",
       "      <td>1</td>\n",
       "      <td>126</td>\n",
       "      <td>114</td>\n",
       "    </tr>\n",
       "    <tr>\n",
       "      <th>1</th>\n",
       "      <td>2</td>\n",
       "      <td>110</td>\n",
       "      <td>118</td>\n",
       "    </tr>\n",
       "    <tr>\n",
       "      <th>2</th>\n",
       "      <td>3</td>\n",
       "      <td>138</td>\n",
       "      <td>114</td>\n",
       "    </tr>\n",
       "    <tr>\n",
       "      <th>3</th>\n",
       "      <td>4</td>\n",
       "      <td>142</td>\n",
       "      <td>111</td>\n",
       "    </tr>\n",
       "    <tr>\n",
       "      <th>4</th>\n",
       "      <td>5</td>\n",
       "      <td>146</td>\n",
       "      <td>129</td>\n",
       "    </tr>\n",
       "    <tr>\n",
       "      <th>5</th>\n",
       "      <td>6</td>\n",
       "      <td>136</td>\n",
       "      <td>119</td>\n",
       "    </tr>\n",
       "    <tr>\n",
       "      <th>6</th>\n",
       "      <td>7</td>\n",
       "      <td>94</td>\n",
       "      <td>97</td>\n",
       "    </tr>\n",
       "    <tr>\n",
       "      <th>7</th>\n",
       "      <td>8</td>\n",
       "      <td>103</td>\n",
       "      <td>104</td>\n",
       "    </tr>\n",
       "    <tr>\n",
       "      <th>8</th>\n",
       "      <td>9</td>\n",
       "      <td>140</td>\n",
       "      <td>127</td>\n",
       "    </tr>\n",
       "    <tr>\n",
       "      <th>9</th>\n",
       "      <td>10</td>\n",
       "      <td>152</td>\n",
       "      <td>133</td>\n",
       "    </tr>\n",
       "    <tr>\n",
       "      <th>10</th>\n",
       "      <td>11</td>\n",
       "      <td>108</td>\n",
       "      <td>103</td>\n",
       "    </tr>\n",
       "    <tr>\n",
       "      <th>11</th>\n",
       "      <td>12</td>\n",
       "      <td>97</td>\n",
       "      <td>108</td>\n",
       "    </tr>\n",
       "  </tbody>\n",
       "</table>\n",
       "</div>"
      ],
      "text/plain": [
       "    Order_Number  Barry_Price  Mary_Price\n",
       "0              1          126         114\n",
       "1              2          110         118\n",
       "2              3          138         114\n",
       "3              4          142         111\n",
       "4              5          146         129\n",
       "5              6          136         119\n",
       "6              7           94          97\n",
       "7              8          103         104\n",
       "8              9          140         127\n",
       "9             10          152         133\n",
       "10            11          108         103\n",
       "11            12           97         108"
      ]
     },
     "execution_count": 446,
     "metadata": {},
     "output_type": "execute_result"
    }
   ],
   "source": [
    "Price_quotes"
   ]
  },
  {
   "cell_type": "code",
   "execution_count": 447,
   "id": "0b2e245e",
   "metadata": {},
   "outputs": [
    {
     "name": "stdout",
     "output_type": "stream",
     "text": [
      "<class 'pandas.core.frame.DataFrame'>\n",
      "RangeIndex: 12 entries, 0 to 11\n",
      "Data columns (total 3 columns):\n",
      " #   Column        Non-Null Count  Dtype\n",
      "---  ------        --------------  -----\n",
      " 0   Order_Number  12 non-null     int64\n",
      " 1   Barry_Price   12 non-null     int64\n",
      " 2   Mary_Price    12 non-null     int64\n",
      "dtypes: int64(3)\n",
      "memory usage: 420.0 bytes\n"
     ]
    }
   ],
   "source": [
    "Price_quotes.info()"
   ]
  },
  {
   "cell_type": "code",
   "execution_count": 448,
   "id": "a4b751da",
   "metadata": {},
   "outputs": [
    {
     "data": {
      "text/plain": [
       "Order_Number    0\n",
       "Barry_Price     0\n",
       "Mary_Price      0\n",
       "dtype: int64"
      ]
     },
     "execution_count": 448,
     "metadata": {},
     "output_type": "execute_result"
    }
   ],
   "source": [
    "# checking for null values\n",
    "Price_quotes.isna().sum()"
   ]
  },
  {
   "cell_type": "code",
   "execution_count": 449,
   "id": "c807fbaf",
   "metadata": {},
   "outputs": [
    {
     "data": {
      "text/plain": [
       "0"
      ]
     },
     "execution_count": 449,
     "metadata": {},
     "output_type": "execute_result"
    }
   ],
   "source": [
    "# checking for duplicate values\n",
    "Price_quotes.duplicated().sum()"
   ]
  },
  {
   "cell_type": "code",
   "execution_count": 450,
   "id": "93b074fe",
   "metadata": {},
   "outputs": [
    {
     "data": {
      "image/png": "[encoded data removed]",
      "text/plain": [
       "<Figure size 800x400 with 2 Axes>"
      ]
     },
     "metadata": {},
     "output_type": "display_data"
    }
   ],
   "source": [
    "# checking for outliers\n",
    "\n",
    "fig,axs= plt.subplots(1,2,figsize=(8,4))\n",
    "sns.boxplot(x= Price_quotes['Barry_Price'],ax=axs[0])\n",
    "sns.boxplot(x= Price_quotes['Mary_Price'],ax=axs[1])\n",
    "axs[0].set_title('Box plot for Barry Price')\n",
    "axs[1].set_title('Box plot for Marry Price')\n",
    "plt.tight_layout()\n",
    "plt.show()"
   ]
  },
  {
   "cell_type": "markdown",
   "id": "0217083f",
   "metadata": {},
   "source": [
    "###  We would like to assess if there is any difference in the average price quotes provided by Mary and Barry."
   ]
  },
  {
   "cell_type": "code",
   "execution_count": 451,
   "id": "f0fe7101",
   "metadata": {},
   "outputs": [],
   "source": [
    "# Define the hypothesis\n",
    "\n",
    "# Null Hypothesis (H0): There is no significant difference b/w the average prices quote by pricing experts.\n",
    "\n",
    "# Alternate Hypothesis (Ha): There is a significant difference b/w the average prices quote by pricing experts.\n",
    "\n",
    "# CI(Confidence Interval): 95%\n",
    "\n",
    "# Significance of value (p-value)- 5% (0.05)"
   ]
  },
  {
   "cell_type": "code",
   "execution_count": 452,
   "id": "00b67a7b",
   "metadata": {},
   "outputs": [
    {
     "data": {
      "text/plain": [
       "124.33"
      ]
     },
     "execution_count": 452,
     "metadata": {},
     "output_type": "execute_result"
    }
   ],
   "source": [
    "Barry_avg = round(Price_quotes['Barry_Price'].mean(),2)\n",
    "Barry_avg"
   ]
  },
  {
   "cell_type": "code",
   "execution_count": 453,
   "id": "df5e876a",
   "metadata": {},
   "outputs": [
    {
     "data": {
      "text/plain": [
       "114.75"
      ]
     },
     "execution_count": 453,
     "metadata": {},
     "output_type": "execute_result"
    }
   ],
   "source": [
    "Mary_avg = Price_quotes['Mary_Price'].mean()\n",
    "Mary_avg "
   ]
  },
  {
   "cell_type": "code",
   "execution_count": 454,
   "id": "a1db2c28",
   "metadata": {},
   "outputs": [
    {
     "name": "stdout",
     "output_type": "stream",
     "text": [
      "The average price quoted by Barry is  124.33\n",
      "The average price quoted by Mary is  114.75\n"
     ]
    }
   ],
   "source": [
    "print(\"The average price quoted by Barry is \",Barry_avg.mean())\n",
    "print(\"The average price quoted by Mary is \",Mary_avg.mean())\n"
   ]
  },
  {
   "cell_type": "code",
   "execution_count": 455,
   "id": "89f0cfa7",
   "metadata": {},
   "outputs": [
    {
     "data": {
      "text/plain": [
       "Ttest_indResult(statistic=1.4147436739281787, pvalue=0.17114226132118285)"
      ]
     },
     "execution_count": 455,
     "metadata": {},
     "output_type": "execute_result"
    }
   ],
   "source": [
    "# Here we will perform T-Test independent because both the prices quoted by experts are independent over each other\n",
    "\n",
    "stats.ttest_ind(Price_quotes['Barry_Price'],Price_quotes['Mary_Price'])"
   ]
  },
  {
   "cell_type": "markdown",
   "id": "fdf894ac",
   "metadata": {},
   "source": [
    "### Business Conclusion:\n",
    "\n",
    "*defined p-value= 0.05*\n",
    "\n",
    "*Revised p-value is greater than defined p-value*\n",
    "\n",
    "*revised p-value= 0.17114226132118285*\n",
    "\n",
    "*Since the revised p-value > defined p-value , so probability of H0 becoming True increases. And hence we fail to reject null hypothesis(H0)*\n",
    "\n",
    "*Therefore, we can claim that there is no significant difference b/w the average prices quote by pricing experts (Barry and Mary) with the given sample.*\n"
   ]
  },
  {
   "cell_type": "markdown",
   "id": "e9f828ce",
   "metadata": {},
   "source": [
    "## BUSINESS PROBLEM - 3"
   ]
  },
  {
   "cell_type": "code",
   "execution_count": 456,
   "id": "8d7b9844",
   "metadata": {},
   "outputs": [],
   "source": [
    "# Reading the files\n",
    "\n",
    "Treatment = pd.read_csv(r'C:\\Users\\91896\\OneDrive\\Desktop\\AnalytixLabs\\PYTHON ASSIGNMENT AND CASE STUDIES\\PYTHON CASE STUDIES\\Basic Statistics - Hypothesis Testing\\4. Basic Statistics - Hypothesis Testing\\Treatment_Facility.csv')"
   ]
  },
  {
   "cell_type": "code",
   "execution_count": 457,
   "id": "0ce62c31",
   "metadata": {},
   "outputs": [
    {
     "data": {
      "text/html": [
       "<div>\n",
       "<style scoped>\n",
       "    .dataframe tbody tr th:only-of-type {\n",
       "        vertical-align: middle;\n",
       "    }\n",
       "\n",
       "    .dataframe tbody tr th {\n",
       "        vertical-align: top;\n",
       "    }\n",
       "\n",
       "    .dataframe thead th {\n",
       "        text-align: right;\n",
       "    }\n",
       "</style>\n",
       "<table border=\"1\" class=\"dataframe\">\n",
       "  <thead>\n",
       "    <tr style=\"text-align: right;\">\n",
       "      <th></th>\n",
       "      <th>Month</th>\n",
       "      <th>Reengineer</th>\n",
       "      <th>Employee_Turnover</th>\n",
       "      <th>VAR4</th>\n",
       "      <th>VAR5</th>\n",
       "    </tr>\n",
       "  </thead>\n",
       "  <tbody>\n",
       "    <tr>\n",
       "      <th>0</th>\n",
       "      <td>1</td>\n",
       "      <td>Prior</td>\n",
       "      <td>0.0000</td>\n",
       "      <td>24.390244</td>\n",
       "      <td>42.682927</td>\n",
       "    </tr>\n",
       "    <tr>\n",
       "      <th>1</th>\n",
       "      <td>2</td>\n",
       "      <td>Prior</td>\n",
       "      <td>6.0606</td>\n",
       "      <td>19.354839</td>\n",
       "      <td>25.806452</td>\n",
       "    </tr>\n",
       "    <tr>\n",
       "      <th>2</th>\n",
       "      <td>3</td>\n",
       "      <td>Prior</td>\n",
       "      <td>12.1212</td>\n",
       "      <td>35.087719</td>\n",
       "      <td>146.198830</td>\n",
       "    </tr>\n",
       "    <tr>\n",
       "      <th>3</th>\n",
       "      <td>4</td>\n",
       "      <td>Prior</td>\n",
       "      <td>3.3333</td>\n",
       "      <td>18.404908</td>\n",
       "      <td>110.429448</td>\n",
       "    </tr>\n",
       "    <tr>\n",
       "      <th>4</th>\n",
       "      <td>5</td>\n",
       "      <td>Prior</td>\n",
       "      <td>12.9032</td>\n",
       "      <td>17.964072</td>\n",
       "      <td>23.952096</td>\n",
       "    </tr>\n",
       "    <tr>\n",
       "      <th>5</th>\n",
       "      <td>6</td>\n",
       "      <td>Prior</td>\n",
       "      <td>9.6774</td>\n",
       "      <td>41.176471</td>\n",
       "      <td>47.058824</td>\n",
       "    </tr>\n",
       "    <tr>\n",
       "      <th>6</th>\n",
       "      <td>7</td>\n",
       "      <td>Prior</td>\n",
       "      <td>11.7647</td>\n",
       "      <td>13.422819</td>\n",
       "      <td>0.000000</td>\n",
       "    </tr>\n",
       "    <tr>\n",
       "      <th>7</th>\n",
       "      <td>8</td>\n",
       "      <td>Prior</td>\n",
       "      <td>11.4286</td>\n",
       "      <td>31.250000</td>\n",
       "      <td>25.000000</td>\n",
       "    </tr>\n",
       "    <tr>\n",
       "      <th>8</th>\n",
       "      <td>9</td>\n",
       "      <td>Prior</td>\n",
       "      <td>23.0769</td>\n",
       "      <td>17.241379</td>\n",
       "      <td>132.183908</td>\n",
       "    </tr>\n",
       "    <tr>\n",
       "      <th>9</th>\n",
       "      <td>10</td>\n",
       "      <td>Prior</td>\n",
       "      <td>15.0000</td>\n",
       "      <td>16.574586</td>\n",
       "      <td>16.574586</td>\n",
       "    </tr>\n",
       "    <tr>\n",
       "      <th>10</th>\n",
       "      <td>11</td>\n",
       "      <td>Prior</td>\n",
       "      <td>10.0000</td>\n",
       "      <td>5.917160</td>\n",
       "      <td>88.757396</td>\n",
       "    </tr>\n",
       "    <tr>\n",
       "      <th>11</th>\n",
       "      <td>12</td>\n",
       "      <td>Prior</td>\n",
       "      <td>26.0870</td>\n",
       "      <td>21.164021</td>\n",
       "      <td>31.746032</td>\n",
       "    </tr>\n",
       "    <tr>\n",
       "      <th>12</th>\n",
       "      <td>13</td>\n",
       "      <td>Prior</td>\n",
       "      <td>11.1111</td>\n",
       "      <td>5.076142</td>\n",
       "      <td>10.152284</td>\n",
       "    </tr>\n",
       "    <tr>\n",
       "      <th>13</th>\n",
       "      <td>14</td>\n",
       "      <td>Post</td>\n",
       "      <td>26.6667</td>\n",
       "      <td>9.708738</td>\n",
       "      <td>29.126214</td>\n",
       "    </tr>\n",
       "    <tr>\n",
       "      <th>14</th>\n",
       "      <td>15</td>\n",
       "      <td>Post</td>\n",
       "      <td>17.9487</td>\n",
       "      <td>4.201681</td>\n",
       "      <td>21.008403</td>\n",
       "    </tr>\n",
       "    <tr>\n",
       "      <th>15</th>\n",
       "      <td>16</td>\n",
       "      <td>Post</td>\n",
       "      <td>12.8205</td>\n",
       "      <td>13.043478</td>\n",
       "      <td>34.782609</td>\n",
       "    </tr>\n",
       "    <tr>\n",
       "      <th>16</th>\n",
       "      <td>17</td>\n",
       "      <td>Post</td>\n",
       "      <td>15.7895</td>\n",
       "      <td>9.950249</td>\n",
       "      <td>19.900498</td>\n",
       "    </tr>\n",
       "    <tr>\n",
       "      <th>17</th>\n",
       "      <td>18</td>\n",
       "      <td>Post</td>\n",
       "      <td>0.0000</td>\n",
       "      <td>9.950249</td>\n",
       "      <td>9.950249</td>\n",
       "    </tr>\n",
       "    <tr>\n",
       "      <th>18</th>\n",
       "      <td>19</td>\n",
       "      <td>Post</td>\n",
       "      <td>30.7692</td>\n",
       "      <td>8.510638</td>\n",
       "      <td>25.531915</td>\n",
       "    </tr>\n",
       "    <tr>\n",
       "      <th>19</th>\n",
       "      <td>20</td>\n",
       "      <td>Post</td>\n",
       "      <td>26.8293</td>\n",
       "      <td>9.259259</td>\n",
       "      <td>23.148148</td>\n",
       "    </tr>\n",
       "  </tbody>\n",
       "</table>\n",
       "</div>"
      ],
      "text/plain": [
       "    Month Reengineer  Employee_Turnover       VAR4        VAR5\n",
       "0       1      Prior             0.0000  24.390244   42.682927\n",
       "1       2      Prior             6.0606  19.354839   25.806452\n",
       "2       3      Prior            12.1212  35.087719  146.198830\n",
       "3       4      Prior             3.3333  18.404908  110.429448\n",
       "4       5      Prior            12.9032  17.964072   23.952096\n",
       "5       6      Prior             9.6774  41.176471   47.058824\n",
       "6       7      Prior            11.7647  13.422819    0.000000\n",
       "7       8      Prior            11.4286  31.250000   25.000000\n",
       "8       9      Prior            23.0769  17.241379  132.183908\n",
       "9      10      Prior            15.0000  16.574586   16.574586\n",
       "10     11      Prior            10.0000   5.917160   88.757396\n",
       "11     12      Prior            26.0870  21.164021   31.746032\n",
       "12     13      Prior            11.1111   5.076142   10.152284\n",
       "13     14       Post            26.6667   9.708738   29.126214\n",
       "14     15       Post            17.9487   4.201681   21.008403\n",
       "15     16       Post            12.8205  13.043478   34.782609\n",
       "16     17       Post            15.7895   9.950249   19.900498\n",
       "17     18       Post             0.0000   9.950249    9.950249\n",
       "18     19       Post            30.7692   8.510638   25.531915\n",
       "19     20       Post            26.8293   9.259259   23.148148"
      ]
     },
     "execution_count": 457,
     "metadata": {},
     "output_type": "execute_result"
    }
   ],
   "source": [
    "Treatment"
   ]
  },
  {
   "cell_type": "code",
   "execution_count": 458,
   "id": "ebece7d8",
   "metadata": {},
   "outputs": [
    {
     "name": "stdout",
     "output_type": "stream",
     "text": [
      "<class 'pandas.core.frame.DataFrame'>\n",
      "RangeIndex: 20 entries, 0 to 19\n",
      "Data columns (total 5 columns):\n",
      " #   Column             Non-Null Count  Dtype  \n",
      "---  ------             --------------  -----  \n",
      " 0   Month              20 non-null     int64  \n",
      " 1   Reengineer         20 non-null     object \n",
      " 2   Employee_Turnover  20 non-null     float64\n",
      " 3   VAR4               20 non-null     float64\n",
      " 4   VAR5               20 non-null     float64\n",
      "dtypes: float64(3), int64(1), object(1)\n",
      "memory usage: 932.0+ bytes\n"
     ]
    }
   ],
   "source": [
    "Treatment.info()"
   ]
  },
  {
   "cell_type": "code",
   "execution_count": 459,
   "id": "ff8b33c9",
   "metadata": {},
   "outputs": [
    {
     "data": {
      "text/plain": [
       "Month                0\n",
       "Reengineer           0\n",
       "Employee_Turnover    0\n",
       "VAR4                 0\n",
       "VAR5                 0\n",
       "dtype: int64"
      ]
     },
     "execution_count": 459,
     "metadata": {},
     "output_type": "execute_result"
    }
   ],
   "source": [
    "# checking for null values\n",
    "Treatment.isna().sum()"
   ]
  },
  {
   "cell_type": "code",
   "execution_count": 460,
   "id": "3f26a436",
   "metadata": {},
   "outputs": [
    {
     "data": {
      "text/plain": [
       "0"
      ]
     },
     "execution_count": 460,
     "metadata": {},
     "output_type": "execute_result"
    }
   ],
   "source": [
    "# checking for duplicate values\n",
    "Treatment.duplicated().sum()"
   ]
  },
  {
   "cell_type": "code",
   "execution_count": 461,
   "id": "d977b537",
   "metadata": {},
   "outputs": [],
   "source": [
    "# Renaming the columns\n",
    "Treatment.rename(columns={'VAR4':'TRFF','VAR5':'CI'}, inplace=True)"
   ]
  },
  {
   "cell_type": "code",
   "execution_count": 462,
   "id": "7abf9460",
   "metadata": {},
   "outputs": [
    {
     "data": {
      "text/html": [
       "<div>\n",
       "<style scoped>\n",
       "    .dataframe tbody tr th:only-of-type {\n",
       "        vertical-align: middle;\n",
       "    }\n",
       "\n",
       "    .dataframe tbody tr th {\n",
       "        vertical-align: top;\n",
       "    }\n",
       "\n",
       "    .dataframe thead th {\n",
       "        text-align: right;\n",
       "    }\n",
       "</style>\n",
       "<table border=\"1\" class=\"dataframe\">\n",
       "  <thead>\n",
       "    <tr style=\"text-align: right;\">\n",
       "      <th></th>\n",
       "      <th>Month</th>\n",
       "      <th>Reengineer</th>\n",
       "      <th>Employee_Turnover</th>\n",
       "      <th>TRFF</th>\n",
       "      <th>CI</th>\n",
       "    </tr>\n",
       "  </thead>\n",
       "  <tbody>\n",
       "    <tr>\n",
       "      <th>0</th>\n",
       "      <td>1</td>\n",
       "      <td>Prior</td>\n",
       "      <td>0.0000</td>\n",
       "      <td>24.390244</td>\n",
       "      <td>42.682927</td>\n",
       "    </tr>\n",
       "    <tr>\n",
       "      <th>1</th>\n",
       "      <td>2</td>\n",
       "      <td>Prior</td>\n",
       "      <td>6.0606</td>\n",
       "      <td>19.354839</td>\n",
       "      <td>25.806452</td>\n",
       "    </tr>\n",
       "    <tr>\n",
       "      <th>2</th>\n",
       "      <td>3</td>\n",
       "      <td>Prior</td>\n",
       "      <td>12.1212</td>\n",
       "      <td>35.087719</td>\n",
       "      <td>146.198830</td>\n",
       "    </tr>\n",
       "  </tbody>\n",
       "</table>\n",
       "</div>"
      ],
      "text/plain": [
       "   Month Reengineer  Employee_Turnover       TRFF          CI\n",
       "0      1      Prior             0.0000  24.390244   42.682927\n",
       "1      2      Prior             6.0606  19.354839   25.806452\n",
       "2      3      Prior            12.1212  35.087719  146.198830"
      ]
     },
     "execution_count": 462,
     "metadata": {},
     "output_type": "execute_result"
    }
   ],
   "source": [
    "Treatment.head(3)"
   ]
  },
  {
   "cell_type": "markdown",
   "id": "0b6def2d",
   "metadata": {},
   "source": [
    "### Determine what effect, if any, the reengineering effort had on the incidence behavioral problems and staff turnover. i.e To determine if the reengineering effort changed the critical incidence rate. Is there evidence that the critical incidence rate improved?"
   ]
  },
  {
   "cell_type": "markdown",
   "id": "bf8c13ec",
   "metadata": {},
   "source": [
    "### a) Is there any effect of reengineering effort on staff turnover?\n"
   ]
  },
  {
   "cell_type": "code",
   "execution_count": 463,
   "id": "4416c588",
   "metadata": {},
   "outputs": [],
   "source": [
    "# Define the hypothesis\n",
    "\n",
    "# Null Hypothesis (H0): There is no effect of reengineering effort on staff turnover.\n",
    "\n",
    "# Alternate Hypothesis (Ha): There is an effect of reengineering effort on staff turnover.\n",
    "\n",
    "# CI(Confidence Interval): 99%\n",
    "\n",
    "# Significance of value (p-value)- 1% (0.01)"
   ]
  },
  {
   "cell_type": "code",
   "execution_count": 464,
   "id": "8c59cb10",
   "metadata": {},
   "outputs": [
    {
     "data": {
      "text/plain": [
       "Index(['Month', 'Reengineer', 'Employee_Turnover', 'TRFF', 'CI'], dtype='object')"
      ]
     },
     "execution_count": 464,
     "metadata": {},
     "output_type": "execute_result"
    }
   ],
   "source": [
    "Treatment.columns"
   ]
  },
  {
   "cell_type": "code",
   "execution_count": 465,
   "id": "ab9334d6",
   "metadata": {},
   "outputs": [
    {
     "data": {
      "text/plain": [
       "Prior    13\n",
       "Post      7\n",
       "Name: Reengineer, dtype: int64"
      ]
     },
     "execution_count": 465,
     "metadata": {},
     "output_type": "execute_result"
    }
   ],
   "source": [
    "Treatment.Reengineer.value_counts()"
   ]
  },
  {
   "cell_type": "code",
   "execution_count": 466,
   "id": "ebfeb209",
   "metadata": {},
   "outputs": [
    {
     "data": {
      "text/plain": [
       "0      0.0000\n",
       "1      6.0606\n",
       "2     12.1212\n",
       "3      3.3333\n",
       "4     12.9032\n",
       "5      9.6774\n",
       "6     11.7647\n",
       "7     11.4286\n",
       "8     23.0769\n",
       "9     15.0000\n",
       "10    10.0000\n",
       "11    26.0870\n",
       "12    11.1111\n",
       "Name: Employee_Turnover, dtype: float64"
      ]
     },
     "execution_count": 466,
     "metadata": {},
     "output_type": "execute_result"
    }
   ],
   "source": [
    "prior_turnover = Treatment.loc[Treatment['Reengineer']=='Prior','Employee_Turnover']\n",
    "prior_turnover "
   ]
  },
  {
   "cell_type": "code",
   "execution_count": 467,
   "id": "b09b8018",
   "metadata": {},
   "outputs": [
    {
     "data": {
      "text/plain": [
       "13    26.6667\n",
       "14    17.9487\n",
       "15    12.8205\n",
       "16    15.7895\n",
       "17     0.0000\n",
       "18    30.7692\n",
       "19    26.8293\n",
       "Name: Employee_Turnover, dtype: float64"
      ]
     },
     "execution_count": 467,
     "metadata": {},
     "output_type": "execute_result"
    }
   ],
   "source": [
    "post_turnover = Treatment.loc[Treatment['Reengineer']=='Post','Employee_Turnover']\n",
    "post_turnover "
   ]
  },
  {
   "cell_type": "code",
   "execution_count": 468,
   "id": "7ae1a6e2",
   "metadata": {},
   "outputs": [
    {
     "name": "stdout",
     "output_type": "stream",
     "text": [
      "average employee turnover prior reengineering : 11.735692307692307\n",
      "average employee turnover post reengineering : 18.68912857142857\n"
     ]
    }
   ],
   "source": [
    "print('average employee turnover prior reengineering :',prior_turnover.mean())\n",
    "print('average employee turnover post reengineering :',post_turnover.mean())"
   ]
  },
  {
   "cell_type": "code",
   "execution_count": 469,
   "id": "81bc1b2c",
   "metadata": {},
   "outputs": [
    {
     "data": {
      "text/plain": [
       "Ttest_indResult(statistic=-1.770306704753604, pvalue=0.09361109345535304)"
      ]
     },
     "execution_count": 469,
     "metadata": {},
     "output_type": "execute_result"
    }
   ],
   "source": [
    "# Perform the test\n",
    "# we have 2 independent samples of prior and post turnover, so use T-Test independent\n",
    "\n",
    "stats.ttest_ind(prior_turnover,post_turnover)\n"
   ]
  },
  {
   "cell_type": "markdown",
   "id": "35164b96",
   "metadata": {},
   "source": [
    "### Business Conclusion:\n",
    "\n",
    "*defined p-value= 0.01*\n",
    "\n",
    "*Revised p-value is greater than defined p-value*\n",
    "\n",
    "*revised p-value= 0.09361109345535304*\n",
    "\n",
    "*Since the revised p-value > defined p-value , so probability of H0 becoming True increases. Hence we fail to reject null hypothesis(H0)*\n",
    "\n",
    "*Therefore, we can claim that there is no effect of reengineering effort on staff turnover.*\n",
    "\n",
    "*Hence we cannot say that reengineering effort has changed the staff turnover rate with the given sample.*"
   ]
  },
  {
   "cell_type": "markdown",
   "id": "c4bb9323",
   "metadata": {},
   "source": [
    "### b) Is reengineering effort changed critical incidence rate?\n"
   ]
  },
  {
   "cell_type": "code",
   "execution_count": 470,
   "id": "3a2d3933",
   "metadata": {},
   "outputs": [],
   "source": [
    "# Define the hypothesis\n",
    "\n",
    "# Null Hypothesis (H0): There is no change in critical incidence rate with the reengineering effort.\n",
    "\n",
    "# Alternate Hypothesis (Ha): There is a change in critical incidence rate with the reengineering effort.\n",
    "\n",
    "# CI(Confidence Interval): 99%\n",
    "\n",
    "# Significance of value (p-value)- 1% (0.01)"
   ]
  },
  {
   "cell_type": "code",
   "execution_count": 471,
   "id": "fd88e98f",
   "metadata": {},
   "outputs": [
    {
     "data": {
      "text/plain": [
       "Index(['Month', 'Reengineer', 'Employee_Turnover', 'TRFF', 'CI'], dtype='object')"
      ]
     },
     "execution_count": 471,
     "metadata": {},
     "output_type": "execute_result"
    }
   ],
   "source": [
    "Treatment.columns"
   ]
  },
  {
   "cell_type": "code",
   "execution_count": 472,
   "id": "c56bece5",
   "metadata": {},
   "outputs": [
    {
     "data": {
      "text/plain": [
       "0      42.682927\n",
       "1      25.806452\n",
       "2     146.198830\n",
       "3     110.429448\n",
       "4      23.952096\n",
       "5      47.058824\n",
       "6       0.000000\n",
       "7      25.000000\n",
       "8     132.183908\n",
       "9      16.574586\n",
       "10     88.757396\n",
       "11     31.746032\n",
       "12     10.152284\n",
       "Name: CI, dtype: float64"
      ]
     },
     "execution_count": 472,
     "metadata": {},
     "output_type": "execute_result"
    }
   ],
   "source": [
    "prior_CI = Treatment.loc[Treatment['Reengineer']=='Prior','CI']\n",
    "prior_CI "
   ]
  },
  {
   "cell_type": "code",
   "execution_count": 473,
   "id": "fed55d91",
   "metadata": {},
   "outputs": [
    {
     "data": {
      "text/plain": [
       "13    29.126214\n",
       "14    21.008403\n",
       "15    34.782609\n",
       "16    19.900498\n",
       "17     9.950249\n",
       "18    25.531915\n",
       "19    23.148148\n",
       "Name: CI, dtype: float64"
      ]
     },
     "execution_count": 473,
     "metadata": {},
     "output_type": "execute_result"
    }
   ],
   "source": [
    "post_CI = Treatment.loc[Treatment['Reengineer']=='Post','CI']\n",
    "post_CI"
   ]
  },
  {
   "cell_type": "code",
   "execution_count": 475,
   "id": "c12ea2a2",
   "metadata": {},
   "outputs": [
    {
     "name": "stdout",
     "output_type": "stream",
     "text": [
      "average critical incidence rate prior reengineering : 53.887906321846145\n",
      "average critical incidence rate post reengineering : 23.34971927988571\n"
     ]
    }
   ],
   "source": [
    "print('average critical incidence rate prior reengineering :',prior_CI.mean())\n",
    "print('average critical incidence rate post reengineering :',post_CI.mean())"
   ]
  },
  {
   "cell_type": "code",
   "execution_count": 476,
   "id": "48627282",
   "metadata": {},
   "outputs": [
    {
     "data": {
      "text/plain": [
       "Ttest_indResult(statistic=1.627914425352865, pvalue=0.12091989189884148)"
      ]
     },
     "execution_count": 476,
     "metadata": {},
     "output_type": "execute_result"
    }
   ],
   "source": [
    "# Perform the test\n",
    "# we have 2 independent samples of prior and post critical incidence rate , so use T-Test independent\n",
    "\n",
    "stats.ttest_ind(prior_CI,post_CI)"
   ]
  },
  {
   "cell_type": "markdown",
   "id": "a4fb9da6",
   "metadata": {},
   "source": [
    "### Business Conclusion:\n",
    "\n",
    "*defined p-value= 0.01*\n",
    "\n",
    "*Revised p-value is greater than defined p-value*\n",
    "\n",
    "*revised p-value= 0.12091989189884148*\n",
    "\n",
    "*Since the revised p-value > defined p-value , so probability of H0 becoming True increases. Hence we fail to reject null hypothesis(H0)*\n",
    "\n",
    "*Therefore, we can claim that there is no change in critical incidence rate with the reengineering effort.*\n",
    "\n",
    "*Hence we cannot say that the reeingineering effort has changed critical incidence rate with the given sample .*"
   ]
  },
  {
   "cell_type": "markdown",
   "id": "e323d5e1",
   "metadata": {},
   "source": [
    "## BUSINESS PROBLEM - 4"
   ]
  },
  {
   "cell_type": "code",
   "execution_count": 477,
   "id": "fef79ad8",
   "metadata": {},
   "outputs": [],
   "source": [
    "# Reading the files\n",
    "\n",
    "Priority_Asses = pd.read_csv(r'C:\\Users\\91896\\OneDrive\\Desktop\\AnalytixLabs\\PYTHON ASSIGNMENT AND CASE STUDIES\\PYTHON CASE STUDIES\\Basic Statistics - Hypothesis Testing\\4. Basic Statistics - Hypothesis Testing\\Priority_Assessment.csv')"
   ]
  },
  {
   "cell_type": "code",
   "execution_count": 478,
   "id": "3dc2cea4",
   "metadata": {},
   "outputs": [
    {
     "data": {
      "text/html": [
       "<div>\n",
       "<style scoped>\n",
       "    .dataframe tbody tr th:only-of-type {\n",
       "        vertical-align: middle;\n",
       "    }\n",
       "\n",
       "    .dataframe tbody tr th {\n",
       "        vertical-align: top;\n",
       "    }\n",
       "\n",
       "    .dataframe thead th {\n",
       "        text-align: right;\n",
       "    }\n",
       "</style>\n",
       "<table border=\"1\" class=\"dataframe\">\n",
       "  <thead>\n",
       "    <tr style=\"text-align: right;\">\n",
       "      <th></th>\n",
       "      <th>Days</th>\n",
       "      <th>Priority</th>\n",
       "    </tr>\n",
       "  </thead>\n",
       "  <tbody>\n",
       "    <tr>\n",
       "      <th>0</th>\n",
       "      <td>3.3</td>\n",
       "      <td>High</td>\n",
       "    </tr>\n",
       "    <tr>\n",
       "      <th>1</th>\n",
       "      <td>7.9</td>\n",
       "      <td>Medium</td>\n",
       "    </tr>\n",
       "    <tr>\n",
       "      <th>2</th>\n",
       "      <td>0.3</td>\n",
       "      <td>High</td>\n",
       "    </tr>\n",
       "    <tr>\n",
       "      <th>3</th>\n",
       "      <td>0.7</td>\n",
       "      <td>Medium</td>\n",
       "    </tr>\n",
       "    <tr>\n",
       "      <th>4</th>\n",
       "      <td>8.6</td>\n",
       "      <td>Medium</td>\n",
       "    </tr>\n",
       "    <tr>\n",
       "      <th>...</th>\n",
       "      <td>...</td>\n",
       "      <td>...</td>\n",
       "    </tr>\n",
       "    <tr>\n",
       "      <th>637</th>\n",
       "      <td>2.5</td>\n",
       "      <td>Low</td>\n",
       "    </tr>\n",
       "    <tr>\n",
       "      <th>638</th>\n",
       "      <td>0.3</td>\n",
       "      <td>High</td>\n",
       "    </tr>\n",
       "    <tr>\n",
       "      <th>639</th>\n",
       "      <td>0.3</td>\n",
       "      <td>Medium</td>\n",
       "    </tr>\n",
       "    <tr>\n",
       "      <th>640</th>\n",
       "      <td>1.3</td>\n",
       "      <td>Medium</td>\n",
       "    </tr>\n",
       "    <tr>\n",
       "      <th>641</th>\n",
       "      <td>0.5</td>\n",
       "      <td>High</td>\n",
       "    </tr>\n",
       "  </tbody>\n",
       "</table>\n",
       "<p>642 rows × 2 columns</p>\n",
       "</div>"
      ],
      "text/plain": [
       "     Days Priority\n",
       "0     3.3     High\n",
       "1     7.9   Medium\n",
       "2     0.3     High\n",
       "3     0.7   Medium\n",
       "4     8.6   Medium\n",
       "..    ...      ...\n",
       "637   2.5      Low\n",
       "638   0.3     High\n",
       "639   0.3   Medium\n",
       "640   1.3   Medium\n",
       "641   0.5     High\n",
       "\n",
       "[642 rows x 2 columns]"
      ]
     },
     "execution_count": 478,
     "metadata": {},
     "output_type": "execute_result"
    }
   ],
   "source": [
    "Priority_Asses"
   ]
  },
  {
   "cell_type": "code",
   "execution_count": 479,
   "id": "7ebadf77",
   "metadata": {},
   "outputs": [
    {
     "name": "stdout",
     "output_type": "stream",
     "text": [
      "<class 'pandas.core.frame.DataFrame'>\n",
      "RangeIndex: 642 entries, 0 to 641\n",
      "Data columns (total 2 columns):\n",
      " #   Column    Non-Null Count  Dtype  \n",
      "---  ------    --------------  -----  \n",
      " 0   Days      642 non-null    float64\n",
      " 1   Priority  642 non-null    object \n",
      "dtypes: float64(1), object(1)\n",
      "memory usage: 10.2+ KB\n"
     ]
    }
   ],
   "source": [
    "Priority_Asses.info()"
   ]
  },
  {
   "cell_type": "code",
   "execution_count": 480,
   "id": "291664f5",
   "metadata": {},
   "outputs": [
    {
     "data": {
      "text/plain": [
       "Days        0\n",
       "Priority    0\n",
       "dtype: int64"
      ]
     },
     "execution_count": 480,
     "metadata": {},
     "output_type": "execute_result"
    }
   ],
   "source": [
    "# checking for null values\n",
    "Priority_Asses.isna().sum()"
   ]
  },
  {
   "cell_type": "markdown",
   "id": "198c0c86",
   "metadata": {},
   "source": [
    "### We will focus on the prioritization system. If the system is working, then high priority jobs, on average, should be completed more quickly than medium priority jobs, and medium priority jobs should be completed more quickly than low priority jobs. Use the data provided to determine whether this is, in fact, occurring."
   ]
  },
  {
   "cell_type": "code",
   "execution_count": 482,
   "id": "6d80f043",
   "metadata": {},
   "outputs": [],
   "source": [
    "#Define the hypothesis\n",
    "\n",
    "# Null Hypothesis(H0): Prioritisation system has no effect on job priority.\n",
    "# (High prioriy jobs are not completed quickly than medium priority jobs, and medium priority jobs are not completed \n",
    "# quickly than low priority jobs )\n",
    "\n",
    "# Alternate Hypothesis(Ha): Prioritisation system has an effect on job priority.\n",
    "#(High prioriy jobs are completed more quickly than  medium priority jobs, and medium priority jobs are completed \n",
    "# more quickly than low priority jobs )\n",
    "\n",
    "# Confidence Interval(CI) - 95%\n",
    "\n",
    "# Significance of value (p-value) - 5% (0.05) "
   ]
  },
  {
   "cell_type": "code",
   "execution_count": 483,
   "id": "bf387c52",
   "metadata": {},
   "outputs": [
    {
     "data": {
      "text/html": [
       "<div>\n",
       "<style scoped>\n",
       "    .dataframe tbody tr th:only-of-type {\n",
       "        vertical-align: middle;\n",
       "    }\n",
       "\n",
       "    .dataframe tbody tr th {\n",
       "        vertical-align: top;\n",
       "    }\n",
       "\n",
       "    .dataframe thead th {\n",
       "        text-align: right;\n",
       "    }\n",
       "</style>\n",
       "<table border=\"1\" class=\"dataframe\">\n",
       "  <thead>\n",
       "    <tr style=\"text-align: right;\">\n",
       "      <th></th>\n",
       "      <th>Days</th>\n",
       "      <th>Priority</th>\n",
       "    </tr>\n",
       "  </thead>\n",
       "  <tbody>\n",
       "    <tr>\n",
       "      <th>0</th>\n",
       "      <td>3.3</td>\n",
       "      <td>High</td>\n",
       "    </tr>\n",
       "    <tr>\n",
       "      <th>1</th>\n",
       "      <td>7.9</td>\n",
       "      <td>Medium</td>\n",
       "    </tr>\n",
       "    <tr>\n",
       "      <th>2</th>\n",
       "      <td>0.3</td>\n",
       "      <td>High</td>\n",
       "    </tr>\n",
       "  </tbody>\n",
       "</table>\n",
       "</div>"
      ],
      "text/plain": [
       "   Days Priority\n",
       "0   3.3     High\n",
       "1   7.9   Medium\n",
       "2   0.3     High"
      ]
     },
     "execution_count": 483,
     "metadata": {},
     "output_type": "execute_result"
    }
   ],
   "source": [
    "Priority_Asses.head(3)"
   ]
  },
  {
   "cell_type": "code",
   "execution_count": 484,
   "id": "b1c86c98",
   "metadata": {},
   "outputs": [
    {
     "data": {
      "text/plain": [
       "High      326\n",
       "Medium    249\n",
       "Low        67\n",
       "Name: Priority, dtype: int64"
      ]
     },
     "execution_count": 484,
     "metadata": {},
     "output_type": "execute_result"
    }
   ],
   "source": [
    "# Type of priority\n",
    "\n",
    "Priority_Asses.Priority.value_counts()"
   ]
  },
  {
   "cell_type": "code",
   "execution_count": 485,
   "id": "394cf025",
   "metadata": {},
   "outputs": [],
   "source": [
    "# So here we have to compare means of more than 2 independent samples, that'y we will perform ANOVA - F-Test-Oneway\n",
    "\n",
    "High = Priority_Asses.loc[Priority_Asses['Priority']=='High', 'Days']\n",
    "Medium = Priority_Asses.loc[Priority_Asses['Priority']=='Medium', 'Days']\n",
    "Low = Priority_Asses.loc[Priority_Asses['Priority']=='Low', 'Days']"
   ]
  },
  {
   "cell_type": "code",
   "execution_count": 486,
   "id": "62fa02ac",
   "metadata": {},
   "outputs": [
    {
     "data": {
      "text/plain": [
       "0    3.3\n",
       "2    0.3\n",
       "5    0.3\n",
       "6    0.3\n",
       "7    0.3\n",
       "Name: Days, dtype: float64"
      ]
     },
     "execution_count": 486,
     "metadata": {},
     "output_type": "execute_result"
    }
   ],
   "source": [
    "High.head()"
   ]
  },
  {
   "cell_type": "code",
   "execution_count": 487,
   "id": "b2ed0884",
   "metadata": {},
   "outputs": [
    {
     "data": {
      "text/plain": [
       "1      7.9\n",
       "3      0.7\n",
       "4      8.6\n",
       "9     15.9\n",
       "11     0.3\n",
       "Name: Days, dtype: float64"
      ]
     },
     "execution_count": 487,
     "metadata": {},
     "output_type": "execute_result"
    }
   ],
   "source": [
    "Medium.head()"
   ]
  },
  {
   "cell_type": "code",
   "execution_count": 488,
   "id": "79d8d473",
   "metadata": {},
   "outputs": [
    {
     "data": {
      "text/plain": [
       "14    23.2\n",
       "15     5.3\n",
       "20     4.6\n",
       "23     1.8\n",
       "26    17.0\n",
       "Name: Days, dtype: float64"
      ]
     },
     "execution_count": 488,
     "metadata": {},
     "output_type": "execute_result"
    }
   ],
   "source": [
    "Low.head()"
   ]
  },
  {
   "cell_type": "code",
   "execution_count": 489,
   "id": "a96fae66",
   "metadata": {},
   "outputs": [
    {
     "name": "stdout",
     "output_type": "stream",
     "text": [
      "average of high priority jobs : 3.0236196319018402\n",
      "average of medium priority jobs : 2.5\n",
      "average of low priority jobs : 4.228358208955224\n"
     ]
    }
   ],
   "source": [
    "print('average of high priority jobs :',High.mean())\n",
    "print('average of medium priority jobs :',Medium.mean())\n",
    "print('average of low priority jobs :',Low.mean())"
   ]
  },
  {
   "cell_type": "code",
   "execution_count": 490,
   "id": "5ffb1591",
   "metadata": {},
   "outputs": [
    {
     "data": {
      "text/plain": [
       "F_onewayResult(statistic=1.812311010076072, pvalue=0.16411459461716182)"
      ]
     },
     "execution_count": 490,
     "metadata": {},
     "output_type": "execute_result"
    }
   ],
   "source": [
    "# Perform the test\n",
    "\n",
    "stats.f_oneway(High,Medium,Low)"
   ]
  },
  {
   "cell_type": "markdown",
   "id": "bc3ca0a5",
   "metadata": {},
   "source": [
    "### Business Conclusion:\n",
    "\n",
    "*defined p-value= 0.05*\n",
    "\n",
    "*Revised p-value is greater than defined p-value*\n",
    "\n",
    "*revised p-value= 0.16411459461716182*\n",
    "\n",
    "*Since the revised p-value > defined p-value , so probability of H0 becoming True increases. Hence we fail to reject null hypothesis(H0)*\n",
    "\n",
    "*Therefore, we can claim that prioritisation system has no effect on job priority.*\n",
    "\n",
    "*Hence we cannot say high prioriy jobs are completed more quickly than  medium priority jobs, and medium priority jobs are completed more quickly than low priority jobs with the given sample.*"
   ]
  },
  {
   "cell_type": "markdown",
   "id": "d21f7d13",
   "metadata": {},
   "source": [
    "## BUSINESS PROBLEM - 5"
   ]
  },
  {
   "cell_type": "code",
   "execution_count": 491,
   "id": "0ab2a5fd",
   "metadata": {},
   "outputs": [],
   "source": [
    "# Reading the files\n",
    "\n",
    "Films = pd.read_csv(r'C:\\Users\\91896\\OneDrive\\Desktop\\AnalytixLabs\\PYTHON ASSIGNMENT AND CASE STUDIES\\PYTHON CASE STUDIES\\Basic Statistics - Hypothesis Testing\\4. Basic Statistics - Hypothesis Testing\\Films.csv')"
   ]
  },
  {
   "cell_type": "code",
   "execution_count": 492,
   "id": "64c7d9d0",
   "metadata": {},
   "outputs": [
    {
     "data": {
      "text/html": [
       "<div>\n",
       "<style scoped>\n",
       "    .dataframe tbody tr th:only-of-type {\n",
       "        vertical-align: middle;\n",
       "    }\n",
       "\n",
       "    .dataframe tbody tr th {\n",
       "        vertical-align: top;\n",
       "    }\n",
       "\n",
       "    .dataframe thead th {\n",
       "        text-align: right;\n",
       "    }\n",
       "</style>\n",
       "<table border=\"1\" class=\"dataframe\">\n",
       "  <thead>\n",
       "    <tr style=\"text-align: right;\">\n",
       "      <th></th>\n",
       "      <th>_rowstate_</th>\n",
       "      <th>Movie</th>\n",
       "      <th>Gender</th>\n",
       "      <th>Marital_Status</th>\n",
       "      <th>Sinage</th>\n",
       "      <th>Parking</th>\n",
       "      <th>Clean</th>\n",
       "      <th>Overall</th>\n",
       "      <th>Age</th>\n",
       "      <th>Income</th>\n",
       "      <th>Hear_About</th>\n",
       "    </tr>\n",
       "  </thead>\n",
       "  <tbody>\n",
       "    <tr>\n",
       "      <th>0</th>\n",
       "      <td>0</td>\n",
       "      <td>Ferris Buellers Day Off</td>\n",
       "      <td>Female</td>\n",
       "      <td>Married</td>\n",
       "      <td>2.0</td>\n",
       "      <td>2.0</td>\n",
       "      <td>2.0</td>\n",
       "      <td>2.0</td>\n",
       "      <td>3.0</td>\n",
       "      <td>1.0</td>\n",
       "      <td>5</td>\n",
       "    </tr>\n",
       "    <tr>\n",
       "      <th>1</th>\n",
       "      <td>0</td>\n",
       "      <td>Ferris Buellers Day Off</td>\n",
       "      <td>Female</td>\n",
       "      <td>Single</td>\n",
       "      <td>1.0</td>\n",
       "      <td>1.0</td>\n",
       "      <td>1.0</td>\n",
       "      <td>1.0</td>\n",
       "      <td>2.0</td>\n",
       "      <td>1.0</td>\n",
       "      <td>5</td>\n",
       "    </tr>\n",
       "    <tr>\n",
       "      <th>2</th>\n",
       "      <td>0</td>\n",
       "      <td>Ferris Buellers Day Off</td>\n",
       "      <td>Male</td>\n",
       "      <td>Married</td>\n",
       "      <td>2.0</td>\n",
       "      <td>4.0</td>\n",
       "      <td>3.0</td>\n",
       "      <td>2.0</td>\n",
       "      <td>4.0</td>\n",
       "      <td>1.0</td>\n",
       "      <td>5</td>\n",
       "    </tr>\n",
       "    <tr>\n",
       "      <th>3</th>\n",
       "      <td>0</td>\n",
       "      <td>Ferris Buellers Day Off</td>\n",
       "      <td>Female</td>\n",
       "      <td>Married</td>\n",
       "      <td>1.0</td>\n",
       "      <td>3.0</td>\n",
       "      <td>2.0</td>\n",
       "      <td>2.0</td>\n",
       "      <td>4.0</td>\n",
       "      <td>1.0</td>\n",
       "      <td>5</td>\n",
       "    </tr>\n",
       "    <tr>\n",
       "      <th>4</th>\n",
       "      <td>0</td>\n",
       "      <td>Ferris Buellers Day Off</td>\n",
       "      <td>Female</td>\n",
       "      <td>Married</td>\n",
       "      <td>1.0</td>\n",
       "      <td>1.0</td>\n",
       "      <td>1.0</td>\n",
       "      <td>1.0</td>\n",
       "      <td>3.0</td>\n",
       "      <td>3.0</td>\n",
       "      <td>1</td>\n",
       "    </tr>\n",
       "    <tr>\n",
       "      <th>...</th>\n",
       "      <td>...</td>\n",
       "      <td>...</td>\n",
       "      <td>...</td>\n",
       "      <td>...</td>\n",
       "      <td>...</td>\n",
       "      <td>...</td>\n",
       "      <td>...</td>\n",
       "      <td>...</td>\n",
       "      <td>...</td>\n",
       "      <td>...</td>\n",
       "      <td>...</td>\n",
       "    </tr>\n",
       "    <tr>\n",
       "      <th>325</th>\n",
       "      <td>0</td>\n",
       "      <td>Old School</td>\n",
       "      <td>2</td>\n",
       "      <td>2</td>\n",
       "      <td>1.0</td>\n",
       "      <td>2.0</td>\n",
       "      <td>1.0</td>\n",
       "      <td>1.0</td>\n",
       "      <td>2.0</td>\n",
       "      <td>1.0</td>\n",
       "      <td>1</td>\n",
       "    </tr>\n",
       "    <tr>\n",
       "      <th>326</th>\n",
       "      <td>0</td>\n",
       "      <td>Old School</td>\n",
       "      <td>1</td>\n",
       "      <td>1</td>\n",
       "      <td>2.0</td>\n",
       "      <td>2.0</td>\n",
       "      <td>2.0</td>\n",
       "      <td>2.0</td>\n",
       "      <td>3.0</td>\n",
       "      <td>3.0</td>\n",
       "      <td>5</td>\n",
       "    </tr>\n",
       "    <tr>\n",
       "      <th>327</th>\n",
       "      <td>0</td>\n",
       "      <td>Old School</td>\n",
       "      <td>2</td>\n",
       "      <td>1</td>\n",
       "      <td>2.0</td>\n",
       "      <td>1.0</td>\n",
       "      <td>1.0</td>\n",
       "      <td>2.0</td>\n",
       "      <td>2.0</td>\n",
       "      <td>2.0</td>\n",
       "      <td>5</td>\n",
       "    </tr>\n",
       "    <tr>\n",
       "      <th>328</th>\n",
       "      <td>0</td>\n",
       "      <td>Old School</td>\n",
       "      <td>1</td>\n",
       "      <td>1</td>\n",
       "      <td>1.0</td>\n",
       "      <td>1.0</td>\n",
       "      <td>1.0</td>\n",
       "      <td>1.0</td>\n",
       "      <td>2.0</td>\n",
       "      <td>1.0</td>\n",
       "      <td>3</td>\n",
       "    </tr>\n",
       "    <tr>\n",
       "      <th>329</th>\n",
       "      <td>0</td>\n",
       "      <td>Old School</td>\n",
       "      <td>2</td>\n",
       "      <td>2</td>\n",
       "      <td>2.0</td>\n",
       "      <td>2.0</td>\n",
       "      <td>3.0</td>\n",
       "      <td>1.0</td>\n",
       "      <td>2.0</td>\n",
       "      <td>1.0</td>\n",
       "      <td>5</td>\n",
       "    </tr>\n",
       "  </tbody>\n",
       "</table>\n",
       "<p>330 rows × 11 columns</p>\n",
       "</div>"
      ],
      "text/plain": [
       "     _rowstate_                    Movie  Gender Marital_Status  Sinage  \\\n",
       "0             0  Ferris Buellers Day Off  Female        Married     2.0   \n",
       "1             0  Ferris Buellers Day Off  Female         Single     1.0   \n",
       "2             0  Ferris Buellers Day Off    Male        Married     2.0   \n",
       "3             0  Ferris Buellers Day Off  Female        Married     1.0   \n",
       "4             0  Ferris Buellers Day Off  Female        Married     1.0   \n",
       "..          ...                      ...     ...            ...     ...   \n",
       "325           0               Old School       2              2     1.0   \n",
       "326           0               Old School       1              1     2.0   \n",
       "327           0               Old School       2              1     2.0   \n",
       "328           0               Old School       1              1     1.0   \n",
       "329           0               Old School       2              2     2.0   \n",
       "\n",
       "     Parking  Clean  Overall  Age  Income Hear_About  \n",
       "0        2.0    2.0      2.0  3.0     1.0          5  \n",
       "1        1.0    1.0      1.0  2.0     1.0          5  \n",
       "2        4.0    3.0      2.0  4.0     1.0          5  \n",
       "3        3.0    2.0      2.0  4.0     1.0          5  \n",
       "4        1.0    1.0      1.0  3.0     3.0          1  \n",
       "..       ...    ...      ...  ...     ...        ...  \n",
       "325      2.0    1.0      1.0  2.0     1.0          1  \n",
       "326      2.0    2.0      2.0  3.0     3.0          5  \n",
       "327      1.0    1.0      2.0  2.0     2.0          5  \n",
       "328      1.0    1.0      1.0  2.0     1.0          3  \n",
       "329      2.0    3.0      1.0  2.0     1.0          5  \n",
       "\n",
       "[330 rows x 11 columns]"
      ]
     },
     "execution_count": 492,
     "metadata": {},
     "output_type": "execute_result"
    }
   ],
   "source": [
    "Films"
   ]
  },
  {
   "cell_type": "code",
   "execution_count": 493,
   "id": "48bf4c91",
   "metadata": {},
   "outputs": [
    {
     "name": "stdout",
     "output_type": "stream",
     "text": [
      "<class 'pandas.core.frame.DataFrame'>\n",
      "RangeIndex: 330 entries, 0 to 329\n",
      "Data columns (total 11 columns):\n",
      " #   Column          Non-Null Count  Dtype  \n",
      "---  ------          --------------  -----  \n",
      " 0   _rowstate_      330 non-null    int64  \n",
      " 1   Movie           330 non-null    object \n",
      " 2   Gender          330 non-null    object \n",
      " 3   Marital_Status  328 non-null    object \n",
      " 4   Sinage          328 non-null    float64\n",
      " 5   Parking         328 non-null    float64\n",
      " 6   Clean           327 non-null    float64\n",
      " 7   Overall         328 non-null    float64\n",
      " 8   Age             328 non-null    float64\n",
      " 9   Income          314 non-null    float64\n",
      " 10  Hear_About      323 non-null    object \n",
      "dtypes: float64(6), int64(1), object(4)\n",
      "memory usage: 28.5+ KB\n"
     ]
    }
   ],
   "source": [
    "Films.info()"
   ]
  },
  {
   "cell_type": "code",
   "execution_count": 494,
   "id": "6054e2e3",
   "metadata": {},
   "outputs": [
    {
     "data": {
      "text/plain": [
       "_rowstate_         0\n",
       "Movie              0\n",
       "Gender             0\n",
       "Marital_Status     2\n",
       "Sinage             2\n",
       "Parking            2\n",
       "Clean              3\n",
       "Overall            2\n",
       "Age                2\n",
       "Income            16\n",
       "Hear_About         7\n",
       "dtype: int64"
      ]
     },
     "execution_count": 494,
     "metadata": {},
     "output_type": "execute_result"
    }
   ],
   "source": [
    "# checking for null values\n",
    "Films.isna().sum()"
   ]
  },
  {
   "cell_type": "code",
   "execution_count": 495,
   "id": "b5b0b08f",
   "metadata": {},
   "outputs": [
    {
     "data": {
      "text/html": [
       "<div>\n",
       "<style scoped>\n",
       "    .dataframe tbody tr th:only-of-type {\n",
       "        vertical-align: middle;\n",
       "    }\n",
       "\n",
       "    .dataframe tbody tr th {\n",
       "        vertical-align: top;\n",
       "    }\n",
       "\n",
       "    .dataframe thead th {\n",
       "        text-align: right;\n",
       "    }\n",
       "</style>\n",
       "<table border=\"1\" class=\"dataframe\">\n",
       "  <thead>\n",
       "    <tr style=\"text-align: right;\">\n",
       "      <th></th>\n",
       "      <th>_rowstate_</th>\n",
       "      <th>Movie</th>\n",
       "      <th>Gender</th>\n",
       "      <th>Marital_Status</th>\n",
       "      <th>Sinage</th>\n",
       "      <th>Parking</th>\n",
       "      <th>Clean</th>\n",
       "      <th>Overall</th>\n",
       "      <th>Age</th>\n",
       "      <th>Income</th>\n",
       "      <th>Hear_About</th>\n",
       "    </tr>\n",
       "  </thead>\n",
       "  <tbody>\n",
       "    <tr>\n",
       "      <th>0</th>\n",
       "      <td>0</td>\n",
       "      <td>Ferris Buellers Day Off</td>\n",
       "      <td>Female</td>\n",
       "      <td>Married</td>\n",
       "      <td>2.0</td>\n",
       "      <td>2.0</td>\n",
       "      <td>2.0</td>\n",
       "      <td>2.0</td>\n",
       "      <td>3.0</td>\n",
       "      <td>1.0</td>\n",
       "      <td>5</td>\n",
       "    </tr>\n",
       "    <tr>\n",
       "      <th>1</th>\n",
       "      <td>0</td>\n",
       "      <td>Ferris Buellers Day Off</td>\n",
       "      <td>Female</td>\n",
       "      <td>Single</td>\n",
       "      <td>1.0</td>\n",
       "      <td>1.0</td>\n",
       "      <td>1.0</td>\n",
       "      <td>1.0</td>\n",
       "      <td>2.0</td>\n",
       "      <td>1.0</td>\n",
       "      <td>5</td>\n",
       "    </tr>\n",
       "    <tr>\n",
       "      <th>2</th>\n",
       "      <td>0</td>\n",
       "      <td>Ferris Buellers Day Off</td>\n",
       "      <td>Male</td>\n",
       "      <td>Married</td>\n",
       "      <td>2.0</td>\n",
       "      <td>4.0</td>\n",
       "      <td>3.0</td>\n",
       "      <td>2.0</td>\n",
       "      <td>4.0</td>\n",
       "      <td>1.0</td>\n",
       "      <td>5</td>\n",
       "    </tr>\n",
       "    <tr>\n",
       "      <th>3</th>\n",
       "      <td>0</td>\n",
       "      <td>Ferris Buellers Day Off</td>\n",
       "      <td>Female</td>\n",
       "      <td>Married</td>\n",
       "      <td>1.0</td>\n",
       "      <td>3.0</td>\n",
       "      <td>2.0</td>\n",
       "      <td>2.0</td>\n",
       "      <td>4.0</td>\n",
       "      <td>1.0</td>\n",
       "      <td>5</td>\n",
       "    </tr>\n",
       "    <tr>\n",
       "      <th>4</th>\n",
       "      <td>0</td>\n",
       "      <td>Ferris Buellers Day Off</td>\n",
       "      <td>Female</td>\n",
       "      <td>Married</td>\n",
       "      <td>1.0</td>\n",
       "      <td>1.0</td>\n",
       "      <td>1.0</td>\n",
       "      <td>1.0</td>\n",
       "      <td>3.0</td>\n",
       "      <td>3.0</td>\n",
       "      <td>1</td>\n",
       "    </tr>\n",
       "    <tr>\n",
       "      <th>...</th>\n",
       "      <td>...</td>\n",
       "      <td>...</td>\n",
       "      <td>...</td>\n",
       "      <td>...</td>\n",
       "      <td>...</td>\n",
       "      <td>...</td>\n",
       "      <td>...</td>\n",
       "      <td>...</td>\n",
       "      <td>...</td>\n",
       "      <td>...</td>\n",
       "      <td>...</td>\n",
       "    </tr>\n",
       "    <tr>\n",
       "      <th>325</th>\n",
       "      <td>0</td>\n",
       "      <td>Old School</td>\n",
       "      <td>2</td>\n",
       "      <td>2</td>\n",
       "      <td>1.0</td>\n",
       "      <td>2.0</td>\n",
       "      <td>1.0</td>\n",
       "      <td>1.0</td>\n",
       "      <td>2.0</td>\n",
       "      <td>1.0</td>\n",
       "      <td>1</td>\n",
       "    </tr>\n",
       "    <tr>\n",
       "      <th>326</th>\n",
       "      <td>0</td>\n",
       "      <td>Old School</td>\n",
       "      <td>1</td>\n",
       "      <td>1</td>\n",
       "      <td>2.0</td>\n",
       "      <td>2.0</td>\n",
       "      <td>2.0</td>\n",
       "      <td>2.0</td>\n",
       "      <td>3.0</td>\n",
       "      <td>3.0</td>\n",
       "      <td>5</td>\n",
       "    </tr>\n",
       "    <tr>\n",
       "      <th>327</th>\n",
       "      <td>0</td>\n",
       "      <td>Old School</td>\n",
       "      <td>2</td>\n",
       "      <td>1</td>\n",
       "      <td>2.0</td>\n",
       "      <td>1.0</td>\n",
       "      <td>1.0</td>\n",
       "      <td>2.0</td>\n",
       "      <td>2.0</td>\n",
       "      <td>2.0</td>\n",
       "      <td>5</td>\n",
       "    </tr>\n",
       "    <tr>\n",
       "      <th>328</th>\n",
       "      <td>0</td>\n",
       "      <td>Old School</td>\n",
       "      <td>1</td>\n",
       "      <td>1</td>\n",
       "      <td>1.0</td>\n",
       "      <td>1.0</td>\n",
       "      <td>1.0</td>\n",
       "      <td>1.0</td>\n",
       "      <td>2.0</td>\n",
       "      <td>1.0</td>\n",
       "      <td>3</td>\n",
       "    </tr>\n",
       "    <tr>\n",
       "      <th>329</th>\n",
       "      <td>0</td>\n",
       "      <td>Old School</td>\n",
       "      <td>2</td>\n",
       "      <td>2</td>\n",
       "      <td>2.0</td>\n",
       "      <td>2.0</td>\n",
       "      <td>3.0</td>\n",
       "      <td>1.0</td>\n",
       "      <td>2.0</td>\n",
       "      <td>1.0</td>\n",
       "      <td>5</td>\n",
       "    </tr>\n",
       "  </tbody>\n",
       "</table>\n",
       "<p>330 rows × 11 columns</p>\n",
       "</div>"
      ],
      "text/plain": [
       "     _rowstate_                    Movie  Gender Marital_Status  Sinage  \\\n",
       "0             0  Ferris Buellers Day Off  Female        Married     2.0   \n",
       "1             0  Ferris Buellers Day Off  Female         Single     1.0   \n",
       "2             0  Ferris Buellers Day Off    Male        Married     2.0   \n",
       "3             0  Ferris Buellers Day Off  Female        Married     1.0   \n",
       "4             0  Ferris Buellers Day Off  Female        Married     1.0   \n",
       "..          ...                      ...     ...            ...     ...   \n",
       "325           0               Old School       2              2     1.0   \n",
       "326           0               Old School       1              1     2.0   \n",
       "327           0               Old School       2              1     2.0   \n",
       "328           0               Old School       1              1     1.0   \n",
       "329           0               Old School       2              2     2.0   \n",
       "\n",
       "     Parking  Clean  Overall  Age  Income Hear_About  \n",
       "0        2.0    2.0      2.0  3.0     1.0          5  \n",
       "1        1.0    1.0      1.0  2.0     1.0          5  \n",
       "2        4.0    3.0      2.0  4.0     1.0          5  \n",
       "3        3.0    2.0      2.0  4.0     1.0          5  \n",
       "4        1.0    1.0      1.0  3.0     3.0          1  \n",
       "..       ...    ...      ...  ...     ...        ...  \n",
       "325      2.0    1.0      1.0  2.0     1.0          1  \n",
       "326      2.0    2.0      2.0  3.0     3.0          5  \n",
       "327      1.0    1.0      2.0  2.0     2.0          5  \n",
       "328      1.0    1.0      1.0  2.0     1.0          3  \n",
       "329      2.0    3.0      1.0  2.0     1.0          5  \n",
       "\n",
       "[330 rows x 11 columns]"
      ]
     },
     "execution_count": 495,
     "metadata": {},
     "output_type": "execute_result"
    }
   ],
   "source": [
    "Films"
   ]
  },
  {
   "cell_type": "code",
   "execution_count": 496,
   "id": "af72f284",
   "metadata": {},
   "outputs": [
    {
     "data": {
      "text/plain": [
       "Willy Wonka                161\n",
       "Ferris Buellers Day Off    137\n",
       "Old School                  32\n",
       "Name: Movie, dtype: int64"
      ]
     },
     "execution_count": 496,
     "metadata": {},
     "output_type": "execute_result"
    }
   ],
   "source": [
    "Films.Movie.value_counts()"
   ]
  },
  {
   "cell_type": "code",
   "execution_count": 497,
   "id": "53ff08b0",
   "metadata": {},
   "outputs": [
    {
     "data": {
      "text/plain": [
       "2         194\n",
       "1         104\n",
       "Female     19\n",
       "Male       13\n",
       "Name: Gender, dtype: int64"
      ]
     },
     "execution_count": 497,
     "metadata": {},
     "output_type": "execute_result"
    }
   ],
   "source": [
    "# converting the variables same as male and female \n",
    "Films.Gender.value_counts()"
   ]
  },
  {
   "cell_type": "code",
   "execution_count": 498,
   "id": "6ea91543",
   "metadata": {},
   "outputs": [],
   "source": [
    "# 1 & Male - Male , 2 & Female - Female\n",
    "Films['Gender'] =np.where((Films.Gender == '1')|(Films.Gender == 'Male'),'Male','Female')"
   ]
  },
  {
   "cell_type": "code",
   "execution_count": 499,
   "id": "6f332e29",
   "metadata": {},
   "outputs": [
    {
     "data": {
      "text/plain": [
       "Female    213\n",
       "Male      117\n",
       "Name: Gender, dtype: int64"
      ]
     },
     "execution_count": 499,
     "metadata": {},
     "output_type": "execute_result"
    }
   ],
   "source": [
    "# converted\n",
    "Films.Gender.value_counts()"
   ]
  },
  {
   "cell_type": "code",
   "execution_count": 500,
   "id": "1410e985",
   "metadata": {},
   "outputs": [
    {
     "data": {
      "text/plain": [
       "2          208\n",
       "1           88\n",
       "Single      18\n",
       "Married     12\n",
       "Slngle       2\n",
       "Name: Marital_Status, dtype: int64"
      ]
     },
     "execution_count": 500,
     "metadata": {},
     "output_type": "execute_result"
    }
   ],
   "source": [
    "# 1 & married - Married , 2 & single - Single\n",
    "Films.Marital_Status.value_counts()"
   ]
  },
  {
   "cell_type": "code",
   "execution_count": 501,
   "id": "48804e1d",
   "metadata": {},
   "outputs": [],
   "source": [
    "Films['Marital_Status'] = np.where((Films.Marital_Status == '1')|(Films.Marital_Status == 'Married'),'Married','Single')"
   ]
  },
  {
   "cell_type": "code",
   "execution_count": 502,
   "id": "5333420f",
   "metadata": {},
   "outputs": [
    {
     "data": {
      "text/plain": [
       "Single     230\n",
       "Married    100\n",
       "Name: Marital_Status, dtype: int64"
      ]
     },
     "execution_count": 502,
     "metadata": {},
     "output_type": "execute_result"
    }
   ],
   "source": [
    "Films.Marital_Status.value_counts()"
   ]
  },
  {
   "cell_type": "code",
   "execution_count": 503,
   "id": "e70b8fd8",
   "metadata": {},
   "outputs": [
    {
     "data": {
      "text/plain": [
       "_rowstate_         0\n",
       "Movie              0\n",
       "Gender             0\n",
       "Marital_Status     0\n",
       "Sinage             2\n",
       "Parking            2\n",
       "Clean              3\n",
       "Overall            2\n",
       "Age                2\n",
       "Income            16\n",
       "Hear_About         7\n",
       "dtype: int64"
      ]
     },
     "execution_count": 503,
     "metadata": {},
     "output_type": "execute_result"
    }
   ],
   "source": [
    "Films.isna().sum()"
   ]
  },
  {
   "cell_type": "code",
   "execution_count": 504,
   "id": "5c0403a5",
   "metadata": {},
   "outputs": [
    {
     "data": {
      "text/plain": [
       "False    278\n",
       "True      52\n",
       "dtype: int64"
      ]
     },
     "execution_count": 504,
     "metadata": {},
     "output_type": "execute_result"
    }
   ],
   "source": [
    "# checking for duplicate values\n",
    "# 52 rows are duplicate and 278 not duplicate\n",
    "Films.duplicated().value_counts()"
   ]
  },
  {
   "cell_type": "code",
   "execution_count": 505,
   "id": "fe8c309a",
   "metadata": {},
   "outputs": [
    {
     "data": {
      "text/plain": [
       "(330, 11)"
      ]
     },
     "execution_count": 505,
     "metadata": {},
     "output_type": "execute_result"
    }
   ],
   "source": [
    "# dateframe after dropping duplicates\n",
    "Films.shape"
   ]
  },
  {
   "cell_type": "code",
   "execution_count": 506,
   "id": "154b594b",
   "metadata": {},
   "outputs": [
    {
     "data": {
      "text/plain": [
       "_rowstate_         0\n",
       "Movie              0\n",
       "Gender             0\n",
       "Marital_Status     0\n",
       "Sinage             2\n",
       "Parking            2\n",
       "Clean              3\n",
       "Overall            2\n",
       "Age                2\n",
       "Income            16\n",
       "Hear_About         7\n",
       "dtype: int64"
      ]
     },
     "execution_count": 506,
     "metadata": {},
     "output_type": "execute_result"
    }
   ],
   "source": [
    "# null values in columns\n",
    "Films.isna().sum()"
   ]
  },
  {
   "cell_type": "code",
   "execution_count": 507,
   "id": "4b53e3bf",
   "metadata": {},
   "outputs": [],
   "source": [
    "# imputing null values with mode\n",
    "for i in Films.columns:\n",
    "    Films[i]=Films[i].fillna(Films[i].mode()[0])  "
   ]
  },
  {
   "cell_type": "code",
   "execution_count": 508,
   "id": "3c23e65f",
   "metadata": {},
   "outputs": [
    {
     "data": {
      "text/plain": [
       "_rowstate_        0\n",
       "Movie             0\n",
       "Gender            0\n",
       "Marital_Status    0\n",
       "Sinage            0\n",
       "Parking           0\n",
       "Clean             0\n",
       "Overall           0\n",
       "Age               0\n",
       "Income            0\n",
       "Hear_About        0\n",
       "dtype: int64"
      ]
     },
     "execution_count": 508,
     "metadata": {},
     "output_type": "execute_result"
    }
   ],
   "source": [
    "Films.isna().sum()"
   ]
  },
  {
   "cell_type": "markdown",
   "id": "b14ed865",
   "metadata": {},
   "source": [
    "### Use the survey results to address the following questions\n",
    "\n",
    "### a) What is the overall level of customer satisfaction?\n"
   ]
  },
  {
   "cell_type": "code",
   "execution_count": 509,
   "id": "c293ea9a",
   "metadata": {},
   "outputs": [
    {
     "data": {
      "text/html": [
       "<div>\n",
       "<style scoped>\n",
       "    .dataframe tbody tr th:only-of-type {\n",
       "        vertical-align: middle;\n",
       "    }\n",
       "\n",
       "    .dataframe tbody tr th {\n",
       "        vertical-align: top;\n",
       "    }\n",
       "\n",
       "    .dataframe thead th {\n",
       "        text-align: right;\n",
       "    }\n",
       "</style>\n",
       "<table border=\"1\" class=\"dataframe\">\n",
       "  <thead>\n",
       "    <tr style=\"text-align: right;\">\n",
       "      <th></th>\n",
       "      <th>_rowstate_</th>\n",
       "      <th>Movie</th>\n",
       "      <th>Gender</th>\n",
       "      <th>Marital_Status</th>\n",
       "      <th>Sinage</th>\n",
       "      <th>Parking</th>\n",
       "      <th>Clean</th>\n",
       "      <th>Overall</th>\n",
       "      <th>Age</th>\n",
       "      <th>Income</th>\n",
       "      <th>Hear_About</th>\n",
       "    </tr>\n",
       "  </thead>\n",
       "  <tbody>\n",
       "    <tr>\n",
       "      <th>0</th>\n",
       "      <td>0</td>\n",
       "      <td>Ferris Buellers Day Off</td>\n",
       "      <td>Female</td>\n",
       "      <td>Married</td>\n",
       "      <td>2.0</td>\n",
       "      <td>2.0</td>\n",
       "      <td>2.0</td>\n",
       "      <td>2.0</td>\n",
       "      <td>3.0</td>\n",
       "      <td>1.0</td>\n",
       "      <td>5</td>\n",
       "    </tr>\n",
       "    <tr>\n",
       "      <th>1</th>\n",
       "      <td>0</td>\n",
       "      <td>Ferris Buellers Day Off</td>\n",
       "      <td>Female</td>\n",
       "      <td>Single</td>\n",
       "      <td>1.0</td>\n",
       "      <td>1.0</td>\n",
       "      <td>1.0</td>\n",
       "      <td>1.0</td>\n",
       "      <td>2.0</td>\n",
       "      <td>1.0</td>\n",
       "      <td>5</td>\n",
       "    </tr>\n",
       "  </tbody>\n",
       "</table>\n",
       "</div>"
      ],
      "text/plain": [
       "   _rowstate_                    Movie  Gender Marital_Status  Sinage  \\\n",
       "0           0  Ferris Buellers Day Off  Female        Married     2.0   \n",
       "1           0  Ferris Buellers Day Off  Female         Single     1.0   \n",
       "\n",
       "   Parking  Clean  Overall  Age  Income Hear_About  \n",
       "0      2.0    2.0      2.0  3.0     1.0          5  \n",
       "1      1.0    1.0      1.0  2.0     1.0          5  "
      ]
     },
     "execution_count": 509,
     "metadata": {},
     "output_type": "execute_result"
    }
   ],
   "source": [
    "Films.head(2)"
   ]
  },
  {
   "cell_type": "code",
   "execution_count": 510,
   "id": "45e75c72",
   "metadata": {},
   "outputs": [
    {
     "data": {
      "text/plain": [
       "1.621212121212121"
      ]
     },
     "execution_count": 510,
     "metadata": {},
     "output_type": "execute_result"
    }
   ],
   "source": [
    "# average of overall rating\n",
    "mean = Films['Overall'].mean()\n",
    "mean"
   ]
  },
  {
   "cell_type": "code",
   "execution_count": 511,
   "id": "27e1597f",
   "metadata": {},
   "outputs": [
    {
     "data": {
      "text/plain": [
       "0.6878262202585181"
      ]
     },
     "execution_count": 511,
     "metadata": {},
     "output_type": "execute_result"
    }
   ],
   "source": [
    "# standard deviation of overall rating\n",
    "std_dev = Films['Overall'].std()\n",
    "std_dev"
   ]
  },
  {
   "cell_type": "code",
   "execution_count": 512,
   "id": "60c88d27",
   "metadata": {},
   "outputs": [
    {
     "data": {
      "text/plain": [
       "0.037863587260422576"
      ]
     },
     "execution_count": 512,
     "metadata": {},
     "output_type": "execute_result"
    }
   ],
   "source": [
    "# standard error\n",
    "Standard_error = std_dev/(np.sqrt(Films.shape[0]))\n",
    "Standard_error"
   ]
  },
  {
   "cell_type": "code",
   "execution_count": 513,
   "id": "c3533bb5",
   "metadata": {},
   "outputs": [
    {
     "data": {
      "text/plain": [
       "1.5469994901816928"
      ]
     },
     "execution_count": 513,
     "metadata": {},
     "output_type": "execute_result"
    }
   ],
   "source": [
    "# lower range\n",
    "mean-1.96*Standard_error"
   ]
  },
  {
   "cell_type": "code",
   "execution_count": 514,
   "id": "c58983b6",
   "metadata": {},
   "outputs": [
    {
     "data": {
      "text/plain": [
       "1.6954247522425494"
      ]
     },
     "execution_count": 514,
     "metadata": {},
     "output_type": "execute_result"
    }
   ],
   "source": [
    "# upper range\n",
    "mean+1.96*Standard_error"
   ]
  },
  {
   "cell_type": "code",
   "execution_count": 515,
   "id": "2a2cbaff",
   "metadata": {},
   "outputs": [
    {
     "name": "stdout",
     "output_type": "stream",
     "text": [
      "With the 95% confidence levels the overall level of customer satisfaction is between range (1.5469994901816928,1.6954247522425494)\n"
     ]
    }
   ],
   "source": [
    "print(f'With the 95% confidence levels the overall level of customer satisfaction is between range ({mean-(1.96*Standard_error)},{mean+(1.96*Standard_error)})')"
   ]
  },
  {
   "cell_type": "markdown",
   "id": "e8b33079",
   "metadata": {},
   "source": [
    "*So the overall customer satisfaction is between Good to Excellent*"
   ]
  },
  {
   "cell_type": "markdown",
   "id": "8a0c7d3f",
   "metadata": {},
   "source": [
    "### b) What factors are linked to satisfaction?\n"
   ]
  },
  {
   "cell_type": "code",
   "execution_count": 516,
   "id": "1d4e4901",
   "metadata": {},
   "outputs": [
    {
     "data": {
      "text/plain": [
       "Index(['_rowstate_', 'Movie', 'Gender', 'Marital_Status', 'Sinage', 'Parking',\n",
       "       'Clean', 'Overall', 'Age', 'Income', 'Hear_About'],\n",
       "      dtype='object')"
      ]
     },
     "execution_count": 516,
     "metadata": {},
     "output_type": "execute_result"
    }
   ],
   "source": [
    "Films.columns"
   ]
  },
  {
   "cell_type": "markdown",
   "id": "819aa9d7",
   "metadata": {},
   "source": [
    "#### we will compare various factors given in the data with Customer overall satisfaction\n",
    "#### 1st factor - Movie"
   ]
  },
  {
   "cell_type": "code",
   "execution_count": 519,
   "id": "59199464",
   "metadata": {},
   "outputs": [],
   "source": [
    "#Define the hypothesis\n",
    "\n",
    "# Null Hypothesis(H0): There is no effect of movie on customer satisfaction.\n",
    "\n",
    "# Alternate Hypothesis(Ha): There is an effect of movie on customer satisfaction.\n",
    "\n",
    "# Confidence Interval(CI) - 95%\n",
    "\n",
    "# Significance of value (p-value) - 5% (0.05) "
   ]
  },
  {
   "cell_type": "code",
   "execution_count": 520,
   "id": "d46630dc",
   "metadata": {},
   "outputs": [
    {
     "data": {
      "text/plain": [
       "Willy Wonka                161\n",
       "Ferris Buellers Day Off    137\n",
       "Old School                  32\n",
       "Name: Movie, dtype: int64"
      ]
     },
     "execution_count": 520,
     "metadata": {},
     "output_type": "execute_result"
    }
   ],
   "source": [
    "# 3 unique movies\n",
    "Films.Movie.value_counts()"
   ]
  },
  {
   "cell_type": "code",
   "execution_count": 521,
   "id": "1a78752b",
   "metadata": {},
   "outputs": [],
   "source": [
    "Willy_Wonka = Films.loc[Films['Movie']=='Willy Wonka','Overall']\n",
    "Ferris_Buellers_Day_Off = Films.loc[Films['Movie']=='Ferris Buellers Day Off','Overall']\n",
    "Old_School = Films.loc[Films['Movie']=='Old School','Overall']"
   ]
  },
  {
   "cell_type": "code",
   "execution_count": 522,
   "id": "c3af3bb3",
   "metadata": {},
   "outputs": [
    {
     "data": {
      "text/plain": [
       "137    2.0\n",
       "138    2.0\n",
       "139    1.0\n",
       "140    1.0\n",
       "141    1.0\n",
       "Name: Overall, dtype: float64"
      ]
     },
     "execution_count": 522,
     "metadata": {},
     "output_type": "execute_result"
    }
   ],
   "source": [
    "Willy_Wonka.head()"
   ]
  },
  {
   "cell_type": "code",
   "execution_count": 523,
   "id": "436cb0d5",
   "metadata": {},
   "outputs": [
    {
     "data": {
      "text/plain": [
       "0    2.0\n",
       "1    1.0\n",
       "2    2.0\n",
       "3    2.0\n",
       "4    1.0\n",
       "Name: Overall, dtype: float64"
      ]
     },
     "execution_count": 523,
     "metadata": {},
     "output_type": "execute_result"
    }
   ],
   "source": [
    "Ferris_Buellers_Day_Off.head()"
   ]
  },
  {
   "cell_type": "code",
   "execution_count": 524,
   "id": "b7fc0bc9",
   "metadata": {},
   "outputs": [
    {
     "data": {
      "text/plain": [
       "298    1.0\n",
       "299    1.0\n",
       "300    1.0\n",
       "301    1.0\n",
       "302    5.0\n",
       "Name: Overall, dtype: float64"
      ]
     },
     "execution_count": 524,
     "metadata": {},
     "output_type": "execute_result"
    }
   ],
   "source": [
    "Old_School.head()"
   ]
  },
  {
   "cell_type": "code",
   "execution_count": 525,
   "id": "3be4df15",
   "metadata": {},
   "outputs": [
    {
     "name": "stdout",
     "output_type": "stream",
     "text": [
      "Average overall customer satisfaction with Willy_Wonka movie : 1.6273291925465838\n",
      "Average overall customer satisfaction with Ferris_Buellers_Day_Off movie : 1.6569343065693432\n",
      "Average overall customer satisfaction with Old_School movie : 1.4375\n"
     ]
    }
   ],
   "source": [
    "print('Average overall customer satisfaction with Willy_Wonka movie :',Willy_Wonka.mean())\n",
    "print('Average overall customer satisfaction with Ferris_Buellers_Day_Off movie :',Ferris_Buellers_Day_Off.mean())\n",
    "print('Average overall customer satisfaction with Old_School movie :',Old_School.mean())"
   ]
  },
  {
   "cell_type": "code",
   "execution_count": 526,
   "id": "2dfc1c4a",
   "metadata": {},
   "outputs": [
    {
     "data": {
      "text/plain": [
       "F_onewayResult(statistic=1.335243752886233, pvalue=0.2645245972839759)"
      ]
     },
     "execution_count": 526,
     "metadata": {},
     "output_type": "execute_result"
    }
   ],
   "source": [
    "# here we have to compare means of 3 independent groups, so perform ANOVA/ F-Test-Oneway\n",
    "\n",
    "stats.f_oneway(Willy_Wonka,Ferris_Buellers_Day_Off,Old_School)"
   ]
  },
  {
   "cell_type": "markdown",
   "id": "212a1de6",
   "metadata": {},
   "source": [
    "### Business Conclusion:\n",
    "\n",
    "*defined p-value= 0.05*\n",
    "\n",
    "*Revised p-value is greater than defined p-value*\n",
    "\n",
    "*revised p-value= 0.1540446375562703*\n",
    "\n",
    "*Since the revised p-value > defined p-value , so probability of H0 becoming True increases. Hence we fail to reject null hypothesis(H0)*\n",
    "\n",
    "*Therefore, we can claim that there is no effect of movie on customer satisfaction.*\n",
    "\n",
    "*Hence we cannot say that movie is the factor linked to customer satisfaction with the given sample.*\n"
   ]
  },
  {
   "cell_type": "markdown",
   "id": "0f22d5c5",
   "metadata": {},
   "source": [
    "#### 2nd factor - Gender"
   ]
  },
  {
   "cell_type": "code",
   "execution_count": 528,
   "id": "db1a2ee7",
   "metadata": {},
   "outputs": [],
   "source": [
    "# Define the hypothesis\n",
    "\n",
    "# Null Hypothesis(H0): There is no relationship b/w gender and customer satisfaction.\n",
    "\n",
    "# Alternate Hypothesis(Ha): There is a relationship b/w gender and customer satisfaction.\n",
    "\n",
    "# Confidence Interval(CI) - 95%\n",
    "\n",
    "# Significance of value (p-value) - 5% (0.05) "
   ]
  },
  {
   "cell_type": "code",
   "execution_count": 529,
   "id": "cbff3aa8",
   "metadata": {},
   "outputs": [
    {
     "data": {
      "text/plain": [
       "Female    213\n",
       "Male      117\n",
       "Name: Gender, dtype: int64"
      ]
     },
     "execution_count": 529,
     "metadata": {},
     "output_type": "execute_result"
    }
   ],
   "source": [
    "Films.Gender.value_counts()"
   ]
  },
  {
   "cell_type": "code",
   "execution_count": 530,
   "id": "b192746b",
   "metadata": {},
   "outputs": [],
   "source": [
    "Female = Films.loc[Films['Gender']=='Female','Overall']\n",
    "Male = Films.loc[Films['Gender']=='Male','Overall']"
   ]
  },
  {
   "cell_type": "code",
   "execution_count": 531,
   "id": "11189f8c",
   "metadata": {},
   "outputs": [
    {
     "data": {
      "text/plain": [
       "0    2.0\n",
       "1    1.0\n",
       "3    2.0\n",
       "4    1.0\n",
       "5    1.0\n",
       "Name: Overall, dtype: float64"
      ]
     },
     "execution_count": 531,
     "metadata": {},
     "output_type": "execute_result"
    }
   ],
   "source": [
    "Female.head()"
   ]
  },
  {
   "cell_type": "code",
   "execution_count": 532,
   "id": "3504eba8",
   "metadata": {},
   "outputs": [
    {
     "data": {
      "text/plain": [
       "2     2.0\n",
       "6     2.0\n",
       "10    2.0\n",
       "13    5.0\n",
       "14    1.0\n",
       "Name: Overall, dtype: float64"
      ]
     },
     "execution_count": 532,
     "metadata": {},
     "output_type": "execute_result"
    }
   ],
   "source": [
    "Male.head()"
   ]
  },
  {
   "cell_type": "code",
   "execution_count": 533,
   "id": "e98d17ed",
   "metadata": {},
   "outputs": [
    {
     "name": "stdout",
     "output_type": "stream",
     "text": [
      "Average overall female satisfaction : 1.5821596244131455\n",
      "Average overall male satisfaction : 1.6923076923076923\n"
     ]
    }
   ],
   "source": [
    "print('Average overall female satisfaction :',Female.mean())\n",
    "print('Average overall male satisfaction :',Male.mean())"
   ]
  },
  {
   "cell_type": "code",
   "execution_count": 534,
   "id": "3bb2e74b",
   "metadata": {},
   "outputs": [
    {
     "data": {
      "text/plain": [
       "Ttest_indResult(statistic=-1.393621669674226, pvalue=0.16437541932112798)"
      ]
     },
     "execution_count": 534,
     "metadata": {},
     "output_type": "execute_result"
    }
   ],
   "source": [
    "# we have 2 independent samples so perform T-Test independent\n",
    "\n",
    "stats.ttest_ind(Female,Male)"
   ]
  },
  {
   "cell_type": "markdown",
   "id": "420a572b",
   "metadata": {},
   "source": [
    "### Business Conclusion:\n",
    "\n",
    "*defined p-value= 0.05*\n",
    "\n",
    "*Revised p-value is greater than defined p-value*\n",
    "\n",
    "*revised p-value= 0.2937644761222965*\n",
    "\n",
    "*Since the revised p-value > defined p-value , so probability of H0 becoming True increases. Hence we fail to reject null hypothesis(H0)*\n",
    "\n",
    "*Therefore, we can claim that there is no relationship b/w gender and customer satisfaction.*\n",
    "\n",
    "*Hence we cannot say that gender is the factor linked to customer satisfaction with the given sample.*\n"
   ]
  },
  {
   "cell_type": "markdown",
   "id": "7bbc04a6",
   "metadata": {},
   "source": [
    "#### 3rd factor - Marital Status"
   ]
  },
  {
   "cell_type": "code",
   "execution_count": 535,
   "id": "c60419e0",
   "metadata": {},
   "outputs": [],
   "source": [
    "# Define the hypothesis\n",
    "\n",
    "# Null Hypothesis(H0): There is no relationship b/w marital status and customer satisfaction.\n",
    "\n",
    "# Alternate Hypothesis(Ha): There is a relationship b/w marital status and customer satisfaction.\n",
    "\n",
    "# Confidence Interval(CI) - 95%\n",
    "\n",
    "# Significance of value (p-value) - 5% (0.05) "
   ]
  },
  {
   "cell_type": "code",
   "execution_count": 536,
   "id": "ce9be8d0",
   "metadata": {},
   "outputs": [
    {
     "data": {
      "text/plain": [
       "Single     230\n",
       "Married    100\n",
       "Name: Marital_Status, dtype: int64"
      ]
     },
     "execution_count": 536,
     "metadata": {},
     "output_type": "execute_result"
    }
   ],
   "source": [
    "Films.Marital_Status.value_counts()"
   ]
  },
  {
   "cell_type": "code",
   "execution_count": 537,
   "id": "e2811675",
   "metadata": {},
   "outputs": [],
   "source": [
    "Single = Films.loc[Films['Marital_Status']=='Single','Overall']\n",
    "Married = Films.loc[Films['Marital_Status']=='Married','Overall']"
   ]
  },
  {
   "cell_type": "code",
   "execution_count": 538,
   "id": "78b99481",
   "metadata": {},
   "outputs": [
    {
     "data": {
      "text/plain": [
       "1     1.0\n",
       "7     1.0\n",
       "8     1.0\n",
       "9     2.0\n",
       "12    1.0\n",
       "Name: Overall, dtype: float64"
      ]
     },
     "execution_count": 538,
     "metadata": {},
     "output_type": "execute_result"
    }
   ],
   "source": [
    "Single.head()"
   ]
  },
  {
   "cell_type": "code",
   "execution_count": 540,
   "id": "f898db86",
   "metadata": {},
   "outputs": [
    {
     "name": "stdout",
     "output_type": "stream",
     "text": [
      "Average overall female satisfaction : 1.6391304347826088\n",
      "Average overall male satisfaction : 1.58\n"
     ]
    }
   ],
   "source": [
    "print('Average overall female satisfaction :',Single.mean())\n",
    "print('Average overall male satisfaction :',Married.mean())"
   ]
  },
  {
   "cell_type": "code",
   "execution_count": 541,
   "id": "1afe35d6",
   "metadata": {},
   "outputs": [
    {
     "data": {
      "text/plain": [
       "Ttest_indResult(statistic=0.7171640309514444, pvalue=0.47378328196635067)"
      ]
     },
     "execution_count": 541,
     "metadata": {},
     "output_type": "execute_result"
    }
   ],
   "source": [
    "# we have 2 independent samples so perform T-Test independent\n",
    "\n",
    "stats.ttest_ind(Single,Married)"
   ]
  },
  {
   "cell_type": "markdown",
   "id": "eb818db0",
   "metadata": {},
   "source": [
    "### Business Conclusion:\n",
    "\n",
    "*defined p-value= 0.05*\n",
    "\n",
    "*Revised p-value is greater than defined p-value*\n",
    "\n",
    "*revised p-value= 0.27890031689423117*\n",
    "\n",
    "*Since the revised p-value > defined p-value , so probability of H0 becoming True increases. Hence we fail to reject null hypothesis(H0)*\n",
    "\n",
    "*Therefore, we can claim that there is no relationship b/w marital status and customer satisfaction.*\n",
    "\n",
    "*Hence we cannot say that marital status is the factor linked to customer satisfaction with the given sample.*\n"
   ]
  },
  {
   "cell_type": "markdown",
   "id": "fa2e506a",
   "metadata": {},
   "source": [
    "#### 4th factor - Sinage"
   ]
  },
  {
   "cell_type": "code",
   "execution_count": 542,
   "id": "b84e861d",
   "metadata": {},
   "outputs": [
    {
     "data": {
      "text/plain": [
       "Index(['_rowstate_', 'Movie', 'Gender', 'Marital_Status', 'Sinage', 'Parking',\n",
       "       'Clean', 'Overall', 'Age', 'Income', 'Hear_About'],\n",
       "      dtype='object')"
      ]
     },
     "execution_count": 542,
     "metadata": {},
     "output_type": "execute_result"
    }
   ],
   "source": [
    "Films.columns"
   ]
  },
  {
   "cell_type": "code",
   "execution_count": 544,
   "id": "09348a72",
   "metadata": {},
   "outputs": [],
   "source": [
    "# Define the hypothesis\n",
    "\n",
    "# Null Hypothesis(H0): There is no relationship b/w sinage and customer satisfaction.\n",
    "\n",
    "# Alternate Hypothesis(Ha): There is a relationship b/w sinage and customer satisfaction.\n",
    "\n",
    "# Confidence Interval(CI) - 95%\n",
    "\n",
    "# Significance of value (p-value) - 5% (0.05) "
   ]
  },
  {
   "cell_type": "code",
   "execution_count": 545,
   "id": "d6ee1f00",
   "metadata": {},
   "outputs": [
    {
     "data": {
      "text/plain": [
       "2.0    158\n",
       "1.0    113\n",
       "3.0     48\n",
       "4.0      6\n",
       "5.0      5\n",
       "Name: Sinage, dtype: int64"
      ]
     },
     "execution_count": 545,
     "metadata": {},
     "output_type": "execute_result"
    }
   ],
   "source": [
    "Films.Sinage.value_counts()"
   ]
  },
  {
   "cell_type": "code",
   "execution_count": 546,
   "id": "622c7837",
   "metadata": {},
   "outputs": [
    {
     "data": {
      "text/plain": [
       "PearsonRResult(statistic=0.3821028042239567, pvalue=6.501065434766993e-13)"
      ]
     },
     "execution_count": 546,
     "metadata": {},
     "output_type": "execute_result"
    }
   ],
   "source": [
    "# we have to find relationship b/w 2 numerical variable, so use pearson correlation\n",
    "\n",
    "stats.pearsonr(Films.Sinage,Films.Overall)"
   ]
  },
  {
   "cell_type": "markdown",
   "id": "92cd7a93",
   "metadata": {},
   "source": [
    "### Business Conclusion:\n",
    "\n",
    "*defined p-value= 0.05*\n",
    "\n",
    "*Revised p-value is very small*\n",
    "\n",
    "*revised p-value= 1.6219726562227852e-09 equivalent to 0.0000000016220*\n",
    "\n",
    "*Since the revised p-value < defined p-value , so probability of H0 becoming True decreases.\n",
    "Hence we fail to reject alternate hypothesis(Ha)*\n",
    "\n",
    "*Therefore we can claim that there is relationship b/w sinage and customer satisfaction*\n",
    "\n",
    "*Hence we can say that sinage is an important factor linked to customer satisfaction with the given sample.*\n"
   ]
  },
  {
   "cell_type": "markdown",
   "id": "747fce9a",
   "metadata": {},
   "source": [
    "#### 5th factor - Parking"
   ]
  },
  {
   "cell_type": "code",
   "execution_count": 547,
   "id": "363c2875",
   "metadata": {},
   "outputs": [],
   "source": [
    "# Define the hypothesis\n",
    "\n",
    "# Null Hypothesis(H0): There is no relationship b/w parking and customer satisfaction.\n",
    "\n",
    "# Alternate Hypothesis(Ha): There is a relationship b/w parking and customer satisfaction.\n",
    "\n",
    "# Confidence Interval(CI) - 95%\n",
    "\n",
    "# Significance of value (p-value) - 5% (0.05) "
   ]
  },
  {
   "cell_type": "code",
   "execution_count": 273,
   "id": "500424e9",
   "metadata": {},
   "outputs": [
    {
     "data": {
      "text/plain": [
       "2.0    128\n",
       "1.0    111\n",
       "3.0     28\n",
       "4.0      7\n",
       "5.0      4\n",
       "Name: Parking, dtype: int64"
      ]
     },
     "execution_count": 273,
     "metadata": {},
     "output_type": "execute_result"
    }
   ],
   "source": [
    "Films.Parking.value_counts()"
   ]
  },
  {
   "cell_type": "code",
   "execution_count": 548,
   "id": "e0b3abe0",
   "metadata": {},
   "outputs": [
    {
     "data": {
      "text/plain": [
       "PearsonRResult(statistic=0.5144289487855271, pvalue=1.0840276087790176e-23)"
      ]
     },
     "execution_count": 548,
     "metadata": {},
     "output_type": "execute_result"
    }
   ],
   "source": [
    "# we have to find relationship b/w 2 numerical variable, so use pearson correlation\n",
    "\n",
    "stats.pearsonr(Films.Parking,Films.Overall)"
   ]
  },
  {
   "cell_type": "markdown",
   "id": "6babbb76",
   "metadata": {},
   "source": [
    "### Business Conclusion:\n",
    "\n",
    "*defined p-value= 0.05*\n",
    "\n",
    "*Revised p-value is very small*\n",
    "\n",
    "*revised p-value= 6.216790590954779e-18 equivalent to 0.000000000000000006217*\n",
    "\n",
    "*Since the revised p-value < defined p-value , so probability of H0 becoming True decreases.\n",
    "Hence we fail to reject alternate hypothesis(Ha)*\n",
    "\n",
    "*Therefore we can claim that there is relationship b/w parking and customer satisfaction*\n",
    "\n",
    "*Hence we can say that parking is an important factor linked to customer satisfaction with the given sample.*\n"
   ]
  },
  {
   "cell_type": "markdown",
   "id": "8c8b1217",
   "metadata": {},
   "source": [
    "#### 6th factor - Clean"
   ]
  },
  {
   "cell_type": "code",
   "execution_count": 549,
   "id": "6e95775a",
   "metadata": {},
   "outputs": [],
   "source": [
    "# Define the hypothesis\n",
    "\n",
    "# Null Hypothesis(H0): There is no relationship b/w cleanliness and customer satisfaction.\n",
    "\n",
    "# Alternate Hypothesis(Ha): There is a relationship b/w cleanliness and customer satisfaction.\n",
    "\n",
    "# Confidence Interval(CI) - 95%\n",
    "\n",
    "# Significance of value (p-value) - 5% (0.05) "
   ]
  },
  {
   "cell_type": "code",
   "execution_count": 550,
   "id": "bf6dc4e1",
   "metadata": {},
   "outputs": [
    {
     "data": {
      "text/plain": [
       "2.0    155\n",
       "1.0    144\n",
       "3.0     24\n",
       "4.0      5\n",
       "5.0      2\n",
       "Name: Clean, dtype: int64"
      ]
     },
     "execution_count": 550,
     "metadata": {},
     "output_type": "execute_result"
    }
   ],
   "source": [
    "Films.Clean.value_counts()"
   ]
  },
  {
   "cell_type": "code",
   "execution_count": 551,
   "id": "c0500977",
   "metadata": {},
   "outputs": [
    {
     "data": {
      "text/plain": [
       "PearsonRResult(statistic=0.3508222789070922, pvalue=5.437550007440007e-11)"
      ]
     },
     "execution_count": 551,
     "metadata": {},
     "output_type": "execute_result"
    }
   ],
   "source": [
    "# we have to find relationship b/w 2 numerical variable, so use pearson correlation\n",
    "\n",
    "stats.pearsonr(Films.Clean,Films.Overall)"
   ]
  },
  {
   "cell_type": "markdown",
   "id": "7237600a",
   "metadata": {},
   "source": [
    "### Business Conclusion:\n",
    "\n",
    "*defined p-value= 0.05*\n",
    "\n",
    "*Revised p-value is very small*\n",
    "\n",
    "*revised p-value= 8.576881771139232e-08 equivalent to 0.0000000858*\n",
    "\n",
    "*Since the revised p-value < defined p-value , so probability of H0 becoming True decreases.\n",
    "Hence we fail to reject alternate hypothesis(Ha)*\n",
    "\n",
    "*Therefore we can claim that there is relationship b/w cleanliness and customer satisfaction*\n",
    "\n",
    "*Hence we can say that cleanliness is an important factor linked to customer satisfaction with the given sample.*\n"
   ]
  },
  {
   "cell_type": "markdown",
   "id": "1c0e5a2c",
   "metadata": {},
   "source": [
    "#### 7th factor - Age"
   ]
  },
  {
   "cell_type": "code",
   "execution_count": 552,
   "id": "0e314e74",
   "metadata": {},
   "outputs": [],
   "source": [
    "# Define the hypothesis\n",
    "\n",
    "# Null Hypothesis(H0): There is no relationship b/w age and customer satisfaction.\n",
    "\n",
    "# Alternate Hypothesis(Ha): There is a relationship b/w age and customer satisfaction.\n",
    "\n",
    "# Confidence Interval(CI) - 95%\n",
    "\n",
    "# Significance of value (p-value) - 5% (0.05) "
   ]
  },
  {
   "cell_type": "code",
   "execution_count": 553,
   "id": "63cf0813",
   "metadata": {},
   "outputs": [
    {
     "data": {
      "text/plain": [
       "2.0    177\n",
       "3.0    117\n",
       "1.0     26\n",
       "4.0     10\n",
       "Name: Age, dtype: int64"
      ]
     },
     "execution_count": 553,
     "metadata": {},
     "output_type": "execute_result"
    }
   ],
   "source": [
    "# age groups 1= 1-12; 2 = 13-30; 3 = 31-60; 4 = 60+\n",
    "Films.Age.value_counts()"
   ]
  },
  {
   "cell_type": "code",
   "execution_count": 554,
   "id": "e84d27da",
   "metadata": {},
   "outputs": [
    {
     "data": {
      "text/plain": [
       "Index(['_rowstate_', 'Movie', 'Gender', 'Marital_Status', 'Sinage', 'Parking',\n",
       "       'Clean', 'Overall', 'Age', 'Income', 'Hear_About'],\n",
       "      dtype='object')"
      ]
     },
     "execution_count": 554,
     "metadata": {},
     "output_type": "execute_result"
    }
   ],
   "source": [
    "Films.columns"
   ]
  },
  {
   "cell_type": "code",
   "execution_count": 556,
   "id": "6989dfff",
   "metadata": {},
   "outputs": [],
   "source": [
    "AgeGp1 = Films.loc[Films['Age']==1,'Overall']\n",
    "AgeGp2 = Films.loc[Films['Age']==2,'Overall']\n",
    "AgeGp3 = Films.loc[Films['Age']==3,'Overall']\n",
    "AgeGp4 = Films.loc[Films['Age']==4,'Overall']\n"
   ]
  },
  {
   "cell_type": "code",
   "execution_count": 558,
   "id": "703d1ada",
   "metadata": {},
   "outputs": [
    {
     "data": {
      "text/plain": [
       "19    1.0\n",
       "35    1.0\n",
       "37    1.0\n",
       "58    1.0\n",
       "60    2.0\n",
       "Name: Overall, dtype: float64"
      ]
     },
     "execution_count": 558,
     "metadata": {},
     "output_type": "execute_result"
    }
   ],
   "source": [
    "AgeGp1.head()"
   ]
  },
  {
   "cell_type": "code",
   "execution_count": 559,
   "id": "9817f2ec",
   "metadata": {},
   "outputs": [
    {
     "data": {
      "text/plain": [
       "2     2.0\n",
       "3     2.0\n",
       "10    2.0\n",
       "11    2.0\n",
       "27    1.0\n",
       "Name: Overall, dtype: float64"
      ]
     },
     "execution_count": 559,
     "metadata": {},
     "output_type": "execute_result"
    }
   ],
   "source": [
    "AgeGp4.head()"
   ]
  },
  {
   "cell_type": "code",
   "execution_count": 560,
   "id": "6558f112",
   "metadata": {},
   "outputs": [
    {
     "name": "stdout",
     "output_type": "stream",
     "text": [
      "AgeGp1 mean : 1.5384615384615385\n",
      "AgeGp2 mean : 1.6779661016949152\n",
      "AgeGp3 mean : 1.547008547008547\n",
      "AgeGp4 mean : 1.7\n"
     ]
    }
   ],
   "source": [
    "print('AgeGp1 mean :',AgeGp1.mean())\n",
    "print('AgeGp2 mean :',AgeGp2.mean())\n",
    "print('AgeGp3 mean :',AgeGp3.mean())\n",
    "print('AgeGp4 mean :',AgeGp4.mean())"
   ]
  },
  {
   "cell_type": "code",
   "execution_count": 561,
   "id": "8f3551a2",
   "metadata": {},
   "outputs": [
    {
     "data": {
      "text/plain": [
       "F_onewayResult(statistic=1.0249927945692117, pvalue=0.3816737451872579)"
      ]
     },
     "execution_count": 561,
     "metadata": {},
     "output_type": "execute_result"
    }
   ],
   "source": [
    "# we have 4 age groups of customer so we will perform ANOVA/ F-Test-Oneway\n",
    "\n",
    "stats.f_oneway(AgeGp1,AgeGp2,AgeGp3,AgeGp4)"
   ]
  },
  {
   "cell_type": "markdown",
   "id": "5a1916dc",
   "metadata": {},
   "source": [
    "### Business Conclusion:\n",
    "\n",
    "*defined p-value= 0.05*\n",
    "\n",
    "*Revised p-value is greater than defined p-value*\n",
    "\n",
    "*revised p-value= 0.21315278427620798*\n",
    "\n",
    "*Since the revised p-value > defined p-value , so probability of H0 becoming True increases. Hence we fail to reject null hypothesis(H0)*\n",
    "\n",
    "*Therefore, we can claim that there is no relationship b/w age and customer satisfaction.*\n",
    "\n",
    "*Hence we cannot say that age is the factor linked to customer satisfaction with the given sample.*\n"
   ]
  },
  {
   "cell_type": "markdown",
   "id": "cdcaf050",
   "metadata": {},
   "source": [
    "#### 8th factor - Income"
   ]
  },
  {
   "cell_type": "code",
   "execution_count": 562,
   "id": "be66baff",
   "metadata": {},
   "outputs": [],
   "source": [
    "# Define the hypothesis\n",
    "\n",
    "# Null Hypothesis(H0): There is no relationship b/w income and customer satisfaction.\n",
    "\n",
    "# Alternate Hypothesis(Ha): There is a relationship b/w income and customer satisfaction.\n",
    "\n",
    "# Confidence Interval(CI) - 95%\n",
    "\n",
    "# Significance of value (p-value) - 5% (0.05) "
   ]
  },
  {
   "cell_type": "code",
   "execution_count": 563,
   "id": "72e8464f",
   "metadata": {},
   "outputs": [
    {
     "data": {
      "text/plain": [
       "1.0    158\n",
       "3.0     90\n",
       "2.0     82\n",
       "Name: Income, dtype: int64"
      ]
     },
     "execution_count": 563,
     "metadata": {},
     "output_type": "execute_result"
    }
   ],
   "source": [
    "# Income of customers (1 = Less than $50,000; 2 = $50-$100,000; 3 = $100,000+)\n",
    "Films.Income.value_counts()"
   ]
  },
  {
   "cell_type": "code",
   "execution_count": 564,
   "id": "2cc1bbc2",
   "metadata": {},
   "outputs": [],
   "source": [
    "Income1 = Films.loc[Films['Income']==1,'Overall']\n",
    "Income2 = Films.loc[Films['Income']==2,'Overall']\n",
    "Income3 = Films.loc[Films['Income']==3,'Overall']"
   ]
  },
  {
   "cell_type": "code",
   "execution_count": 565,
   "id": "481f75c5",
   "metadata": {},
   "outputs": [
    {
     "data": {
      "text/plain": [
       "0    2.0\n",
       "1    1.0\n",
       "2    2.0\n",
       "3    2.0\n",
       "7    1.0\n",
       "Name: Overall, dtype: float64"
      ]
     },
     "execution_count": 565,
     "metadata": {},
     "output_type": "execute_result"
    }
   ],
   "source": [
    "Income1.head()"
   ]
  },
  {
   "cell_type": "code",
   "execution_count": 566,
   "id": "03207801",
   "metadata": {},
   "outputs": [
    {
     "name": "stdout",
     "output_type": "stream",
     "text": [
      "Income1 mean : 1.639240506329114\n",
      "Income2 mean : 1.5853658536585367\n",
      "Income3 mean : 1.6222222222222222\n"
     ]
    }
   ],
   "source": [
    "print('Income1 mean :',Income1.mean())\n",
    "print('Income2 mean :',Income2.mean())\n",
    "print('Income3 mean :',Income3.mean())"
   ]
  },
  {
   "cell_type": "code",
   "execution_count": 567,
   "id": "cba9cb55",
   "metadata": {},
   "outputs": [
    {
     "data": {
      "text/plain": [
       "F_onewayResult(statistic=0.16488481054397225, pvalue=0.8480618362664597)"
      ]
     },
     "execution_count": 567,
     "metadata": {},
     "output_type": "execute_result"
    }
   ],
   "source": [
    "# we have 3 income groups of customer so we will perform ANOVA/ F-Test-Oneway\n",
    "\n",
    "stats.f_oneway(Income1,Income2,Income3)"
   ]
  },
  {
   "cell_type": "markdown",
   "id": "cc692a10",
   "metadata": {},
   "source": [
    "### Business Conclusion:\n",
    "\n",
    "*defined p-value= 0.05*\n",
    "\n",
    "*Revised p-value is greater than defined p-value*\n",
    "\n",
    "*revised p-value=0.8388716492692647*\n",
    "\n",
    "*Since the revised p-value > defined p-value , so probability of H0 becoming True increases. Hence we fail to reject null hypothesis(H0)*\n",
    "\n",
    "*Therefore, we can claim that there is no relationship b/w income and customer satisfaction.*\n",
    "\n",
    "*Hence we cannot say that income is the factor linked to customer satisfaction with the given sample.*\n"
   ]
  },
  {
   "cell_type": "markdown",
   "id": "f2ab6d1b",
   "metadata": {},
   "source": [
    "#### 9th factor - Hear About"
   ]
  },
  {
   "cell_type": "code",
   "execution_count": 568,
   "id": "a4d75919",
   "metadata": {},
   "outputs": [],
   "source": [
    "# Define the hypothesis\n",
    "\n",
    "# Null Hypothesis(H0): There is no relationship b/w hear about and customer satisfaction.\n",
    "\n",
    "# Alternate Hypothesis(Ha): There is a relationship b/w hear about and customer satisfaction.\n",
    "\n",
    "# Confidence Interval(CI) - 95%\n",
    "\n",
    "# Significance of value (p-value) - 5% (0.05) "
   ]
  },
  {
   "cell_type": "code",
   "execution_count": 569,
   "id": "94a208ac",
   "metadata": {},
   "outputs": [
    {
     "data": {
      "text/plain": [
       "Index(['_rowstate_', 'Movie', 'Gender', 'Marital_Status', 'Sinage', 'Parking',\n",
       "       'Clean', 'Overall', 'Age', 'Income', 'Hear_About'],\n",
       "      dtype='object')"
      ]
     },
     "execution_count": 569,
     "metadata": {},
     "output_type": "execute_result"
    }
   ],
   "source": [
    "Films.columns"
   ]
  },
  {
   "cell_type": "code",
   "execution_count": 570,
   "id": "e7ddb778",
   "metadata": {},
   "outputs": [
    {
     "data": {
      "text/plain": [
       "5      233\n",
       "4       41\n",
       "1       22\n",
       "3       14\n",
       "2       12\n",
       "2,5      2\n",
       "3,4      2\n",
       "4,5      1\n",
       "1,5      1\n",
       "5,4      1\n",
       "3,5      1\n",
       "Name: Hear_About, dtype: int64"
      ]
     },
     "execution_count": 570,
     "metadata": {},
     "output_type": "execute_result"
    }
   ],
   "source": [
    "#  Customers heard about Films of rock series from various platforms :\n",
    "# 1 = television; 2 = newspaper; 3 = radio; 4 = website; 5 = word of mouth\n",
    "Films.Hear_About.value_counts()"
   ]
  },
  {
   "cell_type": "code",
   "execution_count": 571,
   "id": "f3e4ca2d",
   "metadata": {},
   "outputs": [],
   "source": [
    "Hear_About_5 = Films.loc[Films['Hear_About']=='5','Overall']\n",
    "Hear_About_4 = Films.loc[Films['Hear_About']=='4','Overall']\n",
    "Hear_About_3 = Films.loc[Films['Hear_About']=='3','Overall']\n",
    "Hear_About_2 = Films.loc[Films['Hear_About']=='2','Overall']\n",
    "Hear_About_1 = Films.loc[Films['Hear_About']=='1','Overall']\n",
    "Hear_About_2_5 = Films.loc[Films['Hear_About']=='2,5','Overall']\n",
    "Hear_About_3_4 = Films.loc[Films['Hear_About']=='3,4','Overall']\n",
    "Hear_About_4_5 = Films.loc[Films['Hear_About']=='4,5','Overall']\n",
    "Hear_About_1_5 = Films.loc[Films['Hear_About']=='1,5','Overall']\n",
    "Hear_About_5_4 = Films.loc[Films['Hear_About']=='5,4','Overall']\n",
    "Hear_About_3_5 = Films.loc[Films['Hear_About']=='3,5','Overall']"
   ]
  },
  {
   "cell_type": "code",
   "execution_count": 572,
   "id": "401e6681",
   "metadata": {},
   "outputs": [
    {
     "data": {
      "text/plain": [
       "0    2.0\n",
       "1    1.0\n",
       "2    2.0\n",
       "3    2.0\n",
       "5    1.0\n",
       "Name: Overall, dtype: float64"
      ]
     },
     "execution_count": 572,
     "metadata": {},
     "output_type": "execute_result"
    }
   ],
   "source": [
    "Hear_About_5.head()"
   ]
  },
  {
   "cell_type": "code",
   "execution_count": 573,
   "id": "a3e9c893",
   "metadata": {},
   "outputs": [
    {
     "data": {
      "text/plain": [
       "60    2.0\n",
       "Name: Overall, dtype: float64"
      ]
     },
     "execution_count": 573,
     "metadata": {},
     "output_type": "execute_result"
    }
   ],
   "source": [
    "Hear_About_1_5"
   ]
  },
  {
   "cell_type": "code",
   "execution_count": 574,
   "id": "a908e586",
   "metadata": {},
   "outputs": [
    {
     "data": {
      "text/plain": [
       "25     2.0\n",
       "26     2.0\n",
       "75     2.0\n",
       "117    1.0\n",
       "154    1.0\n",
       "Name: Overall, dtype: float64"
      ]
     },
     "execution_count": 574,
     "metadata": {},
     "output_type": "execute_result"
    }
   ],
   "source": [
    "Hear_About_3.head()"
   ]
  },
  {
   "cell_type": "code",
   "execution_count": 575,
   "id": "d06a33ea",
   "metadata": {},
   "outputs": [
    {
     "name": "stdout",
     "output_type": "stream",
     "text": [
      "Income1 mean : 1.639240506329114\n",
      "Income2 mean : 1.5853658536585367\n",
      "Income3 mean : 1.6222222222222222\n"
     ]
    }
   ],
   "source": [
    "print('Income1 mean :',Income1.mean())\n",
    "print('Income2 mean :',Income2.mean())\n",
    "print('Income3 mean :',Income3.mean())"
   ]
  },
  {
   "cell_type": "code",
   "execution_count": 576,
   "id": "c99f8784",
   "metadata": {},
   "outputs": [
    {
     "data": {
      "text/plain": [
       "F_onewayResult(statistic=1.4573975390851377, pvalue=0.15433478299883888)"
      ]
     },
     "execution_count": 576,
     "metadata": {},
     "output_type": "execute_result"
    }
   ],
   "source": [
    "# we have more than 2  independent groups of customer so we will perform ANOVA/ F-Test-Oneway\n",
    "\n",
    "stats.f_oneway(Hear_About_1,Hear_About_2,Hear_About_3,Hear_About_4,Hear_About_5,Hear_About_1_5,Hear_About_2_5,Hear_About_3_5,Hear_About_4_5,Hear_About_3_4,Hear_About_5_4)"
   ]
  },
  {
   "cell_type": "markdown",
   "id": "cf70b93c",
   "metadata": {},
   "source": [
    "### Business Conclusion:\n",
    "\n",
    "*defined p-value= 0.05*\n",
    "\n",
    "*Revised p-value is greater than defined p-value*\n",
    "\n",
    "*revised p-value=0.17251301465791738*\n",
    "\n",
    "*Since the revised p-value > defined p-value , so probability of H0 becoming True increases. Hence we fail to reject null hypothesis(H0)*\n",
    "\n",
    "*Therefore, we can claim that there is no relationship b/w  hear about and customer satisfaction.*\n",
    "\n",
    "*Hence we cannot say that hear about is the factor linked to customer satisfaction with the given sample.*\n"
   ]
  },
  {
   "cell_type": "markdown",
   "id": "90309992",
   "metadata": {},
   "source": [
    "#### Therefore we can say that Sinage, Cleanliness and Parking are the important factor for Customer Satisfaction."
   ]
  },
  {
   "cell_type": "markdown",
   "id": "51675251",
   "metadata": {},
   "source": [
    "### c) What is the demographic profile of Film on the Rocks patrons?\n"
   ]
  },
  {
   "cell_type": "code",
   "execution_count": 577,
   "id": "6c52cc00",
   "metadata": {},
   "outputs": [
    {
     "data": {
      "text/html": [
       "<div>\n",
       "<style scoped>\n",
       "    .dataframe tbody tr th:only-of-type {\n",
       "        vertical-align: middle;\n",
       "    }\n",
       "\n",
       "    .dataframe tbody tr th {\n",
       "        vertical-align: top;\n",
       "    }\n",
       "\n",
       "    .dataframe thead th {\n",
       "        text-align: right;\n",
       "    }\n",
       "</style>\n",
       "<table border=\"1\" class=\"dataframe\">\n",
       "  <thead>\n",
       "    <tr style=\"text-align: right;\">\n",
       "      <th></th>\n",
       "      <th>_rowstate_</th>\n",
       "      <th>Movie</th>\n",
       "      <th>Gender</th>\n",
       "      <th>Marital_Status</th>\n",
       "      <th>Sinage</th>\n",
       "      <th>Parking</th>\n",
       "      <th>Clean</th>\n",
       "      <th>Overall</th>\n",
       "      <th>Age</th>\n",
       "      <th>Income</th>\n",
       "      <th>Hear_About</th>\n",
       "    </tr>\n",
       "  </thead>\n",
       "  <tbody>\n",
       "    <tr>\n",
       "      <th>0</th>\n",
       "      <td>0</td>\n",
       "      <td>Ferris Buellers Day Off</td>\n",
       "      <td>Female</td>\n",
       "      <td>Married</td>\n",
       "      <td>2.0</td>\n",
       "      <td>2.0</td>\n",
       "      <td>2.0</td>\n",
       "      <td>2.0</td>\n",
       "      <td>3.0</td>\n",
       "      <td>1.0</td>\n",
       "      <td>5</td>\n",
       "    </tr>\n",
       "    <tr>\n",
       "      <th>1</th>\n",
       "      <td>0</td>\n",
       "      <td>Ferris Buellers Day Off</td>\n",
       "      <td>Female</td>\n",
       "      <td>Single</td>\n",
       "      <td>1.0</td>\n",
       "      <td>1.0</td>\n",
       "      <td>1.0</td>\n",
       "      <td>1.0</td>\n",
       "      <td>2.0</td>\n",
       "      <td>1.0</td>\n",
       "      <td>5</td>\n",
       "    </tr>\n",
       "    <tr>\n",
       "      <th>2</th>\n",
       "      <td>0</td>\n",
       "      <td>Ferris Buellers Day Off</td>\n",
       "      <td>Male</td>\n",
       "      <td>Married</td>\n",
       "      <td>2.0</td>\n",
       "      <td>4.0</td>\n",
       "      <td>3.0</td>\n",
       "      <td>2.0</td>\n",
       "      <td>4.0</td>\n",
       "      <td>1.0</td>\n",
       "      <td>5</td>\n",
       "    </tr>\n",
       "    <tr>\n",
       "      <th>3</th>\n",
       "      <td>0</td>\n",
       "      <td>Ferris Buellers Day Off</td>\n",
       "      <td>Female</td>\n",
       "      <td>Married</td>\n",
       "      <td>1.0</td>\n",
       "      <td>3.0</td>\n",
       "      <td>2.0</td>\n",
       "      <td>2.0</td>\n",
       "      <td>4.0</td>\n",
       "      <td>1.0</td>\n",
       "      <td>5</td>\n",
       "    </tr>\n",
       "    <tr>\n",
       "      <th>4</th>\n",
       "      <td>0</td>\n",
       "      <td>Ferris Buellers Day Off</td>\n",
       "      <td>Female</td>\n",
       "      <td>Married</td>\n",
       "      <td>1.0</td>\n",
       "      <td>1.0</td>\n",
       "      <td>1.0</td>\n",
       "      <td>1.0</td>\n",
       "      <td>3.0</td>\n",
       "      <td>3.0</td>\n",
       "      <td>1</td>\n",
       "    </tr>\n",
       "  </tbody>\n",
       "</table>\n",
       "</div>"
      ],
      "text/plain": [
       "   _rowstate_                    Movie  Gender Marital_Status  Sinage  \\\n",
       "0           0  Ferris Buellers Day Off  Female        Married     2.0   \n",
       "1           0  Ferris Buellers Day Off  Female         Single     1.0   \n",
       "2           0  Ferris Buellers Day Off    Male        Married     2.0   \n",
       "3           0  Ferris Buellers Day Off  Female        Married     1.0   \n",
       "4           0  Ferris Buellers Day Off  Female        Married     1.0   \n",
       "\n",
       "   Parking  Clean  Overall  Age  Income Hear_About  \n",
       "0      2.0    2.0      2.0  3.0     1.0          5  \n",
       "1      1.0    1.0      1.0  2.0     1.0          5  \n",
       "2      4.0    3.0      2.0  4.0     1.0          5  \n",
       "3      3.0    2.0      2.0  4.0     1.0          5  \n",
       "4      1.0    1.0      1.0  3.0     3.0          1  "
      ]
     },
     "execution_count": 577,
     "metadata": {},
     "output_type": "execute_result"
    }
   ],
   "source": [
    "Films.head()"
   ]
  },
  {
   "cell_type": "code",
   "execution_count": 578,
   "id": "ebc89e26",
   "metadata": {},
   "outputs": [
    {
     "data": {
      "image/png": "[encoded data removed]",
      "text/plain": [
       "<Figure size 640x480 with 1 Axes>"
      ]
     },
     "metadata": {},
     "output_type": "display_data"
    }
   ],
   "source": [
    "# Demographic profiles\n",
    "# gender\n",
    "\n",
    "gender_pie = Films.groupby(by='Gender')[['Gender']].count()\n",
    "gender_pie.plot(kind='pie',y='Gender',autopct='%1.2f%%',shadow=True,explode=[0.08,0.0])\n",
    "plt.legend(bbox_to_anchor =(1,0.9))\n",
    "plt.show()"
   ]
  },
  {
   "cell_type": "code",
   "execution_count": 579,
   "id": "f6f5542b",
   "metadata": {},
   "outputs": [
    {
     "data": {
      "image/png": "[encoded data removed]",
      "text/plain": [
       "<Figure size 640x480 with 1 Axes>"
      ]
     },
     "metadata": {},
     "output_type": "display_data"
    }
   ],
   "source": [
    "# Marital Status\n",
    "\n",
    "Marital_Status_pie = Films.groupby(by='Marital_Status')[['Marital_Status']].count()\n",
    "Marital_Status_pie .plot(kind='pie',y='Marital_Status',autopct='%1.2f%%',shadow=True,explode=[0.08,0.0])\n",
    "plt.legend(bbox_to_anchor =(1,0.9))\n",
    "plt.show()"
   ]
  },
  {
   "cell_type": "code",
   "execution_count": 580,
   "id": "1b866bb4",
   "metadata": {},
   "outputs": [
    {
     "data": {
      "text/plain": [
       "Index(['_rowstate_', 'Movie', 'Gender', 'Marital_Status', 'Sinage', 'Parking',\n",
       "       'Clean', 'Overall', 'Age', 'Income', 'Hear_About'],\n",
       "      dtype='object')"
      ]
     },
     "execution_count": 580,
     "metadata": {},
     "output_type": "execute_result"
    }
   ],
   "source": [
    "Films.columns"
   ]
  },
  {
   "cell_type": "code",
   "execution_count": 581,
   "id": "032a6b89",
   "metadata": {},
   "outputs": [
    {
     "data": {
      "image/png": "[encoded data removed]",
      "text/plain": [
       "<Figure size 640x480 with 1 Axes>"
      ]
     },
     "metadata": {},
     "output_type": "display_data"
    }
   ],
   "source": [
    "# Age groups\n",
    "\n",
    "Age_Gp_pie = Films.groupby(by='Age')[['Age']].count()\n",
    "Age_Gp_pie.plot(kind='pie',y='Age',labels=['1-12','13-30', '31-60',' 60+'],autopct='%1.2f%%',shadow=True,explode=[0.0,0.05,0.0,0.0])\n",
    "plt.legend(bbox_to_anchor =(1,0.9))\n",
    "plt.show()"
   ]
  },
  {
   "cell_type": "code",
   "execution_count": 582,
   "id": "6615e23f",
   "metadata": {},
   "outputs": [
    {
     "data": {
      "image/png": "[encoded data removed]",
      "text/plain": [
       "<Figure size 640x480 with 1 Axes>"
      ]
     },
     "metadata": {},
     "output_type": "display_data"
    }
   ],
   "source": [
    "# Income groups\n",
    "# 1 = Less than $50,000; 2 = $50-$100,000; 3 = $100,000+\n",
    "\n",
    "Income_gp = Films.groupby(by='Income')[['Income']].count()\n",
    "Income_gp.plot(kind='pie',y='Income',labels=['Less than $50,000','$50-$100,000', '$100,000+'],autopct='%1.2f%%',shadow=True,explode=[0.05,0.0,0.0])\n",
    "plt.legend(bbox_to_anchor =(1,0.9))\n",
    "plt.show()"
   ]
  },
  {
   "cell_type": "markdown",
   "id": "4018bcad",
   "metadata": {},
   "source": [
    "*Customers of Film on the Rocks fit the following demographic profile:*\n",
    "\n",
    "*1. There are 36.69% men and 63.31% women.*\n",
    "\n",
    "*2. There are 31.65% married people and 68.35% unmarried people.*\n",
    "\n",
    "*3. The age groups of 13–30 (51.44%) and 31–60 (31.05%) years account for nearly 82.49% of the people.*\n",
    "\n",
    "*4. Nearly 46.04 percent of persons earn less than $50,000.*"
   ]
  },
  {
   "cell_type": "markdown",
   "id": "34bd4dbf",
   "metadata": {},
   "source": [
    "### d) In what media outlet(s) should the film series be advertised?"
   ]
  },
  {
   "cell_type": "code",
   "execution_count": 583,
   "id": "dd06e7b6",
   "metadata": {},
   "outputs": [
    {
     "data": {
      "text/plain": [
       "Index(['_rowstate_', 'Movie', 'Gender', 'Marital_Status', 'Sinage', 'Parking',\n",
       "       'Clean', 'Overall', 'Age', 'Income', 'Hear_About'],\n",
       "      dtype='object')"
      ]
     },
     "execution_count": 583,
     "metadata": {},
     "output_type": "execute_result"
    }
   ],
   "source": [
    "Films.columns"
   ]
  },
  {
   "cell_type": "code",
   "execution_count": 585,
   "id": "959a1041",
   "metadata": {},
   "outputs": [
    {
     "data": {
      "text/plain": [
       "5      233\n",
       "4       41\n",
       "1       22\n",
       "3       14\n",
       "2       12\n",
       "2,5      2\n",
       "3,4      2\n",
       "4,5      1\n",
       "1,5      1\n",
       "5,4      1\n",
       "3,5      1\n",
       "Name: Hear_About, dtype: int64"
      ]
     },
     "execution_count": 585,
     "metadata": {},
     "output_type": "execute_result"
    }
   ],
   "source": [
    "Films.Hear_About.value_counts()"
   ]
  },
  {
   "cell_type": "code",
   "execution_count": 586,
   "id": "551c12cb",
   "metadata": {},
   "outputs": [],
   "source": [
    "# most of them are having 5 hear about so replacing them to 5\n",
    "Films.Hear_About.replace({'2,5':'5','3,5':'5','1,5':'5','4,5':'5','3,4':'5','5,4':'5'}, inplace=True)"
   ]
  },
  {
   "cell_type": "code",
   "execution_count": 587,
   "id": "323e1e81",
   "metadata": {},
   "outputs": [
    {
     "data": {
      "text/plain": [
       "5    241\n",
       "4     41\n",
       "1     22\n",
       "3     14\n",
       "2     12\n",
       "Name: Hear_About, dtype: int64"
      ]
     },
     "execution_count": 587,
     "metadata": {},
     "output_type": "execute_result"
    }
   ],
   "source": [
    "Films.Hear_About.value_counts()"
   ]
  },
  {
   "cell_type": "code",
   "execution_count": 588,
   "id": "63bc6b48",
   "metadata": {},
   "outputs": [],
   "source": [
    "# Now changing the datatype to float\n",
    "Films['Hear_About'] = Films.Hear_About.astype(float)"
   ]
  },
  {
   "cell_type": "code",
   "execution_count": 589,
   "id": "4e3998f4",
   "metadata": {},
   "outputs": [
    {
     "data": {
      "text/plain": [
       "dtype('float64')"
      ]
     },
     "execution_count": 589,
     "metadata": {},
     "output_type": "execute_result"
    }
   ],
   "source": [
    "Films.Hear_About.dtypes"
   ]
  },
  {
   "cell_type": "code",
   "execution_count": 590,
   "id": "27b03666",
   "metadata": {},
   "outputs": [
    {
     "data": {
      "image/png": "[encoded data removed]",
      "text/plain": [
       "<Figure size 640x480 with 1 Axes>"
      ]
     },
     "metadata": {},
     "output_type": "display_data"
    }
   ],
   "source": [
    "# 1 = television; 2 = newspaper; 3 = radio; 4 = website; 5 = word of mouth\n",
    "sns.histplot(Films.Hear_About)\n",
    "plt.show()"
   ]
  },
  {
   "cell_type": "markdown",
   "id": "6facaf7f",
   "metadata": {},
   "source": [
    "*From the given data, we know that 1 = television, 2 = newspaper, 3 = radio, 4 = website, 5 = word of mouth*\n",
    "\n",
    "*we can see from above plot that the 'word of mouth' i.e. 5.0 is having highest frequency but it does not comes under media outlet*\n",
    "\n",
    "*So, we'll go with the second one which is 4.0 i.e. 'website'*\n",
    "\n",
    "*Therefore, film series should be advertised through website.*\n",
    "\n"
   ]
  },
  {
   "cell_type": "code",
   "execution_count": null,
   "id": "58e65383",
   "metadata": {},
   "outputs": [],
   "source": []
  }
 ],
 "metadata": {
  "kernelspec": {
   "display_name": "Python 3 (ipykernel)",
   "language": "python",
   "name": "python3"
  },
  "language_info": {
   "codemirror_mode": {
    "name": "ipython",
    "version": 3
   },
   "file_extension": ".py",
   "mimetype": "text/x-python",
   "name": "python",
   "nbconvert_exporter": "python",
   "pygments_lexer": "ipython3",
   "version": "3.11.4"
  }
 },
 "nbformat": 4,
 "nbformat_minor": 5
}
